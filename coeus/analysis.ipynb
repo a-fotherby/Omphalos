{
 "cells": [
  {
   "cell_type": "code",
   "execution_count": 1,
   "outputs": [],
   "source": [
    "import sys\n",
    "\n",
    "sys.path.append('/Users/angus/work/omphalos')\n",
    "import omphalos\n",
    "from omphalos import file_methods as fm"
   ],
   "metadata": {
    "collapsed": false,
    "pycharm": {
     "name": "#%%\n"
    }
   }
  },
  {
   "cell_type": "code",
   "execution_count": 3,
   "outputs": [],
   "source": [
    "dataset = fm.unpickle('data/1086_test.pkl')"
   ],
   "metadata": {
    "collapsed": false,
    "pycharm": {
     "name": "#%%\n"
    }
   }
  },
  {
   "cell_type": "code",
   "execution_count": 6,
   "outputs": [
    {
     "name": "stdout",
     "output_type": "stream",
     "text": [
      "twos: 14\n",
      "threes 34\n"
     ]
    }
   ],
   "source": [
    "twos = 0\n",
    "threes = 0\n",
    "\n",
    "for i in dataset:\n",
    "    if dataset[i].error_code == 2:\n",
    "        twos += 1\n",
    "    elif dataset[i].error_code ==3:\n",
    "        threes += 1\n",
    "\n",
    "print(f'twos: {twos}')\n",
    "print(f'threes {threes}')"
   ],
   "metadata": {
    "collapsed": false,
    "pycharm": {
     "name": "#%%\n"
    }
   }
  },
  {
   "cell_type": "code",
   "execution_count": 5,
   "outputs": [
    {
     "data": {
      "text/plain": "{0: 'TITLE',\n 1: 'Generic ODP for Chris and Matt based off of 984',\n 2: 'END',\n 3: '',\n 4: 'RUNTIME',\n 5: 'timestep_max 100000.0',\n 6: 'timestep_init 1.e-12',\n 7: 'time_tolerance 0.0005',\n 8: 'correction_max 2.0',\n 9: 'debye-huckel true',\n 10: 'database_sweep false',\n 11: 'speciate_only false',\n 12: 'screen_output 10',\n 13: 'hindmarsh true',\n 14: 'BurchRateLaw false',\n 15: 'database reducedDatabase.dbs',\n 16: 'kinetic_database sulfateMethaneAqueous.dbs',\n 17: 'steady_state false',\n 18: 'graphics tecplot',\n 19: 'END',\n 20: '',\n 21: 'OUTPUT',\n 22: 'spatial_profile 1500000',\n 23: 'END',\n 24: '',\n 25: 'DISCRETIZATION',\n 26: 'xzones 10 20.0',\n 27: 'yzones 1 1',\n 28: 'zzones 1 1',\n 29: 'END',\n 30: '',\n 31: 'PRIMARY_SPECIES',\n 32: 'H+',\n 33: 'Al+++',\n 34: 'CO2(aq)',\n 35: 'NH3(aq)',\n 36: 'Mg++',\n 37: 'Ca++',\n 38: 'Ca44++',\n 39: 'Fe++',\n 40: 'Fe+++',\n 41: 'Cl-',\n 42: 'K+',\n 43: 'H2S(aq)',\n 44: 'H2S34(aq)',\n 45: 'SO4--',\n 46: 'S34O4--',\n 47: 'Na+',\n 48: 'SiO2(aq)',\n 49: 'O2(aq)',\n 50: 'B(OH)3(aq)',\n 51: 'HPO4--',\n 52: 'NO3-',\n 53: 'Methane(aq)',\n 54: 'Formaldehyde',\n 55: 'C5H7O2NSO4',\n 56: 'END',\n 57: '',\n 58: 'SECONDARY_SPECIES',\n 59: 'HNO3(aq)',\n 60: 'Al(OH)2+',\n 61: 'Al(SO4)2-',\n 62: 'Al(S34O4)2-',\n 63: 'AlO2-',\n 64: 'AlOH++',\n 65: 'HCO3-',\n 66: 'CO3--',\n 67: 'CaCl+',\n 68: 'Ca44Cl+',\n 69: 'CaCl2(aq)',\n 70: 'Ca44Cl2(aq)',\n 71: 'CaOH+',\n 72: 'Ca44OH+',\n 73: 'CaSO4(aq)',\n 74: 'CaS34O4(aq)',\n 75: 'Ca44SO4(aq)',\n 76: 'Ca44S34O4(aq)',\n 77: 'Fe(OH)2(aq)',\n 78: 'Fe(OH)3-',\n 79: 'Fe(OH)4--',\n 80: 'FeCl+',\n 81: 'FeCl2(aq)',\n 82: 'FeCl4--',\n 83: 'FeOH+',\n 84: 'FeSO4(aq)',\n 85: 'FeS34O4(aq)',\n 86: 'OH-',\n 87: 'HS-',\n 88: 'HS34-',\n 89: 'H2PO4-',\n 90: 'H3PO4(aq)',\n 91: 'HAlO2(aq)',\n 92: 'HSO4-',\n 93: 'HS34O4-',\n 94: 'HSiO3-',\n 95: 'KCl(aq)',\n 96: 'KHSO4(aq)',\n 97: 'KHS34O4(aq)',\n 98: 'KOH(aq)',\n 99: 'KSO4-',\n 100: 'KS34O4-',\n 101: 'NaAlO2(aq)',\n 102: 'NaCl(aq)',\n 103: 'NaHSiO3(aq)',\n 104: 'NaOH(aq)',\n 105: 'NaSO4-',\n 106: 'NaS34O4-',\n 107: 'NH4+',\n 108: 'H2(aq)',\n 109: 'CaHPO4(aq)',\n 110: 'Ca44HPO4(aq)',\n 111: 'CaPO4-',\n 112: 'Ca44PO4-',\n 113: 'FeCO3(aq)',\n 114: 'FeH2PO4+',\n 115: 'FeHPO4(aq)',\n 116: 'FePO4-',\n 117: 'KHPO4-',\n 118: 'PO4---',\n 119: 'S--',\n 120: 'S34--',\n 121: 'BO2-',\n 122: 'MgB(OH)4+',\n 123: 'END',\n 124: '',\n 125: 'GASES',\n 126: 'CO2(g)',\n 127: 'CH4(g)',\n 128: 'END',\n 129: '',\n 130: 'MINERALS',\n 131: 'FeS(am) -rate -9.0',\n 132: 'FeS34(am) -rate -9.0',\n 133: 'Siderite -rate -10.0',\n 134: 'SiO2(am) -rate -9.0',\n 135: 'Quartz -default -rate -30.0',\n 136: 'Calcite -label default -rate -9.5',\n 137: 'Calcite44 -label default -rate -9.501740662',\n 138: 'K-Feldspar -rate -19.0',\n 139: 'Kaolinite -rate -19.2',\n 140: 'C5H7O2NSO4(s) -label default -rate -2.0',\n 141: 'END',\n 142: '',\n 143: 'AQUEOUS_KINETICS',\n 144: 'Sulfate_reduction -rate 75',\n 145: 'Sulfate34_reduction -rate 71.8',\n 146: 'END',\n 147: '',\n 148: 'BOUNDARY_CONDITIONS',\n 149: 'x_begin Seawater Dirichlet',\n 150: 'x_end Seawater flux',\n 151: 'END',\n 152: '',\n 153: 'TRANSPORT',\n 154: 'distance_units centimeters',\n 155: 'time_units seconds',\n 156: 'calculate_diffusion 0.919e-05',\n 157: 'END',\n 158: '',\n 159: 'FLOW',\n 160: 'distance_units meters',\n 161: 'time_units years',\n 162: 'constant_flow 0.000054',\n 163: 'END',\n 164: '',\n 165: 'TEMPERATURE',\n 166: 'set_temperature 8',\n 167: 'END',\n 168: '',\n 169: 'POROSITY',\n 170: 'fix_porosity 0.60',\n 171: 'END',\n 172: '',\n 173: 'EROSION/BURIAL',\n 174: 'time_units years',\n 175: 'distance_units meters',\n 176: 'erode_x 0.000054',\n 177: 'END',\n 178: '',\n 179: 'INITIAL_CONDITIONS',\n 180: 'Seawater 1-10 1-1 1-1',\n 181: 'END',\n 182: '',\n 183: 'ISOTOPES',\n 184: 'primary Ca44++ Ca++ 0.0212075584',\n 185: 'primary H2S34(aq) H2S(aq) 0.0441626',\n 186: 'primary S34O4-- SO4-- 0.0441626',\n 187: 'mineral Calcite44 Calcite bulk',\n 188: 'mineral FeS34(am) FeS(am) none',\n 189: 'END',\n 190: '',\n 191: 'CONDITION Seawater',\n 192: 'temperature 4.0',\n 193: 'pH 8.15',\n 194: 'CO2(aq) 47.551111914282835',\n 195: 'O2(aq) 180.0e-06',\n 196: 'NH3(aq) 1.480e-09',\n 197: 'Mg++ 5.110e-2',\n 198: 'Al+++ 0.037e-6',\n 199: 'Fe++ 2.600e-5',\n 200: 'Fe+++ 1.000e-13',\n 201: 'Ca++ 30.433462056241467',\n 202: 'Ca44++ 1.061337615E-3',\n 203: 'K+ 1.200e-02',\n 204: 'SO4-- 28.49675760457549',\n 205: 'S34O4-- 1.127E-3',\n 206: 'B(OH)3(aq) 0.400e-03',\n 207: 'HPO4-- 1.700e-06',\n 208: 'H2S(aq) 1.000e-15',\n 209: 'H2S34(aq) 1.000e-15',\n 210: 'SiO2(aq) 1.57e-04',\n 211: 'Na+ 4.740e-01',\n 212: 'Methane(aq) 1e-08',\n 213: 'Cl- charge',\n 214: 'NO3- 3.9e-5',\n 215: 'Formaldehyde 32.1624237632205',\n 216: 'C5H7O2NSO4 C5H7O2NSO4(s)',\n 217: 'FeS(am) 0.00001 0.2',\n 218: 'FeS34(am) 4.5090014600E-07 0.2',\n 219: 'SiO2(am) 0.00 0.2',\n 220: 'Quartz 1E-10 1.0',\n 221: 'Siderite 1E-10 1.0',\n 222: 'Calcite 0.31335679 1.0',\n 223: 'Calcite44 0.00664321 1.0',\n 224: 'K-Feldspar 0.02 ssa 55.0',\n 225: 'Kaolinite 0.02 ssa 55.0',\n 226: 'C5H7O2NSO4(s) 5.189E-6',\n 227: 'END',\n 228: ''}"
     },
     "execution_count": 5,
     "metadata": {},
     "output_type": "execute_result"
    }
   ],
   "source": [
    "dataset[0].raw"
   ],
   "metadata": {
    "collapsed": false,
    "pycharm": {
     "name": "#%%\n"
    }
   }
  },
  {
   "cell_type": "code",
   "execution_count": null,
   "outputs": [],
   "source": [],
   "metadata": {
    "collapsed": false,
    "pycharm": {
     "name": "#%%\n"
    }
   }
  }
 ],
 "metadata": {
  "kernelspec": {
   "name": "omphalos",
   "language": "python",
   "display_name": "Python (omphalos)"
  },
  "language_info": {
   "codemirror_mode": {
    "name": "ipython",
    "version": 2
   },
   "file_extension": ".py",
   "mimetype": "text/x-python",
   "name": "python",
   "nbconvert_exporter": "python",
   "pygments_lexer": "ipython2",
   "version": "2.7.6"
  }
 },
 "nbformat": 4,
 "nbformat_minor": 0
}
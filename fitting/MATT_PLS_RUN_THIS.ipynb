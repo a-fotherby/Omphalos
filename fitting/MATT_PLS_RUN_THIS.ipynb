{
 "cells": [
  {
   "cell_type": "code",
   "execution_count": 170,
   "metadata": {},
   "outputs": [],
   "source": [
    "# Set seeds for repeatability.\n",
    "from numpy.random import seed\n",
    "seed(1)\n",
    "\n",
    "from context import omphalos\n",
    "\n",
    "# Import data processing modules.\n",
    "import pandas as pd\n",
    "import numpy as np\n",
    "\n",
    "import gpflow\n",
    "\n",
    "import tensorflow as tf\n",
    "import tensorflow_probability as tfp\n",
    "\n",
    "from gpflow.ci_utils import ci_niter\n",
    "from gpflow import set_trainable\n",
    "\n",
    "from gpflow.utilities import print_summary, set_trainable, to_default_float\n",
    "\n",
    "# convert to float64 for tfp to play nicely with gpflow in 64\n",
    "f64 = gpflow.utilities.to_default_float\n",
    "\n",
    "# Import Omphalos modules.\n",
    "from omphalos import generate_inputs as gi\n",
    "from omphalos import file_methods as fm\n",
    "from omphalos import my_metrics as mm\n",
    "from omphalos import omphalos_plotter as op\n",
    "from omphalos import attributes as attr\n",
    "from omphalos import labels as lbls\n",
    "\n",
    "# Import data visualisation modules.\n",
    "import seaborn as sns\n",
    "import matplotlib.pyplot as plt\n",
    "\n",
    "# Import sklearn. \n",
    "import sklearn.preprocessing as skp\n",
    "import sklearn.gaussian_process as gp\n",
    "import sklearn.gaussian_process.kernels as kernels"
   ]
  },
  {
   "cell_type": "code",
   "execution_count": 2,
   "metadata": {},
   "outputs": [
    {
     "name": "stderr",
     "output_type": "stream",
     "text": [
      "/usr/local/lib/python3.8/site-packages/pandas/core/frame.py:6390: SettingWithCopyWarning: \n",
      "A value is trying to be set on a copy of a slice from a DataFrame.\n",
      "Try using .loc[row_indexer,col_indexer] = value instead\n",
      "\n",
      "See the caveats in the documentation: https://pandas.pydata.org/pandas-docs/stable/user_guide/indexing.html#returning-a-view-versus-a-copy\n",
      "  self[col] = expressions.where(mask, this, that)\n"
     ]
    }
   ],
   "source": [
    "train_set = fm.unpickle('data/rifle_train.pickle')\n",
    "\n",
    "attributes_df = attr.boundary_condition(train_set, boundary='x_begin')\n",
    "labels_df = lbls.secondary_precip(train_set)"
   ]
  },
  {
   "cell_type": "markdown",
   "metadata": {},
   "source": [
    "# SK-learn pipeline"
   ]
  },
  {
   "cell_type": "code",
   "execution_count": 3,
   "metadata": {},
   "outputs": [],
   "source": [
    "x = attributes_df.loc[:, ['NH4+', 'SO4--','Ca++', 'Acetate', 'CO2(aq)']]\n",
    "y = labels_df.xs(1, level=1)['CalciteRifle']\n",
    "\n",
    "from sklearn.model_selection import train_test_split\n",
    "\n",
    "x_train, x_test, y_train, y_test = train_test_split(x, y, test_size=0.8)"
   ]
  },
  {
   "cell_type": "code",
   "execution_count": 4,
   "metadata": {},
   "outputs": [
    {
     "name": "stdout",
     "output_type": "stream",
     "text": [
      "(1996, 5)\n",
      "(1996, 1)\n"
     ]
    }
   ],
   "source": [
    "print(np.shape(x_train.to_numpy()))\n",
    "print(np.shape(y_train.to_numpy().reshape(-1,1)))"
   ]
  },
  {
   "cell_type": "code",
   "execution_count": 5,
   "metadata": {},
   "outputs": [],
   "source": [
    "x_train = x_train.to_numpy() \n",
    "y_train = y_train.to_numpy().reshape(-1,1)"
   ]
  },
  {
   "cell_type": "code",
   "execution_count": 166,
   "metadata": {},
   "outputs": [
    {
     "name": "stdout",
     "output_type": "stream",
     "text": [
      "╒═══════════════════════╤═══════════╤═════════════╤═════════╤═════════════╤═════════╤═════════╤═══════════════════════╕\n",
      "│ name                  │ class     │ transform   │ prior   │ trainable   │ shape   │ dtype   │ value                 │\n",
      "╞═══════════════════════╪═══════════╪═════════════╪═════════╪═════════════╪═════════╪═════════╪═══════════════════════╡\n",
      "│ Matern32.variance     │ Parameter │ Softplus    │ Gamma   │ True        │ ()      │ float64 │ 0.0004999999999999997 │\n",
      "├───────────────────────┼───────────┼─────────────┼─────────┼─────────────┼─────────┼─────────┼───────────────────────┤\n",
      "│ Matern32.lengthscales │ Parameter │ Softplus    │ Gamma   │ True        │ (3,)    │ float64 │ [10. 30. 10.]         │\n",
      "╘═══════════════════════╧═══════════╧═════════════╧═════════╧═════════════╧═════════╧═════════╧═══════════════════════╛\n",
      "╒═════════════════════════╤═══════════╤══════════════════╤═════════╤═════════════╤═════════╤═════════╤═══════════════════════╕\n",
      "│ name                    │ class     │ transform        │ prior   │ trainable   │ shape   │ dtype   │ value                 │\n",
      "╞═════════════════════════╪═══════════╪══════════════════╪═════════╪═════════════╪═════════╪═════════╪═══════════════════════╡\n",
      "│ GPR.kernel.variance     │ Parameter │ Softplus         │ Gamma   │ True        │ ()      │ float64 │ 0.0004999999999999997 │\n",
      "├─────────────────────────┼───────────┼──────────────────┼─────────┼─────────────┼─────────┼─────────┼───────────────────────┤\n",
      "│ GPR.kernel.lengthscales │ Parameter │ Softplus         │ Gamma   │ True        │ (3,)    │ float64 │ [10. 30. 10.]         │\n",
      "├─────────────────────────┼───────────┼──────────────────┼─────────┼─────────────┼─────────┼─────────┼───────────────────────┤\n",
      "│ GPR.likelihood.variance │ Parameter │ Softplus + Shift │ Gamma   │ True        │ ()      │ float64 │ 1.0                   │\n",
      "╘═════════════════════════╧═══════════╧══════════════════╧═════════╧═════════════╧═════════╧═════════╧═══════════════════════╛\n"
     ]
    }
   ],
   "source": [
    "k = gpflow.kernels.Matern32(variance=0.0005, lengthscales=[10, 30, 10], active_dims=[1,2,4])\n",
    "\n",
    "k.variance.prior = tfp.distributions.Gamma(concentration=f64([1,1,1]), rate=f64([0.0002, 0.0002, 0.0002]))\n",
    "k.lengthscales.prior = tfp.distributions.Gamma(concentration=f64([1,1,1]), rate=f64([0.11, 0.185, 31]))\n",
    "print_summary(k)\n",
    "\n",
    "\n",
    "m = gpflow.models.GPR(data=(x_train, y_train), kernel=k, mean_function=None)\n",
    "m.likelihood.variance.prior = tfp.distributions.Gamma(concentration=f64([1,1,1]), rate=f64([0.0002, 0.0002, 0.0002]))\n",
    "\n",
    "print_summary(m)\n",
    "\n",
    "opt = gpflow.optimizers.Scipy()"
   ]
  },
  {
   "cell_type": "code",
   "execution_count": 167,
   "metadata": {},
   "outputs": [
    {
     "name": "stdout",
     "output_type": "stream",
     "text": [
      "╒═════════════════════════╤═══════════╤══════════════════╤═════════╤═════════════╤═════════╤═════════╤══════════════════════════════════════════╕\n",
      "│ name                    │ class     │ transform        │ prior   │ trainable   │ shape   │ dtype   │ value                                    │\n",
      "╞═════════════════════════╪═══════════╪══════════════════╪═════════╪═════════════╪═════════╪═════════╪══════════════════════════════════════════╡\n",
      "│ GPR.kernel.variance     │ Parameter │ Softplus         │ Gamma   │ True        │ ()      │ float64 │ 1.0985776611345657e-05                   │\n",
      "├─────────────────────────┼───────────┼──────────────────┼─────────┼─────────────┼─────────┼─────────┼──────────────────────────────────────────┤\n",
      "│ GPR.kernel.lengthscales │ Parameter │ Softplus         │ Gamma   │ True        │ (3,)    │ float64 │ [177.42821698  35.80027989   2.29818604] │\n",
      "├─────────────────────────┼───────────┼──────────────────┼─────────┼─────────────┼─────────┼─────────┼──────────────────────────────────────────┤\n",
      "│ GPR.likelihood.variance │ Parameter │ Softplus + Shift │ Gamma   │ True        │ ()      │ float64 │ 1.0000000002369248e-06                   │\n",
      "╘═════════════════════════╧═══════════╧══════════════════╧═════════╧═════════════╧═════════╧═════════╧══════════════════════════════════════════╛\n",
      "log posterior density at optimum: 11578.832679861654\n"
     ]
    }
   ],
   "source": [
    "opt_logs = opt.minimize(m.training_loss, m.trainable_variables, options=dict(maxiter=500))\n",
    "print_summary(m)\n",
    "\n",
    "print(f\"log posterior density at optimum: {m.log_posterior_density()}\")"
   ]
  },
  {
   "cell_type": "code",
   "execution_count": null,
   "metadata": {},
   "outputs": [],
   "source": [
    "num_burnin_steps = ci_niter(300)\n",
    "num_samples = ci_niter(500)\n",
    "\n",
    "# Note that here we need model.trainable_parameters, not trainable_variables - only parameters can have priors!\n",
    "hmc_helper = gpflow.optimizers.SamplingHelper(\n",
    "    m.log_posterior_density, m.trainable_parameters\n",
    ")\n",
    "\n",
    "hmc = tfp.mcmc.HamiltonianMonteCarlo(\n",
    "    target_log_prob_fn=hmc_helper.target_log_prob_fn, num_leapfrog_steps=10, step_size=0.01\n",
    ")\n",
    "adaptive_hmc = tfp.mcmc.SimpleStepSizeAdaptation(\n",
    "    hmc, num_adaptation_steps=10, target_accept_prob=f64(0.75), adaptation_rate=0.1\n",
    ")\n",
    "\n",
    "\n",
    "@tf.function\n",
    "def run_chain_fn():\n",
    "    return tfp.mcmc.sample_chain(\n",
    "        num_results=num_samples,\n",
    "        num_burnin_steps=num_burnin_steps,\n",
    "        current_state=hmc_helper.current_state,\n",
    "        kernel=adaptive_hmc,\n",
    "        trace_fn=lambda _, pkr: pkr.inner_results.is_accepted,\n",
    "    )\n",
    "\n",
    "\n",
    "samples, traces = run_chain_fn()\n",
    "parameter_samples = hmc_helper.convert_to_constrained_values(samples)\n",
    "\n",
    "param_to_name = {param: name for name, param in gpflow.utilities.parameter_dict(m).items()}"
   ]
  },
  {
   "cell_type": "code",
   "execution_count": null,
   "metadata": {},
   "outputs": [],
   "source": [
    "def plot_samples(samples, parameters, y_axis_label):\n",
    "    plt.figure(figsize=(8, 4))\n",
    "    for val, param in zip(samples, parameters):\n",
    "        plt.plot(tf.squeeze(val), label=param_to_name[param])\n",
    "    plt.legend(bbox_to_anchor=(1.0, 1.0))\n",
    "    plt.xlabel(\"HMC iteration\")\n",
    "    plt.ylabel(y_axis_label)\n",
    "\n",
    "\n",
    "plot_samples(samples, m.trainable_parameters, \"unconstrained values\")\n",
    "plot_samples(parameter_samples, m.trainable_parameters, \"constrained parameter values\")"
   ]
  },
  {
   "cell_type": "code",
   "execution_count": null,
   "metadata": {},
   "outputs": [],
   "source": [
    "def marginal_samples(samples, parameters, y_axis_label):\n",
    "    fig, axes = plt.subplots(1, len(param_to_name), figsize=(15, 3), constrained_layout=True)\n",
    "    for ax, val, param in zip(axes, samples, parameters):\n",
    "        ax.hist(np.stack(val).flatten(), bins=20)\n",
    "        ax.set_title(param_to_name[param])\n",
    "    fig.suptitle(y_axis_label)\n",
    "    plt.show()\n",
    "\n",
    "\n",
    "marginal_samples(samples, m.trainable_parameters, \"unconstrained variable samples\")\n",
    "marginal_samples(parameter_samples, m.trainable_parameters, \"constrained parameter samples\")"
   ]
  },
  {
   "cell_type": "code",
   "execution_count": null,
   "metadata": {},
   "outputs": [],
   "source": [
    "def plot_joint_marginals(samples, parameters, y_axis_label):\n",
    "    name_to_index = {param_to_name[param]: i for i, param in enumerate(parameters)}\n",
    "    f, axs = plt.subplots(1, 3, figsize=(12, 4), constrained_layout=True)\n",
    "\n",
    "    axs[0].plot(\n",
    "        samples[name_to_index[\".likelihood.variance\"]],\n",
    "        samples[name_to_index[\".kernel.variance\"]],\n",
    "        \"k.\",\n",
    "        alpha=0.15,\n",
    "    )\n",
    "    axs[0].set_xlabel(\"noise_variance\")\n",
    "    axs[0].set_ylabel(\"signal_variance\")\n",
    "\n",
    "    axs[1].plot(\n",
    "        samples[name_to_index[\".likelihood.variance\"]],\n",
    "        samples[name_to_index[\".kernel.lengthscales\"]],\n",
    "        \"k.\",\n",
    "        alpha=0.15,\n",
    "    )\n",
    "    axs[1].set_xlabel(\"noise_variance\")\n",
    "    axs[1].set_ylabel(\"lengthscale\")\n",
    "\n",
    "    axs[2].plot(\n",
    "        samples[name_to_index[\".kernel.lengthscales\"]],\n",
    "        samples[name_to_index[\".kernel.variance\"]],\n",
    "        \"k.\",\n",
    "        alpha=0.1,\n",
    "    )\n",
    "    axs[2].set_xlabel(\"lengthscale\")\n",
    "    axs[2].set_ylabel(\"signal_variance\")\n",
    "    f.suptitle(y_axis_label)\n",
    "    plt.show()\n",
    "\n",
    "\n",
    "plot_joint_marginals(samples, m.trainable_parameters, \"unconstrained variable samples\")\n",
    "plot_joint_marginals(parameter_samples, m.trainable_parameters, \"parameter samples\")"
   ]
  },
  {
   "cell_type": "code",
   "execution_count": null,
   "metadata": {},
   "outputs": [],
   "source": [
    "# plot the function posterior\n",
    "xx = np.linspace(-0.1, 1.1, 100)[:, None]\n",
    "plt.figure(figsize=(12, 6))\n",
    "\n",
    "for i in range(0, num_samples, 20):\n",
    "    for var, var_samples in zip(hmc_helper.current_state, samples):\n",
    "        var.assign(var_samples[i])\n",
    "    f = m.predict_f_samples(xx, 1)\n",
    "    plt.plot(xx, f[0, :, :], \"C0\", lw=2, alpha=0.3)\n",
    "\n",
    "plt.plot(X, Y, \"kx\", mew=2)\n",
    "_ = plt.xlim(xx.min(), xx.max())\n",
    "_ = plt.ylim(0, 6)\n",
    "plt.xlabel(\"$x$\")\n",
    "plt.ylabel(\"$f|X,Y$\")\n",
    "plt.title(\"Posterior GP samples\")\n",
    "\n",
    "plt.show()"
   ]
  },
  {
   "cell_type": "markdown",
   "metadata": {},
   "source": [
    "# Plot cross-section of model."
   ]
  },
  {
   "cell_type": "code",
   "execution_count": 168,
   "metadata": {},
   "outputs": [
    {
     "name": "stdout",
     "output_type": "stream",
     "text": [
      "(50, 5)\n",
      "(50, 1)\n"
     ]
    },
    {
     "data": {
      "text/plain": [
       "[<matplotlib.lines.Line2D at 0x1532a97c0>]"
      ]
     },
     "execution_count": 168,
     "metadata": {},
     "output_type": "execute_result"
    },
    {
     "data": {
      "image/png": "[encoded data removed]",
      "text/plain": [
       "<Figure size 748.8x514.8 with 1 Axes>"
      ]
     },
     "metadata": {
      "needs_background": "light"
     },
     "output_type": "display_data"
    }
   ],
   "source": [
    "samples = 50\n",
    "x_pred = np.ones((samples, 5))\n",
    "x_pred[:,0] = 1.5\n",
    "x_pred[:,2] = 5\n",
    "x_pred[:,4] = 0.0325\n",
    "#x_pred[:,1] = x.to_numpy()[:,1].mean()\n",
    "x_pred[:,1] =  np.linspace(0.0, 60.0, samples)\n",
    "x_pred[:,3] = 9.7\n",
    "print(np.shape(x_pred))\n",
    "mean, var = m.predict_f(x_pred)\n",
    "print(np.shape(mean))\n",
    "\n",
    "\n",
    "tf.random.set_seed(1)  # for reproducibility\n",
    "samples = m.predict_f_samples(x_pred, 10)  \n",
    "\n",
    "plt.style.use('seaborn-talk')\n",
    "plt.plot(x_pred[:,1], mean, \"C0\", lw=2)"
   ]
  }
 ],
 "metadata": {
  "kernelspec": {
   "display_name": "Python 3",
   "language": "python",
   "name": "python3"
  },
  "language_info": {
   "codemirror_mode": {
    "name": "ipython",
    "version": 3
   },
   "file_extension": ".py",
   "mimetype": "text/x-python",
   "name": "python",
   "nbconvert_exporter": "python",
   "pygments_lexer": "ipython3",
   "version": "3.8.6"
  }
 },
 "nbformat": 4,
 "nbformat_minor": 4
}

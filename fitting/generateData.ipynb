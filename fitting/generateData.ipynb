{
 "cells": [
  {
   "cell_type": "code",
   "execution_count": 1,
   "metadata": {},
   "outputs": [],
   "source": [
    "from context import omphalos\n",
    "\n",
    "import numpy as np\n",
    "import matplotlib as pyplot\n",
    "import omphalos.file_methods as fm\n",
    "import omphalos.input_file as ipf\n",
    "import omphalos.generate_inputs_scan as gi\n",
    "import sys\n",
    "import subprocess\n",
    "import pickle"
   ]
  },
  {
   "cell_type": "markdown",
   "metadata": {},
   "source": [
    "__Remember to test your input file on its own first!__\n",
    "\n",
    "__Remember to update your database files in /tmp__!"
   ]
  },
  {
   "cell_type": "code",
   "execution_count": 2,
   "metadata": {},
   "outputs": [
    {
     "name": "stdout",
     "output_type": "stream",
     "text": [
      "*** Importing template file ***\n",
      "BaseException: This is normally due to a commented line in the input file. If it is not, something has gone really wrong!\n",
      "BaseException: This is normally due to a commented line in the input file. If it is not, something has gone really wrong!\n",
      "BaseException: This is normally due to a commented line in the input file. If it is not, something has gone really wrong!\n",
      "BaseException: This is normally due to a commented line in the input file. If it is not, something has gone really wrong!\n",
      "BaseException: This is normally due to a commented line in the input file. If it is not, something has gone really wrong!\n",
      "BaseException: This is normally due to a commented line in the input file. If it is not, something has gone really wrong!\n",
      "The keyword \"ION_EXCHANGE\" you searched for does not exist. If you are sure that this keyword is in your input file, check your spelling.\n",
      "The keyword \"SURFACE_COMPLEXATION\" you searched for does not exist. If you are sure that this keyword is in your input file, check your spelling.\n",
      "BaseException: This is normally due to a commented line in the input file. If it is not, something has gone really wrong!\n",
      "BaseException: This is normally due to a commented line in the input file. If it is not, something has gone really wrong!\n",
      "BaseException: This is normally due to a commented line in the input file. If it is not, something has gone really wrong!\n",
      "The keyword \"PEST\" you searched for does not exist. If you are sure that this keyword is in your input file, check your spelling.\n",
      "*** Creating randomised input files ***\n",
      "*** Begin running input files ***\n",
      "File 0 complete.\n",
      "File 1 complete.\n",
      "File 2 complete.\n",
      "File 3 complete.\n",
      "File 4 complete.\n",
      "File 5 complete.\n",
      "File 6 complete.\n",
      "File 7 complete.\n",
      "File 8 complete.\n",
      "File 9 complete.\n",
      "File 10 complete.\n",
      "File 11 complete.\n",
      "File 12 complete.\n",
      "File 13 complete.\n",
      "File 14 complete.\n",
      "File 15 complete.\n",
      "File 16 complete.\n",
      "File 17 complete.\n",
      "File 18 complete.\n",
      "File 19 complete.\n",
      "File 20 complete.\n",
      "File 21 complete.\n",
      "File 22 complete.\n",
      "File 23 complete.\n",
      "File 24 complete.\n",
      "File 25 complete.\n",
      "File 26 complete.\n",
      "File 27 complete.\n",
      "File 28 complete.\n",
      "File 29 complete.\n",
      "File 30 complete.\n",
      "File 31 complete.\n",
      "File 32 complete.\n",
      "File 33 complete.\n",
      "File 34 complete.\n",
      "File 35 complete.\n",
      "File 36 complete.\n",
      "File 37 complete.\n",
      "File 38 complete.\n",
      "File 39 complete.\n",
      "File 40 complete.\n",
      "File 41 complete.\n",
      "File 42 complete.\n",
      "File 43 complete.\n",
      "File 44 complete.\n",
      "File 45 complete.\n",
      "File 46 complete.\n",
      "File 47 complete.\n",
      "File 48 complete.\n",
      "File 49 complete.\n"
     ]
    }
   ],
   "source": [
    "# Import a template CT input file and iterate on it to make a test set, training set, and validation set.\n",
    "template = gi.import_template('1086model/Site1086.in')\n",
    "\n",
    "train_set = gi.generate_data_set(template, 'Seawater', 50, 'train')"
   ]
  },
  {
   "cell_type": "code",
   "execution_count": 3,
   "metadata": {},
   "outputs": [],
   "source": [
    "# Pickle the data.\n",
    "fm.pickle_data_set(train_set, 'data/1086_ca_sweep')"
   ]
  },
  {
   "cell_type": "code",
   "execution_count": null,
   "metadata": {},
   "outputs": [],
   "source": [
    "train_set"
   ]
  },
  {
   "cell_type": "code",
   "execution_count": null,
   "metadata": {},
   "outputs": [],
   "source": []
  }
 ],
 "metadata": {
  "kernelspec": {
   "display_name": "Python 3",
   "language": "python",
   "name": "python3"
  },
  "language_info": {
   "codemirror_mode": {
    "name": "ipython",
    "version": 3
   },
   "file_extension": ".py",
   "mimetype": "text/x-python",
   "name": "python",
   "nbconvert_exporter": "python",
   "pygments_lexer": "ipython3",
   "version": "3.8.6"
  }
 },
 "nbformat": 4,
 "nbformat_minor": 4
}

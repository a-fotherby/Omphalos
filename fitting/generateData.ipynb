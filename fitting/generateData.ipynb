{
 "cells": [
  {
   "cell_type": "code",
   "execution_count": 1,
   "metadata": {},
   "outputs": [],
   "source": [
    "from context import omphalos\n",
    "\n",
    "import numpy as np\n",
    "import matplotlib as pyplot\n",
    "import omphalos.file_methods as fm\n",
    "import omphalos.input_file as ipf\n",
    "import omphalos.generate_inputs as gi\n",
    "import omphalos.run\n",
    "import sys\n",
    "import subprocess\n",
    "import pickle"
   ]
  },
  {
   "cell_type": "markdown",
   "metadata": {},
   "source": [
    "__Remember to test your input file on its own first!__\n",
    "\n",
    "__Remember to update your database files in /tmp__!"
   ]
  },
  {
   "cell_type": "code",
   "execution_count": 2,
   "metadata": {},
   "outputs": [
    {
     "name": "stdout",
     "output_type": "stream",
     "text": [
      "*** Importing template file ***\n",
      "BaseException: This is normally due to a commented line in the input file. If it is not, something has gone really wrong!\n",
      "BaseException: This is normally due to a commented line in the input file. If it is not, something has gone really wrong!\n",
      "BaseException: This is normally due to a commented line in the input file. If it is not, something has gone really wrong!\n",
      "BaseException: This is normally due to a commented line in the input file. If it is not, something has gone really wrong!\n",
      "BaseException: This is normally due to a commented line in the input file. If it is not, something has gone really wrong!\n",
      "BaseException: This is normally due to a commented line in the input file. If it is not, something has gone really wrong!\n",
      "The keyword \"ION_EXCHANGE\" you searched for does not exist. If you are sure that this keyword is in your input file, check your spelling.\n",
      "The keyword \"SURFACE_COMPLEXATION\" you searched for does not exist. If you are sure that this keyword is in your input file, check your spelling.\n",
      "BaseException: This is normally due to a commented line in the input file. If it is not, something has gone really wrong!\n",
      "BaseException: This is normally due to a commented line in the input file. If it is not, something has gone really wrong!\n",
      "BaseException: This is normally due to a commented line in the input file. If it is not, something has gone really wrong!\n",
      "The keyword \"PEST\" you searched for does not exist. If you are sure that this keyword is in your input file, check your spelling.\n",
      "*** Creating randomised input files ***\n",
      "*** Begin running input files ***\n",
      "/Users/angus/soft/crunchtope/CrunchTope\n",
      "File 0 complete.\n",
      "/Users/angus/soft/crunchtope/CrunchTope\n",
      "File 1 complete.\n",
      "/Users/angus/soft/crunchtope/CrunchTope\n",
      "File 2 complete.\n",
      "/Users/angus/soft/crunchtope/CrunchTope\n",
      "File 3 complete.\n",
      "/Users/angus/soft/crunchtope/CrunchTope\n",
      "File 4 complete.\n",
      "/Users/angus/soft/crunchtope/CrunchTope\n",
      "File 5 complete.\n",
      "/Users/angus/soft/crunchtope/CrunchTope\n",
      "File 6 complete.\n",
      "/Users/angus/soft/crunchtope/CrunchTope\n",
      "File 7 complete.\n",
      "/Users/angus/soft/crunchtope/CrunchTope\n",
      "File 8 complete.\n",
      "/Users/angus/soft/crunchtope/CrunchTope\n",
      "File 9 complete.\n"
     ]
    }
   ],
   "source": [
    "# Import a template CT input file and iterate on it to make a test set, training set, and validation set.\n",
    "dataset = gi.make_dataset('template.yaml')"
   ]
  },
  {
   "cell_type": "code",
   "execution_count": null,
   "metadata": {},
   "outputs": [],
   "source": [
    "# Pickle the data.\n",
    "fm.pickle_data_set(train_set, 'data/1086_ca_sweep')"
   ]
  },
  {
   "cell_type": "code",
   "execution_count": 5,
   "metadata": {},
   "outputs": [
    {
     "data": {
      "text/plain": [
       "{0: <omphalos.input_file.InputFile at 0x120cf47f0>,\n",
       " 1: <omphalos.input_file.InputFile at 0x120cf41c0>,\n",
       " 2: <omphalos.input_file.InputFile at 0x120c54c10>,\n",
       " 3: <omphalos.input_file.InputFile at 0x120cf4280>,\n",
       " 4: <omphalos.input_file.InputFile at 0x120cf6a00>,\n",
       " 5: <omphalos.input_file.InputFile at 0x116f0b310>,\n",
       " 6: <omphalos.input_file.InputFile at 0x120c0b6a0>,\n",
       " 7: <omphalos.input_file.InputFile at 0x120c39460>,\n",
       " 8: <omphalos.input_file.InputFile at 0x120c31520>,\n",
       " 9: <omphalos.input_file.InputFile at 0x120c54700>}"
      ]
     },
     "execution_count": 5,
     "metadata": {},
     "output_type": "execute_result"
    }
   ],
   "source": [
    "dataset"
   ]
  },
  {
   "cell_type": "code",
   "execution_count": 3,
   "metadata": {},
   "outputs": [
    {
     "data": {
      "text/plain": [
       "{'block_type': 'AQUEOUS_KINETICS',\n",
       " 'contents': {'AQUEOUS_KINETICS': [],\n",
       "  'Sulfate_reduction': ['-rate', '75'],\n",
       "  'Sulfate34_reduction': ['-rate', '72']}}"
      ]
     },
     "execution_count": 3,
     "metadata": {},
     "output_type": "execute_result"
    }
   ],
   "source": [
    "dataset[0].keyword_blocks['AQUEOUS_KINETICS'].__dict__"
   ]
  },
  {
   "cell_type": "code",
   "execution_count": null,
   "metadata": {},
   "outputs": [],
   "source": []
  }
 ],
 "metadata": {
  "kernelspec": {
   "display_name": "Python 3",
   "language": "python",
   "name": "python3"
  },
  "language_info": {
   "codemirror_mode": {
    "name": "ipython",
    "version": 3
   },
   "file_extension": ".py",
   "mimetype": "text/x-python",
   "name": "python",
   "nbconvert_exporter": "python",
   "pygments_lexer": "ipython3",
   "version": "3.8.7"
  }
 },
 "nbformat": 4,
 "nbformat_minor": 4
}

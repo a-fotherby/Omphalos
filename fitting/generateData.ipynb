{
 "cells": [
  {
   "cell_type": "code",
   "execution_count": 3,
   "metadata": {},
   "outputs": [],
   "source": [
    "from context import omphalos\n",
    "\n",
    "import numpy as np\n",
    "import matplotlib as pyplot\n",
    "import omphalos.file_methods as fm\n",
    "import omphalos.input_file as ipf\n",
    "import omphalos.generate_inputs as gi\n",
    "import sys\n",
    "import subprocess\n",
    "import pickle"
   ]
  },
  {
   "cell_type": "markdown",
   "metadata": {},
   "source": [
    "__Remember to test your input file on its own first!__\n",
    "\n",
    "__Remember to update your database files in /tmp__!"
   ]
  },
  {
   "cell_type": "code",
   "execution_count": 4,
   "metadata": {},
   "outputs": [
    {
     "name": "stdout",
     "output_type": "stream",
     "text": [
      "*** Importing template file ***\n",
      "BaseException: This is normally due to a commented line in the input file. If it is not, something has gone really wrong!\n",
      "BaseException: This is normally due to a commented line in the input file. If it is not, something has gone really wrong!\n",
      "BaseException: This is normally due to a commented line in the input file. If it is not, something has gone really wrong!\n",
      "BaseException: This is normally due to a commented line in the input file. If it is not, something has gone really wrong!\n",
      "BaseException: This is normally due to a commented line in the input file. If it is not, something has gone really wrong!\n",
      "BaseException: This is normally due to a commented line in the input file. If it is not, something has gone really wrong!\n",
      "The keyword \"SURFACE_COMPLEXATION\" you searched for does not exist. If you are sure that this keyword is in your input file, check your spelling.\n",
      "BaseException: This is normally due to a commented line in the input file. If it is not, something has gone really wrong!\n",
      "BaseException: This is normally due to a commented line in the input file. If it is not, something has gone really wrong!\n",
      "BaseException: This is normally due to a commented line in the input file. If it is not, something has gone really wrong!\n",
      "BaseException: This is normally due to a commented line in the input file. If it is not, something has gone really wrong!\n",
      "The keyword \"PEST\" you searched for does not exist. If you are sure that this keyword is in your input file, check your spelling.\n",
      "The keyword \"EROSION/BURIAL\" you searched for does not exist. If you are sure that this keyword is in your input file, check your spelling.\n",
      "*** Creating randomised input files ***\n",
      "*** Begin running input files ***\n",
      "File 0 complete.\n",
      "File 1 complete.\n",
      "File 2 complete.\n",
      "File 3 complete.\n",
      "File 4 complete.\n",
      "*** Creating randomised input files ***\n",
      "*** Begin running input files ***\n"
     ]
    }
   ],
   "source": [
    "# Import a template CT input file and iterate on it to make a test set, training set, and validation set.\n",
    "template = gi.import_template('rifle_model/RifleColumn.in')\n",
    "\n",
    "train_set = gi.generate_data_set(template, 'amendment', 5, 'train')"
   ]
  },
  {
   "cell_type": "code",
   "execution_count": 5,
   "metadata": {},
   "outputs": [],
   "source": [
    "# Pickle the data.\n",
    "fm.pickle_data_set(train_set, 'data/test_train')"
   ]
  },
  {
   "cell_type": "code",
   "execution_count": 6,
   "metadata": {},
   "outputs": [
    {
     "data": {
      "text/plain": [
       "{'block_type': 'CONDITION',\n",
       " 'contents': {'CONDITION': ['amendment'],\n",
       "  'units': ['mmol/kg'],\n",
       "  'temperature': ['25.0'],\n",
       "  'pH': ['7.2'],\n",
       "  'Fe++': ['1.0-08'],\n",
       "  'Fe+++': ['Fe(OH)3'],\n",
       "  'SiO2(aq)': ['0.35'],\n",
       "  'Na+': ['22.0'],\n",
       "  'Ca++': ['5.4'],\n",
       "  'Mg++': ['4.34'],\n",
       "  'SO4--': ['8.80'],\n",
       "  'S34O4--': ['3.9107925E-1'],\n",
       "  'Cl-': ['3.00'],\n",
       "  'CO2(aq)': ['CO2(g)', '0.0325'],\n",
       "  'Acetate': ['9.70'],\n",
       "  'H2S(aq)': ['1.0E-15'],\n",
       "  'H2S34(aq)': ['4.44083904E-17'],\n",
       "  'O2(aq)': ['15.6E-3'],\n",
       "  'NH4+': ['1.5'],\n",
       "  'Br-': ['1.32'],\n",
       "  'C5H7O2NFe': ['0.00'],\n",
       "  'C5H7O2NSO4': ['0.00'],\n",
       "  'decay_b_so4': ['1.0E-12'],\n",
       "  'XRifle-': ['-cec', '0.0']},\n",
       " 'region': [],\n",
       " 'gases': {},\n",
       " 'minerals': {},\n",
       " 'primary_species': {'Fe++': ['1.0-08'],\n",
       "  'Fe+++': ['Fe(OH)3'],\n",
       "  'SiO2(aq)': [0.35],\n",
       "  'Na+': [22.0],\n",
       "  'Ca++': [0.996162979531244],\n",
       "  'Mg++': [4.34],\n",
       "  'SO4--': [0.72141199996536],\n",
       "  'S34O4--': [0.03206014362095089],\n",
       "  'Cl-': [3.0],\n",
       "  'CO2(aq)': ['CO2(g)', 3.9690720663835064],\n",
       "  'Acetate': [5.343113179037903],\n",
       "  'H2S(aq)': [1e-15],\n",
       "  'H2S34(aq)': [4.44083904e-17],\n",
       "  'O2(aq)': [0.0156],\n",
       "  'NH4+': [1.395025123792601],\n",
       "  'Br-': [1.32],\n",
       "  'C5H7O2NFe': ['0.00'],\n",
       "  'C5H7O2NSO4': ['0.00'],\n",
       "  'decay_b_so4': [1e-12]},\n",
       " 'parameters': {'CONDITION': ['amendment'],\n",
       "  'units': ['mmol/kg'],\n",
       "  'temperature': ['25.0'],\n",
       "  'pH': ['7.2'],\n",
       "  'XRifle-': ['-cec', '0.0']}}"
      ]
     },
     "execution_count": 6,
     "metadata": {},
     "output_type": "execute_result"
    }
   ],
   "source": [
    "train_set[1].condition_blocks['amendment'].__dict__"
   ]
  },
  {
   "cell_type": "code",
   "execution_count": null,
   "metadata": {},
   "outputs": [],
   "source": []
  }
 ],
 "metadata": {
  "kernelspec": {
   "display_name": "Python 3",
   "language": "python",
   "name": "python3"
  },
  "language_info": {
   "codemirror_mode": {
    "name": "ipython",
    "version": 3
   },
   "file_extension": ".py",
   "mimetype": "text/x-python",
   "name": "python",
   "nbconvert_exporter": "python",
   "pygments_lexer": "ipython3",
   "version": "3.8.6"
  }
 },
 "nbformat": 4,
 "nbformat_minor": 4
}

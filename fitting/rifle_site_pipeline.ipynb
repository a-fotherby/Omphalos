{
 "cells": [
  {
   "cell_type": "code",
   "execution_count": 1,
   "metadata": {},
   "outputs": [],
   "source": [
    "# Set seeds for repeatability.\n",
    "from numpy.random import seed\n",
    "seed(1)\n",
    "\n",
    "# Import data processing modules.\n",
    "import pandas as pd\n",
    "import numpy as np\n",
    "\n",
    "import wandb\n",
    "from wandb.keras import WandbCallback\n",
    "\n",
    "# Import Omphalos modules.\n",
    "import generate_inputs as gi\n",
    "import file_methods as fm\n",
    "import my_metrics as mm\n",
    "import omphalos_plotter as op\n",
    "import attributes as attr\n",
    "import labels as lbls\n",
    "\n",
    "# Import data visualisation modules.\n",
    "import seaborn as sns\n",
    "import matplotlib.pyplot as plt\n",
    "\n",
    "# Import sklearn. \n",
    "import sklearn.preprocessing as skp\n",
    "import sklearn.gaussian_process as gp\n",
    "import sklearn.gaussian_process.kernels as kernels"
   ]
  },
  {
   "cell_type": "code",
   "execution_count": 2,
   "metadata": {},
   "outputs": [
    {
     "name": "stderr",
     "output_type": "stream",
     "text": [
      "/usr/local/lib/python3.8/site-packages/pandas/core/frame.py:6390: SettingWithCopyWarning: \n",
      "A value is trying to be set on a copy of a slice from a DataFrame.\n",
      "Try using .loc[row_indexer,col_indexer] = value instead\n",
      "\n",
      "See the caveats in the documentation: https://pandas.pydata.org/pandas-docs/stable/user_guide/indexing.html#returning-a-view-versus-a-copy\n",
      "  self[col] = expressions.where(mask, this, that)\n"
     ]
    }
   ],
   "source": [
    "train_set = fm.unpickle('rifle_pp_train.pickle')\n",
    "test_set = fm.unpickle('rifle_pp_test.pickle')\n",
    "\n",
    "attributes_df = attr.boundary_condition(train_set, boundary='x_begin')\n",
    "labels_df = lbls.secondary_precip(train_set)"
   ]
  },
  {
   "cell_type": "markdown",
   "metadata": {},
   "source": [
    "# SK-learn pipeline"
   ]
  },
  {
   "cell_type": "code",
   "execution_count": 3,
   "metadata": {},
   "outputs": [],
   "source": [
    "x = attributes_df.loc[:, ['NH4+', 'SO4--','Ca++', 'Acetate', 'CO2(aq)']]\n",
    "y = labels_df.xs(1, level=1)['CalciteRifle']\n",
    "\n",
    "from sklearn.model_selection import train_test_split\n",
    "\n",
    "x_train, x_test, y_train, y_test = train_test_split(x, y, test_size=0.2)"
   ]
  },
  {
   "cell_type": "code",
   "execution_count": 4,
   "metadata": {},
   "outputs": [],
   "source": [
    "from sklearn.pipeline import Pipeline\n",
    "from sklearn.preprocessing import PowerTransformer, Normalizer, QuantileTransformer\n",
    "\n",
    "scaler = QuantileTransformer(output_distribution='normal')\n",
    "\n",
    "numeric_transformer = Pipeline(steps=[('scaler', scaler)])\n",
    "#numeric_transformer = Pipeline(steps=[('scaler', scaler), ('normalizer', Normalizer())])"
   ]
  },
  {
   "cell_type": "code",
   "execution_count": 5,
   "metadata": {},
   "outputs": [],
   "source": [
    "numeric_features = x.select_dtypes(include=['int64', 'float64']).columns\n",
    "from sklearn.compose import ColumnTransformer\n",
    "preprocessor = ColumnTransformer(\n",
    "    transformers=[\n",
    "        ('num', numeric_transformer, numeric_features)])"
   ]
  },
  {
   "cell_type": "code",
   "execution_count": 7,
   "metadata": {},
   "outputs": [],
   "source": [
    "from sklearn.compose import TransformedTargetRegressor\n",
    "from sklearn.preprocessing import PowerTransformer, Normalizer, quantile_transform\n",
    "from sklearn.gaussian_process import GaussianProcessRegressor\n",
    "from sklearn.gaussian_process.kernels import RBF, DotProduct, Matern, RationalQuadratic, WhiteKernel\n",
    "\n",
    "#kernel = (Matern(length_scale=2, nu=2.5) + DotProduct()) * RBF(length_scale=1) + WhiteKernel()\n",
    "#kernel = (Matern(length_scale=2, nu=2.5) + (DotProduct())) * RBF(length_scale=1) + WhiteKernel()\n",
    "#kernel = (Matern(length_scale=0.00001, nu=2.5) + WhiteKernel())\n",
    "#kernel = RBF(length_scale=[2.5e+05, 2.59e+05, 368, 3.13e+06, 2.97], length_scale_bounds=[0.001, 1e7]) +  RBF(length_scale=[2e+05, 2e+05, 350, 3e+06, 5], length_scale_bounds=[0.001, 1e7])\n",
    "kernel = RBF(length_scale=[2.5e+05, 2.59e+05, 368, 3.13e+06, 2.97], length_scale_bounds=[0.001, 1e7])\n",
    "\n",
    "\n",
    "#alpha_array = np.ones((5,)) * 1e-7\n",
    "\n",
    "#regressor = TransformedTargetRegressor(regressor=GaussianProcessRegressor(kernel, n_restarts_optimizer=1, alpha=1e-3), transformer=QuantileTransformer(output_distribution='normal'))\n",
    "regressor = GaussianProcessRegressor(kernel, n_restarts_optimizer=1, alpha=1e-7, random_state=1)\n",
    "\n",
    "rf = Pipeline(steps=[('regressor', regressor)])"
   ]
  },
  {
   "cell_type": "code",
   "execution_count": 8,
   "metadata": {},
   "outputs": [
    {
     "name": "stdout",
     "output_type": "stream",
     "text": [
      "CPU times: user 42min, sys: 7min 3s, total: 49min 3s\n",
      "Wall time: 27min 51s\n"
     ]
    },
    {
     "data": {
      "text/plain": [
       "0.9898963372915452"
      ]
     },
     "execution_count": 8,
     "metadata": {},
     "output_type": "execute_result"
    }
   ],
   "source": [
    "%%time\n",
    "rf.fit(x_train, y_train)\n",
    "rf.score(x_test, y_test)"
   ]
  },
  {
   "cell_type": "code",
   "execution_count": 9,
   "metadata": {},
   "outputs": [
    {
     "data": {
      "text/plain": [
       "{'kernel': RBF(length_scale=[2.5e+05, 2.59e+05, 368, 3.13e+06, 2.97]),\n",
       " 'alpha': 1e-07,\n",
       " 'optimizer': 'fmin_l_bfgs_b',\n",
       " 'n_restarts_optimizer': 1,\n",
       " 'normalize_y': False,\n",
       " 'copy_X_train': True,\n",
       " 'random_state': 1,\n",
       " 'kernel_': RBF(length_scale=[2.49e+05, 2.59e+05, 370, 3.14e+06, 2.94]),\n",
       " '_rng': RandomState(MT19937) at 0x14A5E2340,\n",
       " 'n_features_in_': 5,\n",
       " '_y_train_mean': array([0.]),\n",
       " '_y_train_std': 1,\n",
       " 'X_train_': array([[1.69950047e+00, 2.55493819e-01, 2.62975707e+00, 5.20944589e+00,\n",
       "         1.48515410e+00],\n",
       "        [1.29339683e+00, 1.61389539e-02, 8.03381446e-03, 1.28098811e+01,\n",
       "         6.14681031e+00],\n",
       "        [2.57048760e+00, 8.16148279e-01, 1.09648463e+01, 2.50460282e+01,\n",
       "         7.77888090e+00],\n",
       "        ...,\n",
       "        [3.43118901e+00, 2.51865114e+01, 8.09102505e-01, 2.24914539e+00,\n",
       "         8.46028311e+00],\n",
       "        [7.15031177e-01, 4.88421322e+00, 1.37885857e+01, 8.06296643e-01,\n",
       "         8.98971117e+00],\n",
       "        [1.20197217e+00, 1.74176641e+00, 1.75097320e+01, 2.28725670e-01,\n",
       "         3.71286133e+00]]),\n",
       " 'y_train_': array([0.00162584, 0.00062237, 0.00575085, ..., 0.00101435, 0.00710871,\n",
       "        0.00835099]),\n",
       " 'log_marginal_likelihood_value_': 53815.12313046136,\n",
       " 'L_': array([[ 1.00000005e+00,  0.00000000e+00,  0.00000000e+00, ...,\n",
       "          0.00000000e+00,  0.00000000e+00,  0.00000000e+00],\n",
       "        [ 2.83790303e-01,  9.58886419e-01,  0.00000000e+00, ...,\n",
       "          0.00000000e+00,  0.00000000e+00,  0.00000000e+00],\n",
       "        [ 1.00656568e-01,  8.63506025e-01,  4.94191968e-01, ...,\n",
       "          0.00000000e+00,  0.00000000e+00,  0.00000000e+00],\n",
       "        ...,\n",
       "        [ 5.96163739e-02,  7.47094265e-01,  6.51488116e-01, ...,\n",
       "          3.16942981e-04,  0.00000000e+00,  0.00000000e+00],\n",
       "        [ 3.82132200e-02,  6.41065578e-01,  7.30687039e-01, ...,\n",
       "         -2.75779105e-07,  3.17143916e-04,  0.00000000e+00],\n",
       "        [ 7.49433316e-01,  5.17176184e-01, -2.80247893e-01, ...,\n",
       "          7.98517356e-08, -1.11247139e-08,  3.17162272e-04]]),\n",
       " '_K_inv': None,\n",
       " 'alpha_': array([ 145.48914005, -236.23700129,  231.85800334, ...,   37.59715665,\n",
       "         -28.04084289, 1057.97940377])}"
      ]
     },
     "execution_count": 9,
     "metadata": {},
     "output_type": "execute_result"
    }
   ],
   "source": [
    "regressor.__dict__"
   ]
  },
  {
   "cell_type": "markdown",
   "metadata": {},
   "source": [
    "# Plot cross-section of model."
   ]
  },
  {
   "cell_type": "code",
   "execution_count": 12,
   "metadata": {},
   "outputs": [
    {
     "name": "stderr",
     "output_type": "stream",
     "text": [
      "/usr/local/lib/python3.8/site-packages/sklearn/gaussian_process/_gpr.py:370: UserWarning: Predicted variances smaller than 0. Setting those variances to 0.\n",
      "  warnings.warn(\"Predicted variances smaller than 0. \"\n"
     ]
    }
   ],
   "source": [
    "samples = 5000\n",
    "x_pred = np.ones((samples, 5))\n",
    "x_pred[:,0] = 1.5\n",
    "x_pred[:,2] = 5\n",
    "x_pred[:,4] = 0.0325\n",
    "#x_pred[:,1] = x.to_numpy()[:,1].mean()\n",
    "x_pred[:,3] =  np.linspace(0.0, 60.0, samples)\n",
    "x_pred[:,1] = 8.8\n",
    "y_pred, sigmas = rf.predict(x_pred, return_std=True)"
   ]
  },
  {
   "cell_type": "code",
   "execution_count": 14,
   "metadata": {},
   "outputs": [
    {
     "data": {
      "text/plain": [
       "[<matplotlib.lines.Line2D at 0x14bf4edf0>]"
      ]
     },
     "execution_count": 14,
     "metadata": {},
     "output_type": "execute_result"
    },
    {
     "data": {
      "image/png": "[encoded data removed]",
      "text/plain": [
       "<Figure size 432x288 with 1 Axes>"
      ]
     },
     "metadata": {
      "needs_background": "light"
     },
     "output_type": "display_data"
    }
   ],
   "source": [
    "plt.plot(x_pred[:,3], y_pred)"
   ]
  },
  {
   "cell_type": "code",
   "execution_count": 62,
   "metadata": {},
   "outputs": [
    {
     "name": "stdout",
     "output_type": "stream",
     "text": [
      "CPU times: user 5min 36s, sys: 14.2 s, total: 5min 50s\n",
      "Wall time: 1min 42s\n"
     ]
    }
   ],
   "source": [
    "%%time\n",
    "# Now in 2D!\n",
    "samples = 5000\n",
    "sulfate_samples = 15\n",
    "\n",
    "y_pred = np.empty((samples, sulfate_samples))\n",
    "\n",
    "for i, sulfate in enumerate(np.linspace(0, 0.56, sulfate_samples)):\n",
    "    x_pred = np.ones((samples, 5))\n",
    "    x_pred[:,0] = x.to_numpy()[:,0].mean()\n",
    "    x_pred[:,2] = x.to_numpy()[:,2].mean()\n",
    "    x_pred[:,3] = x.to_numpy()[:,3].mean()\n",
    "    #x_pred[:,1] = x.to_numpy()[:,1].mean()\n",
    "    x_pred[:,1] = np.ones(samples) * sulfate\n",
    "    x_pred[:,4] = np.linspace(0.0, 60.0, samples)\n",
    "    y_pred[:, i], sigmas = rf.predict(x_pred, return_std=True)"
   ]
  },
  {
   "cell_type": "code",
   "execution_count": 48,
   "metadata": {},
   "outputs": [
    {
     "data": {
      "text/plain": [
       "(5000, 15)"
      ]
     },
     "execution_count": 48,
     "metadata": {},
     "output_type": "execute_result"
    }
   ],
   "source": [
    "np.shape(y_pred)"
   ]
  },
  {
   "cell_type": "code",
   "execution_count": 64,
   "metadata": {},
   "outputs": [
    {
     "name": "stdout",
     "output_type": "stream",
     "text": [
      "(5000,)\n",
      "(15,)\n",
      "(5000, 15)\n"
     ]
    }
   ],
   "source": [
    "X, Y = np.meshgrid(x_pred[:,4], np.linspace(0, 0.56, sulfate_samples))\n",
    "\n",
    "print(np.shape(x_pred[:,4]))\n",
    "print(np.shape(np.linspace(0, 0.56, sulfate_samples)))\n",
    "print(np.shape(y_pred))\n",
    "#Y=np.linspace(0, 0.56, sulfate_samples)"
   ]
  },
  {
   "cell_type": "code",
   "execution_count": 90,
   "metadata": {},
   "outputs": [
    {
     "data": {
      "text/plain": [
       "Text(0, 0.5, '[Ca++]')"
      ]
     },
     "execution_count": 90,
     "metadata": {},
     "output_type": "execute_result"
    },
    {
     "data": {
      "image/png": "[encoded data removed]",
      "text/plain": [
       "<Figure size 748.8x514.8 with 1 Axes>"
      ]
     },
     "metadata": {
      "needs_background": "light"
     },
     "output_type": "display_data"
    }
   ],
   "source": [
    "plt.contourf(np.log10(np.linspace(0.001, 0.56, sulfate_samples)), x_pred[:,4], y_pred, levels=10)\n",
    "plt.xlabel('log[Sulfate]')\n",
    "plt.ylabel('[Ca++]')"
   ]
  },
  {
   "cell_type": "code",
   "execution_count": null,
   "metadata": {},
   "outputs": [],
   "source": [
    "plt.style.use('seaborn-talk')\n",
    "for i, x_label, x_data, sample_bound, crunch_point in zip((1, 2, 3, 4, 5), ['[CO$_{2(aq)}$] (M)', '[Ca$^{2+}$] (M)', '[Formaldehyde] (M)', 'Calcite (vol. frac.)', '[SO$_4^{2-}$] (M)'],\n",
    "    [x_train['CO2(aq)'], x_train['Ca++'], x_train['Formaldehyde'], x_train['Calcite'], x_train['SO4--']],\n",
    "    [[0.0009, 0.0029], [0,0], [0.04, 0.07], [0.08, 0.10], [0.021, 0.031]],\n",
    "    [2.00e-3, 1.02e-2, 0.55e-01, 0.313, 26.79609e-03]):\n",
    "    #g = sns.jointplot(x=x_data, y=y_train, kind=\"scatter\", color=[0.3663776351765568, 0.6057935659905949, 0.6135760192192385], marker='o', s=15, height=10)\n",
    "    g = sns.jointplot(x=x_data, y=y_train, kind=\"scatter\", hue=x_train['Ca++'], marker='o', s=15, height=10)\n",
    "    g.ax_joint.set_xlabel(x_label)\n",
    "    g.ax_joint.set_ylabel('Change in total Calcite (vol. frac.)')\n",
    "    x_mean = x_data.mean()\n",
    "    g.ax_joint.scatter(crunch_point, 0.0001048420800000005, marker='*', color='#b2353a', label='Site 1086', zorder=2)\n",
    "    g.ax_joint.legend()\n",
    "    #g.ax_joint.set_xlim(0, 0.02)\n",
    "    #g.ax_joint.set_ylim(-0.001, 0.002)\n",
    "    #g.ax_joint.plot(np.ones(100) * x_mean, np.linspace(-0.0010, 0.0015, 100), '--', color='#536267')\n",
    "    #g.ax_joint.plot(np.ones(100) * sample_bound[0], np.linspace(-0.0010, 0.0015, 100), '-', color='#536267')\n",
    "    #g.ax_joint.plot(np.ones(100) * sample_bound[1], np.linspace(-0.0010, 0.0015, 100), '-', color='#536267')\n",
    "    g.savefig('fig{}.svg'.format(i))\n",
    "\n"
   ]
  },
  {
   "cell_type": "code",
   "execution_count": 23,
   "metadata": {},
   "outputs": [
    {
     "data": {
      "text/plain": [
       "0.05453229669575276"
      ]
     },
     "execution_count": 23,
     "metadata": {},
     "output_type": "execute_result"
    }
   ],
   "source": [
    "x_train['Formaldehyde'].mean()\n",
    "#x_train[ (x_train['SO4--'] >= 0.0255) & (x_train['SO4--'] <= 0.0275)]"
   ]
  },
  {
   "cell_type": "code",
   "execution_count": 90,
   "metadata": {},
   "outputs": [
    {
     "data": {
      "text/html": [
       "<div>\n",
       "<style scoped>\n",
       "    .dataframe tbody tr th:only-of-type {\n",
       "        vertical-align: middle;\n",
       "    }\n",
       "\n",
       "    .dataframe tbody tr th {\n",
       "        vertical-align: top;\n",
       "    }\n",
       "\n",
       "    .dataframe thead th {\n",
       "        text-align: right;\n",
       "    }\n",
       "</style>\n",
       "<table border=\"1\" class=\"dataframe\">\n",
       "  <thead>\n",
       "    <tr style=\"text-align: right;\">\n",
       "      <th></th>\n",
       "      <th>CO2(aq)</th>\n",
       "      <th>Ca++</th>\n",
       "      <th>Calcite</th>\n",
       "      <th>Calcite44</th>\n",
       "      <th>SO4--</th>\n",
       "      <th>Formaldehyde</th>\n",
       "    </tr>\n",
       "    <tr>\n",
       "      <th>File Num</th>\n",
       "      <th></th>\n",
       "      <th></th>\n",
       "      <th></th>\n",
       "      <th></th>\n",
       "      <th></th>\n",
       "      <th></th>\n",
       "    </tr>\n",
       "  </thead>\n",
       "  <tbody>\n",
       "    <tr>\n",
       "      <th>1691</th>\n",
       "      <td>0.002540</td>\n",
       "      <td>0.009753</td>\n",
       "      <td>0.093882</td>\n",
       "      <td>0.001990</td>\n",
       "      <td>0.024818</td>\n",
       "      <td>0.053007</td>\n",
       "    </tr>\n",
       "    <tr>\n",
       "      <th>5701</th>\n",
       "      <td>0.001974</td>\n",
       "      <td>0.010541</td>\n",
       "      <td>0.087794</td>\n",
       "      <td>0.001861</td>\n",
       "      <td>0.021663</td>\n",
       "      <td>0.051739</td>\n",
       "    </tr>\n",
       "    <tr>\n",
       "      <th>1769</th>\n",
       "      <td>0.001907</td>\n",
       "      <td>0.003147</td>\n",
       "      <td>0.086484</td>\n",
       "      <td>0.001833</td>\n",
       "      <td>0.026991</td>\n",
       "      <td>0.069586</td>\n",
       "    </tr>\n",
       "    <tr>\n",
       "      <th>29</th>\n",
       "      <td>0.002306</td>\n",
       "      <td>0.031448</td>\n",
       "      <td>0.090947</td>\n",
       "      <td>0.001928</td>\n",
       "      <td>0.026218</td>\n",
       "      <td>0.044569</td>\n",
       "    </tr>\n",
       "    <tr>\n",
       "      <th>5714</th>\n",
       "      <td>0.002546</td>\n",
       "      <td>0.003549</td>\n",
       "      <td>0.090387</td>\n",
       "      <td>0.001916</td>\n",
       "      <td>0.026632</td>\n",
       "      <td>0.061366</td>\n",
       "    </tr>\n",
       "    <tr>\n",
       "      <th>8470</th>\n",
       "      <td>0.002736</td>\n",
       "      <td>0.002945</td>\n",
       "      <td>0.080586</td>\n",
       "      <td>0.001708</td>\n",
       "      <td>0.021255</td>\n",
       "      <td>0.040924</td>\n",
       "    </tr>\n",
       "    <tr>\n",
       "      <th>2973</th>\n",
       "      <td>0.002308</td>\n",
       "      <td>0.015683</td>\n",
       "      <td>0.081228</td>\n",
       "      <td>0.001722</td>\n",
       "      <td>0.027690</td>\n",
       "      <td>0.041198</td>\n",
       "    </tr>\n",
       "    <tr>\n",
       "      <th>8502</th>\n",
       "      <td>0.002738</td>\n",
       "      <td>0.003398</td>\n",
       "      <td>0.087894</td>\n",
       "      <td>0.001863</td>\n",
       "      <td>0.028605</td>\n",
       "      <td>0.053709</td>\n",
       "    </tr>\n",
       "    <tr>\n",
       "      <th>9903</th>\n",
       "      <td>0.002656</td>\n",
       "      <td>0.028179</td>\n",
       "      <td>0.085981</td>\n",
       "      <td>0.001823</td>\n",
       "      <td>0.023570</td>\n",
       "      <td>0.055203</td>\n",
       "    </tr>\n",
       "  </tbody>\n",
       "</table>\n",
       "</div>"
      ],
      "text/plain": [
       "           CO2(aq)      Ca++   Calcite  Calcite44     SO4--  Formaldehyde\n",
       "File Num                                                                 \n",
       "1691      0.002540  0.009753  0.093882   0.001990  0.024818      0.053007\n",
       "5701      0.001974  0.010541  0.087794   0.001861  0.021663      0.051739\n",
       "1769      0.001907  0.003147  0.086484   0.001833  0.026991      0.069586\n",
       "29        0.002306  0.031448  0.090947   0.001928  0.026218      0.044569\n",
       "5714      0.002546  0.003549  0.090387   0.001916  0.026632      0.061366\n",
       "8470      0.002736  0.002945  0.080586   0.001708  0.021255      0.040924\n",
       "2973      0.002308  0.015683  0.081228   0.001722  0.027690      0.041198\n",
       "8502      0.002738  0.003398  0.087894   0.001863  0.028605      0.053709\n",
       "9903      0.002656  0.028179  0.085981   0.001823  0.023570      0.055203"
      ]
     },
     "execution_count": 90,
     "metadata": {},
     "output_type": "execute_result"
    }
   ],
   "source": [
    "test = x_train[(x_train['Formaldehyde'] >= 0.04) & (x_train['Formaldehyde'] <= 0.07) & (x_train['CO2(aq)'] >= 0.0009) & (x_train['CO2(aq)'] <= 0.0029) \n",
    "               & (x_train['Calcite'] >= 0.08) & (x_train['Calcite'] <= 0.10) & (x_train['SO4--'] >= 0.021) & (x_train['SO4--'] <= 0.031)]\n",
    "test"
   ]
  },
  {
   "cell_type": "code",
   "execution_count": 20,
   "metadata": {},
   "outputs": [
    {
     "ename": "NameError",
     "evalue": "name 'test' is not defined",
     "output_type": "error",
     "traceback": [
      "\u001b[0;31m---------------------------------------------------------------------------\u001b[0m",
      "\u001b[0;31mNameError\u001b[0m                                 Traceback (most recent call last)",
      "\u001b[0;32m<ipython-input-20-e7c709279dbf>\u001b[0m in \u001b[0;36m<module>\u001b[0;34m\u001b[0m\n\u001b[1;32m      6\u001b[0m \u001b[0max\u001b[0m\u001b[0;34m.\u001b[0m\u001b[0mplot\u001b[0m\u001b[0;34m(\u001b[0m\u001b[0mx_pred\u001b[0m\u001b[0;34m[\u001b[0m\u001b[0;34m:\u001b[0m\u001b[0;34m,\u001b[0m \u001b[0mspecies_index\u001b[0m\u001b[0;34m]\u001b[0m\u001b[0;34m,\u001b[0m \u001b[0my_pred\u001b[0m\u001b[0;34m,\u001b[0m \u001b[0mlabel\u001b[0m\u001b[0;34m=\u001b[0m\u001b[0;34m'Fitted curve'\u001b[0m\u001b[0;34m)\u001b[0m\u001b[0;34m\u001b[0m\u001b[0;34m\u001b[0m\u001b[0m\n\u001b[1;32m      7\u001b[0m \u001b[0max\u001b[0m\u001b[0;34m.\u001b[0m\u001b[0mfill_between\u001b[0m\u001b[0;34m(\u001b[0m\u001b[0mx_pred\u001b[0m\u001b[0;34m[\u001b[0m\u001b[0;34m:\u001b[0m\u001b[0;34m,\u001b[0m \u001b[0mspecies_index\u001b[0m\u001b[0;34m]\u001b[0m\u001b[0;34m,\u001b[0m \u001b[0my_pred\u001b[0m \u001b[0;34m-\u001b[0m \u001b[0msigmas\u001b[0m\u001b[0;34m,\u001b[0m \u001b[0my_pred\u001b[0m \u001b[0;34m+\u001b[0m \u001b[0msigmas\u001b[0m\u001b[0;34m,\u001b[0m \u001b[0malpha\u001b[0m\u001b[0;34m=\u001b[0m\u001b[0;36m0.2\u001b[0m\u001b[0;34m,\u001b[0m \u001b[0mcolor\u001b[0m\u001b[0;34m=\u001b[0m\u001b[0;34m'k'\u001b[0m\u001b[0;34m,\u001b[0m \u001b[0mlabel\u001b[0m\u001b[0;34m=\u001b[0m\u001b[0;34m'70% confidence interval'\u001b[0m\u001b[0;34m)\u001b[0m\u001b[0;34m\u001b[0m\u001b[0;34m\u001b[0m\u001b[0m\n\u001b[0;32m----> 8\u001b[0;31m \u001b[0max\u001b[0m\u001b[0;34m.\u001b[0m\u001b[0mscatter\u001b[0m\u001b[0;34m(\u001b[0m\u001b[0mtest\u001b[0m\u001b[0;34m[\u001b[0m\u001b[0;34m'Ca++'\u001b[0m\u001b[0;34m]\u001b[0m\u001b[0;34m.\u001b[0m\u001b[0mto_numpy\u001b[0m\u001b[0;34m(\u001b[0m\u001b[0;34m)\u001b[0m\u001b[0;34m,\u001b[0m \u001b[0my_train\u001b[0m\u001b[0;34m[\u001b[0m\u001b[0mtest\u001b[0m\u001b[0;34m.\u001b[0m\u001b[0mindex\u001b[0m\u001b[0;34m]\u001b[0m\u001b[0;34m,\u001b[0m \u001b[0mmarker\u001b[0m\u001b[0;34m=\u001b[0m\u001b[0;34m\"+\"\u001b[0m\u001b[0;34m,\u001b[0m \u001b[0mcolor\u001b[0m\u001b[0;34m=\u001b[0m\u001b[0;34m'#980002'\u001b[0m\u001b[0;34m,\u001b[0m \u001b[0mlabel\u001b[0m\u001b[0;34m=\u001b[0m\u001b[0;34m'Modelled Net Precipitation'\u001b[0m\u001b[0;34m)\u001b[0m\u001b[0;34m\u001b[0m\u001b[0;34m\u001b[0m\u001b[0m\n\u001b[0m\u001b[1;32m      9\u001b[0m \u001b[0max\u001b[0m\u001b[0;34m.\u001b[0m\u001b[0mset_xlabel\u001b[0m\u001b[0;34m(\u001b[0m\u001b[0;34m'[Ca$^{2+}$] (mM)'\u001b[0m\u001b[0;34m)\u001b[0m\u001b[0;34m\u001b[0m\u001b[0;34m\u001b[0m\u001b[0m\n\u001b[1;32m     10\u001b[0m \u001b[0max\u001b[0m\u001b[0;34m.\u001b[0m\u001b[0mset_ylabel\u001b[0m\u001b[0;34m(\u001b[0m\u001b[0;34m'Net Calcite precipitation (vol. frac.)'\u001b[0m\u001b[0;34m)\u001b[0m\u001b[0;34m\u001b[0m\u001b[0;34m\u001b[0m\u001b[0m\n",
      "\u001b[0;31mNameError\u001b[0m: name 'test' is not defined"
     ]
    },
    {
     "data": {
      "image/png": "[encoded data removed]",
      "text/plain": [
       "<Figure size 748.8x514.8 with 1 Axes>"
      ]
     },
     "metadata": {
      "needs_background": "light"
     },
     "output_type": "display_data"
    }
   ],
   "source": [
    "#f = plt.errorbar(x_pred[:,1], y_pred, yerr=sigmas, capsize=0, ecolor='#01153e10', label='Fitted curve & 70% confidence interval')\n",
    "species_index = 3\n",
    "\n",
    "plt.style.use('seaborn-talk')\n",
    "f, ax = plt.subplots(1,1)\n",
    "ax.plot(x_pred[:, species_index], y_pred, label='Fitted curve')\n",
    "ax.fill_between(x_pred[:, species_index], y_pred - sigmas, y_pred + sigmas, alpha=0.2, color='k', label='70% confidence interval')\n",
    "ax.scatter(test['Ca++'].to_numpy(), y_train[test.index], marker=\"+\", color='#980002', label='Modelled Net Precipitation')\n",
    "ax.set_xlabel('[Ca$^{2+}$] (mM)')\n",
    "ax.set_ylabel('Net Calcite precipitation (vol. frac.)')\n",
    "plt.legend()\n",
    "plt.savefig('fit.png', dpi=300, bbox_inches='tight')\n",
    "#ax.set_xlim(0.000, 0.04)\n",
    "#ax.set_ylim(-0.001, 0.001)\n",
    "#plt.savefig('fit_zoom.png', dpi=300, bbox_inches='tight')\n"
   ]
  },
  {
   "cell_type": "code",
   "execution_count": null,
   "metadata": {},
   "outputs": [],
   "source": [
    "print(rf.score(x_train, y_train))\n",
    "print(rf.score(x_test, y_test))"
   ]
  },
  {
   "cell_type": "code",
   "execution_count": 92,
   "metadata": {},
   "outputs": [
    {
     "data": {
      "text/plain": [
       "{'kernel': RBF(length_scale=0.001),\n",
       " 'alpha': 1e-07,\n",
       " 'optimizer': 'fmin_l_bfgs_b',\n",
       " 'n_restarts_optimizer': 0,\n",
       " 'normalize_y': False,\n",
       " 'copy_X_train': True,\n",
       " 'random_state': 1,\n",
       " 'kernel_': RBF(length_scale=0.653),\n",
       " '_rng': RandomState(MT19937) at 0x145B8A440,\n",
       " 'n_features_in_': 6,\n",
       " '_y_train_mean': array([0.]),\n",
       " '_y_train_std': 1,\n",
       " 'X_train_': array([[1.44879180e-04, 7.69962694e-03, 4.64735580e-02, 9.85245739e-04,\n",
       "         4.30820449e-02, 1.70997763e-04],\n",
       "        [1.92896258e-03, 5.08731905e-03, 1.49288024e-01, 3.16492638e-03,\n",
       "         6.25959078e-03, 4.48745582e-02],\n",
       "        [1.79174351e-05, 2.12888498e-02, 3.20261020e-02, 6.78957709e-04,\n",
       "         7.65274785e-02, 7.69750695e-03],\n",
       "        ...,\n",
       "        [2.92206418e-03, 2.95751472e-03, 1.16786914e-01, 2.47589844e-03,\n",
       "         2.02035561e-03, 1.21944219e-01],\n",
       "        [5.05671163e-03, 1.77476278e-02, 4.57139321e-02, 9.69141566e-04,\n",
       "         2.08641552e-03, 1.61858876e-01],\n",
       "        [1.66297598e-03, 6.32878611e-03, 4.00774907e-02, 8.49648243e-04,\n",
       "         9.68532104e-02, 9.09720503e-03]]),\n",
       " 'y_train_': array([-7.58391182e-05, -2.40135473e-04, -1.08604801e-04, ...,\n",
       "        -2.37695942e-04,  2.82823741e-04, -3.09797213e-04]),\n",
       " 'log_marginal_likelihood_value_': 56389.12727342182,\n",
       " 'L_': array([[ 1.00000005e+00,  0.00000000e+00,  0.00000000e+00, ...,\n",
       "          0.00000000e+00,  0.00000000e+00,  0.00000000e+00],\n",
       "        [ 9.83797445e-01,  1.79283816e-01,  0.00000000e+00, ...,\n",
       "          0.00000000e+00,  0.00000000e+00,  0.00000000e+00],\n",
       "        [ 9.98163325e-01, -3.09371455e-02,  5.20861833e-02, ...,\n",
       "          0.00000000e+00,  0.00000000e+00,  0.00000000e+00],\n",
       "        ...,\n",
       "        [ 9.75130366e-01,  1.81146787e-01,  4.03629036e-02, ...,\n",
       "          3.16990342e-04,  0.00000000e+00,  0.00000000e+00],\n",
       "        [ 9.67778607e-01,  1.08656648e-01,  6.42236021e-02, ...,\n",
       "          4.66164530e-07,  3.17844728e-04,  0.00000000e+00],\n",
       "        [ 9.96471792e-01, -2.85355235e-02,  7.00394437e-02, ...,\n",
       "         -2.01144105e-08, -8.23776785e-08,  3.17290842e-04]]),\n",
       " '_K_inv': None,\n",
       " 'alpha_': array([ 2269.43874159,  -209.08781671, -1815.30921204, ...,\n",
       "         1405.97282144, -1807.670127  ,   -99.0377951 ])}"
      ]
     },
     "execution_count": 92,
     "metadata": {},
     "output_type": "execute_result"
    }
   ],
   "source": [
    "rf['regressor'].__dict__"
   ]
  },
  {
   "cell_type": "code",
   "execution_count": 28,
   "metadata": {},
   "outputs": [
    {
     "data": {
      "text/plain": [
       "count    2.000000e+03\n",
       "mean    -2.687128e+03\n",
       "std      1.232016e+05\n",
       "min     -5.509030e+06\n",
       "25%     -2.157800e+01\n",
       "50%     -7.821809e+00\n",
       "75%      1.212061e+01\n",
       "max      6.355851e+04\n",
       "dtype: float64"
      ]
     },
     "execution_count": 28,
     "metadata": {},
     "output_type": "execute_result"
    }
   ],
   "source": [
    "y_pred = rf.predict(x_test)\n",
    "percent = (100 * ((y_pred - y_test) / y_test))\n",
    "percent.describe()"
   ]
  },
  {
   "cell_type": "code",
   "execution_count": 35,
   "metadata": {},
   "outputs": [
    {
     "data": {
      "text/plain": [
       "<matplotlib.collections.PathCollection at 0x14e300c70>"
      ]
     },
     "execution_count": 35,
     "metadata": {},
     "output_type": "execute_result"
    },
    {
     "data": {
      "image/png": "[encoded data removed]",
      "text/plain": [
       "<Figure size 748.8x514.8 with 1 Axes>"
      ]
     },
     "metadata": {
      "needs_background": "light"
     },
     "output_type": "display_data"
    }
   ],
   "source": [
    "plt.scatter(x_test['SO4--'].to_numpy(), np.log10(abs(percent)))"
   ]
  },
  {
   "cell_type": "code",
   "execution_count": 94,
   "metadata": {},
   "outputs": [
    {
     "data": {
      "text/plain": [
       "(-1000.0, 1000.0)"
      ]
     },
     "execution_count": 94,
     "metadata": {},
     "output_type": "execute_result"
    },
    {
     "data": {
      "image/png": "[encoded data removed]",
      "text/plain": [
       "<Figure size 748.8x514.8 with 1 Axes>"
      ]
     },
     "metadata": {
      "needs_background": "light"
     },
     "output_type": "display_data"
    }
   ],
   "source": [
    "f = plt.boxplot(percent, vert=False)\n",
    "plt.xlim(-1000,1000)"
   ]
  },
  {
   "cell_type": "code",
   "execution_count": 221,
   "metadata": {},
   "outputs": [],
   "source": [
    "# from sklearn.preprocessing import power_transform\n",
    "\n",
    "v = rf[:1].fit_transform(x_train)\n",
    "w = np.array(y_train)\n",
    "u = quantile_transform(w.reshape(-1,1), output_distribution='normal')"
   ]
  }
 ],
 "metadata": {
  "kernelspec": {
   "display_name": "Python 3",
   "language": "python",
   "name": "python3"
  },
  "language_info": {
   "codemirror_mode": {
    "name": "ipython",
    "version": 3
   },
   "file_extension": ".py",
   "mimetype": "text/x-python",
   "name": "python",
   "nbconvert_exporter": "python",
   "pygments_lexer": "ipython3",
   "version": "3.8.6"
  }
 },
 "nbformat": 4,
 "nbformat_minor": 4
}

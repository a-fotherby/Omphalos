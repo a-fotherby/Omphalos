{
 "cells": [
  {
   "cell_type": "code",
   "execution_count": 1,
   "metadata": {},
   "outputs": [],
   "source": [
    "import numpy as np\n",
    "import matplotlib as pyplot\n",
    "import file_methods as fm\n",
    "import input_file as ipf\n",
    "import generate_inputs as gi\n",
    "import sys\n",
    "import subprocess\n",
    "import pickle"
   ]
  },
  {
   "cell_type": "markdown",
   "metadata": {},
   "source": [
    "__Remember to test your input file on its own first!__\n",
    "\n",
    "__Remember to update your database files in /tmp__!"
   ]
  },
  {
   "cell_type": "code",
   "execution_count": null,
   "metadata": {},
   "outputs": [],
   "source": [
    "# Import a template CT input file and iterate on it to make a test set, training set, and validation set.\n",
    "template = gi.import_template('1086model/Site1086.in')\n",
    "\n",
    "train_set = gi.generate_data_set(template, 'Seawater', 10, 'train')\n",
    "test_set = gi.generate_data_set(template, 'Seawater', 0, 'test')"
   ]
  },
  {
   "cell_type": "code",
   "execution_count": 3,
   "metadata": {},
   "outputs": [],
   "source": [
    "# Pickle the data.\n",
    "fm.pickle_data_set(train_set, 'train')\n",
    "fm.pickle_data_set(test_set, 'test')"
   ]
  },
  {
   "cell_type": "code",
   "execution_count": null,
   "metadata": {},
   "outputs": [],
   "source": []
  }
 ],
 "metadata": {
  "kernelspec": {
   "display_name": "Python 3",
   "language": "python",
   "name": "python3"
  },
  "language_info": {
   "codemirror_mode": {
    "name": "ipython",
    "version": 3
   },
   "file_extension": ".py",
   "mimetype": "text/x-python",
   "name": "python",
   "nbconvert_exporter": "python",
   "pygments_lexer": "ipython3",
   "version": "3.8.6"
  }
 },
 "nbformat": 4,
 "nbformat_minor": 4
}

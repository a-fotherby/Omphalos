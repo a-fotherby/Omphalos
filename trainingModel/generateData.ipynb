{
 "cells": [
  {
   "cell_type": "code",
   "execution_count": 1,
   "metadata": {},
   "outputs": [],
   "source": [
    "import numpy as np\n",
    "from matplotlib import pyplot as plt\n",
    "from matplotlib import cm\n",
    "import file_methods as fm\n",
    "import input_file as ipf\n",
    "import generate_inputs as gi\n",
    "import keyword_block\n",
    "import sys\n",
    "import subprocess\n",
    "import pickle\n",
    "import pandas as pd\n",
    "import labels as lbls\n",
    "import shutil\n",
    "import yaml\n",
    "#from scipy.interpolate import make_interp_spline, BSpline"
   ]
  },
  {
   "cell_type": "markdown",
   "metadata": {},
   "source": [
    "__Remember to test your input file on its own first!__\n",
    "\n",
    "__Remember to update your database files in /tmp__!"
   ]
  },
  {
   "cell_type": "code",
   "execution_count": 14,
   "metadata": {},
   "outputs": [
    {
     "data": {
      "text/plain": [
       "{'RunNum': 6,\n",
       " 'concentrations': {'C13O2(aq)': [2.776983246073674e-05,\n",
       "   2.776983246073674e-05,\n",
       "   2.776983246073674e-05,\n",
       "   2.776983246073674e-05,\n",
       "   2.776983246073674e-05,\n",
       "   2.776983246073674e-05],\n",
       "  'CO2(aq)': [0.002472230167539263,\n",
       "   0.002472230167539263,\n",
       "   0.002472230167539263,\n",
       "   0.002472230167539263,\n",
       "   0.002472230167539263,\n",
       "   0.002472230167539263],\n",
       "  'Form': [0.9891074972077297,\n",
       "   0.9891074972077297,\n",
       "   0.9891074972077297,\n",
       "   0.9891074972077297,\n",
       "   0.9891074972077297,\n",
       "   0.9891074972077297],\n",
       "  'Form13': [0.010892502792270246,\n",
       "   0.010892502792270246,\n",
       "   0.010892502792270246,\n",
       "   0.010892502792270246,\n",
       "   0.010892502792270246,\n",
       "   0.010892502792270246]},\n",
       " 'flow': {'pump': [0.0, 1e-07, 2e-07, 3e-07, 4e-07, 5e-07]},\n",
       " 'reaction': {'12->13EqEx': [1000.0, 1000.0, 1000.0, 1000.0, 1000.0, 1000.0],\n",
       "  '13AOM': [150000.0, 150000.0, 150000.0, 150000.0, 150000.0, 150000.0],\n",
       "  '13Aerobic_respiration': [0.0, 0.0, 0.0, 0.0, 0.0, 0.0],\n",
       "  '13S1Methanogenesis': [10000.0, 10000.0, 10000.0, 10000.0, 10000.0, 10000.0],\n",
       "  '13S2Methanogenesis': [9250.0, 9250.0, 9250.0, 9250.0, 9250.0, 9250.0],\n",
       "  '13Sulfate_reduction': [10000.0,\n",
       "   10000.0,\n",
       "   10000.0,\n",
       "   10000.0,\n",
       "   10000.0,\n",
       "   10000.0],\n",
       "  '3413AOM': [143250.0, 143250.0, 143250.0, 143250.0, 143250.0, 143250.0],\n",
       "  '3413Sulfate_reduction': [9550.0, 9550.0, 9550.0, 9550.0, 9550.0, 9550.0],\n",
       "  '34AOM': [143250.0, 143250.0, 143250.0, 143250.0, 143250.0, 143250.0],\n",
       "  '34Sulfate_reduction': [9550.0, 9550.0, 9550.0, 9550.0, 9550.0, 9550.0],\n",
       "  'AOM': [150000.0, 150000.0, 150000.0, 150000.0, 150000.0, 150000.0],\n",
       "  'Aerobic_respiration': [0.0, 0.0, 0.0, 0.0, 0.0, 0.0],\n",
       "  'S1Methanogenesis': [10000.0, 10000.0, 10000.0, 10000.0, 10000.0, 10000.0],\n",
       "  'S2Methanogenesis': [10000.0, 10000.0, 10000.0, 10000.0, 10000.0, 10000.0],\n",
       "  'Sulfate_reduction': [10000.0, 10000.0, 10000.0, 10000.0, 10000.0, 10000.0]},\n",
       " 'transport': {}}"
      ]
     },
     "metadata": {},
     "output_type": "display_data"
    }
   ],
   "source": [
    "# Import a Dataframe containing an Array of any concentrations and aqueous rates to alter in the input files, with the correct column names\n",
    "#data = pd.read_csv('/Users/hjb62/Python/Bateson_Paper/Input_Sheets/TestAOMEq.csv')\n",
    "with open('/Users/hjb62/Python/Bateson_Paper/Input_Sheets/FullColumn_Test_8_CheckVel_Run.yaml') as file:\n",
    "    data = yaml.full_load(file)\n",
    "\n",
    "# Make sure imported dataframe is expected length\n",
    "display(data)"
   ]
  },
  {
   "cell_type": "code",
   "execution_count": null,
   "metadata": {},
   "outputs": [
    {
     "name": "stdout",
     "output_type": "stream",
     "text": [
      "*** Importing template file ***\n",
      "BaseException: This is normally due to a commented line in the input file. If it is not, something has gone really wrong!\n",
      "BaseException: This is normally due to a commented line in the input file. If it is not, something has gone really wrong!\n",
      "The keyword \"ION_EXCHANGE\" you searched for does not exist. If you are sure that this keyword is in your input file, check your spelling.\n",
      "The keyword \"SURFACE_COMPLEXATION\" you searched for does not exist. If you are sure that this keyword is in your input file, check your spelling.\n",
      "The keyword \"PEST\" you searched for does not exist. If you are sure that this keyword is in your input file, check your spelling.\n",
      "The keyword \"ISOTOPES\" you searched for does not exist. If you are sure that this keyword is in your input file, check your spelling.\n",
      "*** Creating input files ***\n",
      "*** Begin running input files ***\n",
      "File 0 complete.\n",
      "File 1 complete.\n",
      "File 2 complete.\n",
      "File 3 complete.\n",
      "File 4 complete.\n"
     ]
    }
   ],
   "source": [
    "# Import a template CT input file and iterate on it to make a test set, training set, and validation set.\n",
    "template = gi.import_template('CarbSulfModel/CSColumnShortSRAOMMethane.in')\n",
    "\n",
    "Results=gi.generate_data_set(template, 'Seawater', data['RunNum'], 'Results', data=data)\n",
    "# train_set = gi.generate_data_set(template, 'Seawater', 10, 'train')\n",
    "# test_set = gi.generate_data_set(template, 'Seawater', 0, 'test')"
   ]
  },
  {
   "cell_type": "code",
   "execution_count": 10,
   "metadata": {},
   "outputs": [],
   "source": [
    "Filename='Results_FullColumn_Test_8.pkl'\n",
    "pickle.dump( Results, open( Filename, \"wb\" ) )"
   ]
  },
  {
   "cell_type": "code",
   "execution_count": 11,
   "metadata": {},
   "outputs": [
    {
     "data": {
      "text/plain": [
       "'/Users/hjb62/Python/Bateson_Paper/Results_FullColumn_Test_8.pkl'"
      ]
     },
     "execution_count": 11,
     "metadata": {},
     "output_type": "execute_result"
    }
   ],
   "source": [
    "shutil.move(Filename,'/Users/hjb62/Python/Bateson_Paper/'+Filename)"
   ]
  },
  {
   "cell_type": "code",
   "execution_count": null,
   "metadata": {},
   "outputs": [],
   "source": []
  }
 ],
 "metadata": {
  "kernelspec": {
   "display_name": "Python 3",
   "language": "python",
   "name": "python3"
  },
  "language_info": {
   "codemirror_mode": {
    "name": "ipython",
    "version": 3
   },
   "file_extension": ".py",
   "mimetype": "text/x-python",
   "name": "python",
   "nbconvert_exporter": "python",
   "pygments_lexer": "ipython3",
   "version": "3.9.0"
  }
 },
 "nbformat": 4,
 "nbformat_minor": 4
}

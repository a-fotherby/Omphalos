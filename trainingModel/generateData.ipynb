{
 "cells": [
  {
   "cell_type": "code",
   "execution_count": 1,
   "metadata": {},
   "outputs": [],
   "source": [
    "import numpy as np\n",
    "from matplotlib import pyplot as plt\n",
    "from matplotlib import cm\n",
    "import file_methods as fm\n",
    "import input_file as ipf\n",
    "import generate_inputs as gi\n",
    "import keyword_block\n",
    "import sys\n",
    "import subprocess\n",
    "import pickle\n",
    "import pandas as pd\n",
    "import labels as lbls\n",
    "#from scipy.interpolate import make_interp_spline, BSpline"
   ]
  },
  {
   "cell_type": "markdown",
   "metadata": {},
   "source": [
    "__Remember to test your input file on its own first!__\n",
    "\n",
    "__Remember to update your database files in /tmp__!"
   ]
  },
  {
   "cell_type": "code",
   "execution_count": null,
   "metadata": {},
   "outputs": [
    {
     "name": "stdout",
     "output_type": "stream",
     "text": [
      "*** Importing template file ***\n",
      "BaseException: This is normally due to a commented line in the input file. If it is not, something has gone really wrong!\n",
      "BaseException: This is normally due to a commented line in the input file. If it is not, something has gone really wrong!\n",
      "BaseException: This is normally due to a commented line in the input file. If it is not, something has gone really wrong!\n",
      "BaseException: This is normally due to a commented line in the input file. If it is not, something has gone really wrong!\n",
      "BaseException: This is normally due to a commented line in the input file. If it is not, something has gone really wrong!\n",
      "BaseException: This is normally due to a commented line in the input file. If it is not, something has gone really wrong!\n",
      "BaseException: This is normally due to a commented line in the input file. If it is not, something has gone really wrong!\n",
      "BaseException: This is normally due to a commented line in the input file. If it is not, something has gone really wrong!\n",
      "BaseException: This is normally due to a commented line in the input file. If it is not, something has gone really wrong!\n",
      "BaseException: This is normally due to a commented line in the input file. If it is not, something has gone really wrong!\n",
      "BaseException: This is normally due to a commented line in the input file. If it is not, something has gone really wrong!\n",
      "BaseException: This is normally due to a commented line in the input file. If it is not, something has gone really wrong!\n",
      "The keyword \"ION_EXCHANGE\" you searched for does not exist. If you are sure that this keyword is in your input file, check your spelling.\n",
      "The keyword \"SURFACE_COMPLEXATION\" you searched for does not exist. If you are sure that this keyword is in your input file, check your spelling.\n",
      "BaseException: This is normally due to a commented line in the input file. If it is not, something has gone really wrong!\n",
      "BaseException: This is normally due to a commented line in the input file. If it is not, something has gone really wrong!\n",
      "The keyword \"FLOW\" you searched for does not exist. If you are sure that this keyword is in your input file, check your spelling.\n",
      "The keyword \"PEST\" you searched for does not exist. If you are sure that this keyword is in your input file, check your spelling.\n",
      "The keyword \"EROSION/BURIAL\" you searched for does not exist. If you are sure that this keyword is in your input file, check your spelling.\n",
      "BaseException: this is normally due to a commented line in the input file. If it is not, something has gone really wrong!\n",
      "BaseException: this is normally due to a commented line in the input file. If it is not, something has gone really wrong!\n",
      "BaseException: this is normally due to a commented line in the input file. If it is not, something has gone really wrong!\n",
      "*** Creating input files ***\n",
      "*** Begin running input files ***\n"
     ]
    }
   ],
   "source": [
    "# Import a Dataframe containing an Array of Calcium and Sulfate concentrations\n",
    "data = pd.read_excel ('/Users/hjb62/Documents/Adam JC089 Project Results/RatesInput.xlsx',sheet_name='Sheet5',engine=\"openpyxl\")\n",
    "\n",
    "# Import a template CT input file and iterate on it to make a test set, training set, and validation set.\n",
    "template = gi.import_template('CarbSulfModel/CSColumnShort.in')\n",
    "\n",
    "Results=gi.generate_data_set(template, 'Seawater', len(data), 'Results', data=data)\n",
    "# train_set = gi.generate_data_set(template, 'Seawater', 10, 'train')\n",
    "# test_set = gi.generate_data_set(template, 'Seawater', 0, 'test')"
   ]
  },
  {
   "cell_type": "code",
   "execution_count": 3,
   "metadata": {},
   "outputs": [],
   "source": [
    "pickle.dump( Results, open( \"ResultsMethaneRates.pkl\", \"wb\" ) )"
   ]
  },
  {
   "cell_type": "code",
   "execution_count": 4,
   "metadata": {},
   "outputs": [
    {
     "ename": "KeyError",
     "evalue": "'totcon'",
     "output_type": "error",
     "traceback": [
      "\u001b[0;31m---------------------------------------------------------------------------\u001b[0m",
      "\u001b[0;31mKeyError\u001b[0m                                  Traceback (most recent call last)",
      "\u001b[0;32m<ipython-input-4-f6c94f2613fa>\u001b[0m in \u001b[0;36m<module>\u001b[0;34m\u001b[0m\n\u001b[0;32m----> 1\u001b[0;31m \u001b[0mtotcon\u001b[0m\u001b[0;34m=\u001b[0m\u001b[0mlbls\u001b[0m\u001b[0;34m.\u001b[0m\u001b[0mraw_labels\u001b[0m\u001b[0;34m(\u001b[0m\u001b[0mResults\u001b[0m\u001b[0;34m,\u001b[0m\u001b[0;34m'totcon'\u001b[0m\u001b[0;34m)\u001b[0m\u001b[0;34m\u001b[0m\u001b[0;34m\u001b[0m\u001b[0m\n\u001b[0m\u001b[1;32m      2\u001b[0m \u001b[0mtoperatio_aq\u001b[0m\u001b[0;34m=\u001b[0m\u001b[0mlbls\u001b[0m\u001b[0;34m.\u001b[0m\u001b[0mraw_labels\u001b[0m\u001b[0;34m(\u001b[0m\u001b[0mResults\u001b[0m\u001b[0;34m,\u001b[0m\u001b[0;34m'toperatio_aq'\u001b[0m\u001b[0;34m)\u001b[0m\u001b[0;34m\u001b[0m\u001b[0;34m\u001b[0m\u001b[0m\n\u001b[1;32m      3\u001b[0m \u001b[0msaturation\u001b[0m\u001b[0;34m=\u001b[0m\u001b[0mlbls\u001b[0m\u001b[0;34m.\u001b[0m\u001b[0mraw_labels\u001b[0m\u001b[0;34m(\u001b[0m\u001b[0mResults\u001b[0m\u001b[0;34m,\u001b[0m\u001b[0;34m'saturation'\u001b[0m\u001b[0;34m)\u001b[0m\u001b[0;34m\u001b[0m\u001b[0;34m\u001b[0m\u001b[0m\n\u001b[1;32m      4\u001b[0m \u001b[0;34m\u001b[0m\u001b[0m\n\u001b[1;32m      5\u001b[0m \u001b[0mCaSO4\u001b[0m \u001b[0;34m=\u001b[0m \u001b[0mpd\u001b[0m\u001b[0;34m.\u001b[0m\u001b[0mread_excel\u001b[0m \u001b[0;34m(\u001b[0m\u001b[0;34mr'CaSO4.xlsx'\u001b[0m\u001b[0;34m,\u001b[0m\u001b[0msheet_name\u001b[0m\u001b[0;34m=\u001b[0m\u001b[0;34m'Sheet5'\u001b[0m\u001b[0;34m)\u001b[0m\u001b[0;34m\u001b[0m\u001b[0;34m\u001b[0m\u001b[0m\n",
      "\u001b[0;32m~/Python/Omphalos/trainingModel/labels.py\u001b[0m in \u001b[0;36mraw_labels\u001b[0;34m(data_set, output)\u001b[0m\n\u001b[1;32m     14\u001b[0m     \u001b[0mlabels\u001b[0m \u001b[0;34m=\u001b[0m \u001b[0mpd\u001b[0m\u001b[0;34m.\u001b[0m\u001b[0mDataFrame\u001b[0m\u001b[0;34m(\u001b[0m\u001b[0;34m)\u001b[0m\u001b[0;34m\u001b[0m\u001b[0;34m\u001b[0m\u001b[0m\n\u001b[1;32m     15\u001b[0m     \u001b[0;32mfor\u001b[0m \u001b[0mkey\u001b[0m \u001b[0;32min\u001b[0m \u001b[0mdata_set\u001b[0m\u001b[0;34m:\u001b[0m\u001b[0;34m\u001b[0m\u001b[0;34m\u001b[0m\u001b[0m\n\u001b[0;32m---> 16\u001b[0;31m         \u001b[0mdata_set\u001b[0m\u001b[0;34m[\u001b[0m\u001b[0mkey\u001b[0m\u001b[0;34m]\u001b[0m\u001b[0;34m.\u001b[0m\u001b[0mresults\u001b[0m\u001b[0;34m.\u001b[0m\u001b[0mresults_dict\u001b[0m\u001b[0;34m[\u001b[0m\u001b[0moutput\u001b[0m\u001b[0;34m]\u001b[0m\u001b[0;34m[\u001b[0m\u001b[0;34m'File Num'\u001b[0m\u001b[0;34m]\u001b[0m \u001b[0;34m=\u001b[0m \u001b[0mkey\u001b[0m\u001b[0;34m\u001b[0m\u001b[0;34m\u001b[0m\u001b[0m\n\u001b[0m\u001b[1;32m     17\u001b[0m         \u001b[0mlabels\u001b[0m \u001b[0;34m=\u001b[0m \u001b[0mlabels\u001b[0m\u001b[0;34m.\u001b[0m\u001b[0mappend\u001b[0m\u001b[0;34m(\u001b[0m\u001b[0mdata_set\u001b[0m\u001b[0;34m[\u001b[0m\u001b[0mkey\u001b[0m\u001b[0;34m]\u001b[0m\u001b[0;34m.\u001b[0m\u001b[0mresults\u001b[0m\u001b[0;34m.\u001b[0m\u001b[0mresults_dict\u001b[0m\u001b[0;34m[\u001b[0m\u001b[0moutput\u001b[0m\u001b[0;34m]\u001b[0m\u001b[0;34m)\u001b[0m\u001b[0;34m\u001b[0m\u001b[0;34m\u001b[0m\u001b[0m\n\u001b[1;32m     18\u001b[0m \u001b[0;34m\u001b[0m\u001b[0m\n",
      "\u001b[0;31mKeyError\u001b[0m: 'totcon'"
     ]
    }
   ],
   "source": [
    "totcon=lbls.raw_labels(Results,'totcon')\n",
    "toperatio_aq=lbls.raw_labels(Results,'toperatio_aq')\n",
    "saturation=lbls.raw_labels(Results,'saturation')\n",
    "\n",
    "CaSO4 = pd.read_excel (r'CaSO4.xlsx',sheet_name='Sheet5')\n",
    "\n",
    "fig, (ax0,ax1,ax2) = plt.subplots(nrows=1, ncols=3, figsize=(27, 9))\n",
    "\n",
    "for idx, data in totcon.groupby(level=0):\n",
    "    ax0.plot(data['SO4--']*1000, data['X']/10,'--',color='C'+str(CaSO4['Age'][idx]))\n",
    "    ax0.plot(data['Methane(aq)']*1000, data['X']/10,'-.',color='C'+str(CaSO4['Age'][idx]))\n",
    "ax0.tick_params(labelsize=15)\n",
    "ax0.invert_yaxis()\n",
    "ax0.set_ylabel('Depth (m)',fontsize=18)\n",
    "ax0.set_xlabel('Concentration (mM)',fontsize=18)\n",
    "\n",
    "for idx, data in toperatio_aq.groupby(level=0):\n",
    "    ax1.plot(data['CO2(aq)'], data['X']/10,'--',color='C'+str(CaSO4['Age'][idx]))\n",
    "ax1.tick_params(labelsize=15)\n",
    "ax1.set_ylabel('Depth (m)',fontsize=18)\n",
    "ax1.set_xlabel(u'$\\delta^{13}$C (‰)',fontsize=18)\n",
    "ax1.set_xlim([-35,0])\n",
    "ax1.invert_yaxis()\n",
    "    \n",
    "for idx, data in saturation.groupby(level=0):\n",
    "    ax2.plot(10**(data['Calcite']), data['X']/10,'--',color='C'+str(CaSO4['Age'][idx]))\n",
    "ax2.tick_params(labelsize=15)\n",
    "ax2.invert_yaxis()\n",
    "ax2.set_ylabel('Depth (m)',fontsize=18)\n",
    "ax2.set_xlabel('Calcite Saturation State',fontsize=18)\n",
    "\n"
   ]
  },
  {
   "cell_type": "code",
   "execution_count": 23,
   "metadata": {},
   "outputs": [
    {
     "name": "stdout",
     "output_type": "stream",
     "text": [
      "0    0.0104\n",
      "1    0.0150\n",
      "2    0.0200\n",
      "3    0.0250\n",
      "4    0.0300\n",
      "5    0.0350\n",
      "Name: Ca, dtype: float64\n"
     ]
    }
   ],
   "source": [
    "print(data.iloc[:,0])\n"
   ]
  },
  {
   "cell_type": "code",
   "execution_count": null,
   "metadata": {},
   "outputs": [],
   "source": []
  }
 ],
 "metadata": {
  "kernelspec": {
   "display_name": "Python 3",
   "language": "python",
   "name": "python3"
  },
  "language_info": {
   "codemirror_mode": {
    "name": "ipython",
    "version": 3
   },
   "file_extension": ".py",
   "mimetype": "text/x-python",
   "name": "python",
   "nbconvert_exporter": "python",
   "pygments_lexer": "ipython3",
   "version": "3.9.0"
  }
 },
 "nbformat": 4,
 "nbformat_minor": 4
}

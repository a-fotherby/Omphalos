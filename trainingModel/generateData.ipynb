{
 "cells": [
  {
   "cell_type": "code",
   "execution_count": 1,
   "metadata": {},
   "outputs": [],
   "source": [
    "import numpy as np\n",
    "import matplotlib as pyplot\n",
    "import file_methods as fm\n",
    "import input_file as ipf\n",
    "import generate_inputs as gi\n",
    "import sys\n",
    "import subprocess\n",
    "import pickle"
   ]
  },
  {
   "cell_type": "code",
   "execution_count": null,
   "metadata": {},
   "outputs": [],
   "source": [
    "# Import a template CT input file and iterate on it to make a test set, training set, and validation set.\n",
    "template = gi.import_template('crunchModel/boxModel.in')\n",
    "\n",
    "train_set = gi.generate_data_set(template, 'Seawater', 500, 0.0000000001, 0.00001, 'train')\n",
    "test_set = gi.generate_data_set(template, 'Seawater', 50, 0.00001, 0.0001, 'test')\n",
    "val_set = gi.generate_data_set(template, 'Seawater', 50, 0.00001, 0.0001, 'val')"
   ]
  },
  {
   "cell_type": "code",
   "execution_count": null,
   "metadata": {},
   "outputs": [],
   "source": [
    "# Pickle the data.\n",
    "fm.pickle_data_set(train_set, 'train')\n",
    "fm.pickle_data_set(test_set, 'test')\n",
    "fm.pickle_data_set(val_set, 'val')"
   ]
  }
 ],
 "metadata": {
  "kernelspec": {
   "display_name": "Python 3",
   "language": "python",
   "name": "python3"
  },
  "language_info": {
   "codemirror_mode": {
    "name": "ipython",
    "version": 3
   },
   "file_extension": ".py",
   "mimetype": "text/x-python",
   "name": "python",
   "nbconvert_exporter": "python",
   "pygments_lexer": "ipython3",
   "version": "3.8.3"
  }
 },
 "nbformat": 4,
 "nbformat_minor": 4
}

{
 "cells": [
  {
   "cell_type": "code",
   "execution_count": 1,
   "metadata": {},
   "outputs": [],
   "source": [
    "import numpy as np\n",
    "from matplotlib import pyplot as plt\n",
    "from matplotlib import cm\n",
    "import file_methods as fm\n",
    "import input_file as ipf\n",
    "import generate_inputs as gi\n",
    "import keyword_block\n",
    "import sys\n",
    "import subprocess\n",
    "import pickle\n",
    "import pandas as pd\n",
    "import labels as lbls\n",
    "import shutil\n",
    "#from scipy.interpolate import make_interp_spline, BSpline"
   ]
  },
  {
   "cell_type": "markdown",
   "metadata": {},
   "source": [
    "__Remember to test your input file on its own first!__\n",
    "\n",
    "__Remember to update your database files in /tmp__!"
   ]
  },
  {
   "cell_type": "code",
   "execution_count": 9,
   "metadata": {},
   "outputs": [
    {
     "data": {
      "text/html": [
       "<div>\n",
       "<style scoped>\n",
       "    .dataframe tbody tr th:only-of-type {\n",
       "        vertical-align: middle;\n",
       "    }\n",
       "\n",
       "    .dataframe tbody tr th {\n",
       "        vertical-align: top;\n",
       "    }\n",
       "\n",
       "    .dataframe thead th {\n",
       "        text-align: right;\n",
       "    }\n",
       "</style>\n",
       "<table border=\"1\" class=\"dataframe\">\n",
       "  <thead>\n",
       "    <tr style=\"text-align: right;\">\n",
       "      <th></th>\n",
       "      <th>Sulfate_reduction</th>\n",
       "      <th>13Sulfate_reduction</th>\n",
       "      <th>34Sulfate_reduction</th>\n",
       "      <th>3413Sulfate_reduction</th>\n",
       "      <th>CO2(aq)</th>\n",
       "      <th>C13O2(aq)</th>\n",
       "      <th>Form</th>\n",
       "      <th>Form13</th>\n",
       "      <th>SO4--</th>\n",
       "      <th>S34O4--</th>\n",
       "      <th>calculate_diffusion</th>\n",
       "    </tr>\n",
       "  </thead>\n",
       "  <tbody>\n",
       "    <tr>\n",
       "      <th>0</th>\n",
       "      <td>10200</td>\n",
       "      <td>10200</td>\n",
       "      <td>9741</td>\n",
       "      <td>9741</td>\n",
       "      <td>0.002472</td>\n",
       "      <td>0.000028</td>\n",
       "      <td>0.989107</td>\n",
       "      <td>0.010893</td>\n",
       "      <td>0.026793</td>\n",
       "      <td>0.001207</td>\n",
       "      <td>0.000009</td>\n",
       "    </tr>\n",
       "    <tr>\n",
       "      <th>1</th>\n",
       "      <td>4000</td>\n",
       "      <td>4000</td>\n",
       "      <td>3820</td>\n",
       "      <td>3820</td>\n",
       "      <td>0.002472</td>\n",
       "      <td>0.000028</td>\n",
       "      <td>0.989107</td>\n",
       "      <td>0.010893</td>\n",
       "      <td>0.026793</td>\n",
       "      <td>0.001207</td>\n",
       "      <td>0.000009</td>\n",
       "    </tr>\n",
       "    <tr>\n",
       "      <th>2</th>\n",
       "      <td>10200</td>\n",
       "      <td>10200</td>\n",
       "      <td>9741</td>\n",
       "      <td>9741</td>\n",
       "      <td>0.002472</td>\n",
       "      <td>0.000028</td>\n",
       "      <td>0.989107</td>\n",
       "      <td>0.010893</td>\n",
       "      <td>0.026793</td>\n",
       "      <td>0.001207</td>\n",
       "      <td>0.000008</td>\n",
       "    </tr>\n",
       "    <tr>\n",
       "      <th>3</th>\n",
       "      <td>4000</td>\n",
       "      <td>4000</td>\n",
       "      <td>3820</td>\n",
       "      <td>3820</td>\n",
       "      <td>0.002472</td>\n",
       "      <td>0.000028</td>\n",
       "      <td>0.989107</td>\n",
       "      <td>0.010893</td>\n",
       "      <td>0.026793</td>\n",
       "      <td>0.001207</td>\n",
       "      <td>0.000008</td>\n",
       "    </tr>\n",
       "  </tbody>\n",
       "</table>\n",
       "</div>"
      ],
      "text/plain": [
       "   Sulfate_reduction  13Sulfate_reduction  34Sulfate_reduction  \\\n",
       "0              10200                10200                 9741   \n",
       "1               4000                 4000                 3820   \n",
       "2              10200                10200                 9741   \n",
       "3               4000                 4000                 3820   \n",
       "\n",
       "   3413Sulfate_reduction   CO2(aq)  C13O2(aq)      Form    Form13     SO4--  \\\n",
       "0                   9741  0.002472   0.000028  0.989107  0.010893  0.026793   \n",
       "1                   3820  0.002472   0.000028  0.989107  0.010893  0.026793   \n",
       "2                   9741  0.002472   0.000028  0.989107  0.010893  0.026793   \n",
       "3                   3820  0.002472   0.000028  0.989107  0.010893  0.026793   \n",
       "\n",
       "    S34O4--  calculate_diffusion  \n",
       "0  0.001207             0.000009  \n",
       "1  0.001207             0.000009  \n",
       "2  0.001207             0.000008  \n",
       "3  0.001207             0.000008  "
      ]
     },
     "metadata": {},
     "output_type": "display_data"
    }
   ],
   "source": [
    "# Import a Dataframe containing an Array of any concentrations and aqueous rates to alter in the input files, with the correct column names\n",
    "#data = pd.read_excel('/Users/hjb62/Documents/Adam JC089 Project Results/RatesInput.xlsx',sheet_name='Sheet6',engine=\"openpyxl\")\n",
    "data = pd.read_csv('/Users/hjb62/Python/Bateson_Paper/Input_Sheets/SRRates_diffusion.csv')\n",
    "\n",
    "# Make sure imported dataframe is expected length\n",
    "display(data)"
   ]
  },
  {
   "cell_type": "code",
   "execution_count": 5,
   "metadata": {},
   "outputs": [
    {
     "name": "stdout",
     "output_type": "stream",
     "text": [
      "*** Importing template file ***\n",
      "The keyword \"ION_EXCHANGE\" you searched for does not exist. If you are sure that this keyword is in your input file, check your spelling.\n",
      "The keyword \"SURFACE_COMPLEXATION\" you searched for does not exist. If you are sure that this keyword is in your input file, check your spelling.\n",
      "The keyword \"FLOW\" you searched for does not exist. If you are sure that this keyword is in your input file, check your spelling.\n",
      "The keyword \"PEST\" you searched for does not exist. If you are sure that this keyword is in your input file, check your spelling.\n",
      "The keyword \"EROSION/BURIAL\" you searched for does not exist. If you are sure that this keyword is in your input file, check your spelling.\n",
      "The keyword \"ISOTOPES\" you searched for does not exist. If you are sure that this keyword is in your input file, check your spelling.\n",
      "*** Creating input files ***\n",
      "*** Begin running input files ***\n",
      "File 0 complete.\n",
      "File 1 complete.\n",
      "File 2 complete.\n",
      "File 3 complete.\n"
     ]
    }
   ],
   "source": [
    "# Import a template CT input file and iterate on it to make a test set, training set, and validation set.\n",
    "template = gi.import_template('CarbSulfModel/CSColumnShortSR.in')\n",
    "\n",
    "Results=gi.generate_data_set(template, 'Seawater', len(data), 'Results', data=data)\n",
    "# train_set = gi.generate_data_set(template, 'Seawater', 10, 'train')\n",
    "# test_set = gi.generate_data_set(template, 'Seawater', 0, 'test')"
   ]
  },
  {
   "cell_type": "code",
   "execution_count": 6,
   "metadata": {},
   "outputs": [],
   "source": [
    "pickle.dump( Results, open( \"ResultsSRonlySet2d.pkl\", \"wb\" ) )"
   ]
  },
  {
   "cell_type": "code",
   "execution_count": 7,
   "metadata": {},
   "outputs": [
    {
     "data": {
      "text/plain": [
       "'/Users/hjb62/Python/Bateson Paper/ResultsSRonlySet2d.pkl'"
      ]
     },
     "execution_count": 7,
     "metadata": {},
     "output_type": "execute_result"
    }
   ],
   "source": [
    "shutil.move('/Users/hjb62/Python/Omphalos/trainingModel/ResultsSRonlySet2d.pkl','/Users/hjb62/Python/Bateson Paper/ResultsSRonlySet2d.pkl')"
   ]
  },
  {
   "cell_type": "code",
   "execution_count": null,
   "metadata": {},
   "outputs": [],
   "source": []
  }
 ],
 "metadata": {
  "kernelspec": {
   "display_name": "Python 3",
   "language": "python",
   "name": "python3"
  },
  "language_info": {
   "codemirror_mode": {
    "name": "ipython",
    "version": 3
   },
   "file_extension": ".py",
   "mimetype": "text/x-python",
   "name": "python",
   "nbconvert_exporter": "python",
   "pygments_lexer": "ipython3",
   "version": "3.9.0"
  }
 },
 "nbformat": 4,
 "nbformat_minor": 4
}

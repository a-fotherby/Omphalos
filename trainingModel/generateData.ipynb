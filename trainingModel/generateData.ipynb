{
 "cells": [
  {
   "cell_type": "code",
   "execution_count": 1,
   "metadata": {},
   "outputs": [],
   "source": [
    "import numpy as np\n",
    "import matplotlib as pyplot\n",
    "import extractInputData as eid\n",
    "import inputFile as ipf"
   ]
  },
  {
   "cell_type": "code",
   "execution_count": 2,
   "metadata": {},
   "outputs": [
    {
     "name": "stdout",
     "output_type": "stream",
     "text": [
      "dict_keys(['MINERALS', 'FeS(am)', 'FeS34(am)', 'Siderite', 'SiO2(am)', 'Quartz', 'Calcite', 'Calcite44', 'Sepiolite', 'K-Feldspar', 'Kaolinite', 'C5H7O2NSO4(s)'])\n"
     ]
    }
   ],
   "source": [
    "inputFile = ipf.inputFile('testFile', 'crunchModel/boxModel.in')\n",
    "\n",
    "inputFile.getKeywordBlock(inputFile.raw, 'MINERALS')\n",
    "\n",
    "print(inputFile.keywordBlocks['MINERALS'].contents.keys())"
   ]
  },
  {
   "cell_type": "code",
   "execution_count": 2,
   "metadata": {},
   "outputs": [
    {
     "name": "stdout",
     "output_type": "stream",
     "text": [
      "dict_keys(['Seawater', 'empty'])\n"
     ]
    }
   ],
   "source": [
    "inputFile = ipf.inputFile('testFile', 'crunchModel/boxModel.in')\n",
    "\n",
    "inputFile.getConditionBlocks(inputFile.raw)\n",
    "\n",
    "print(inputFile.conditionBlocks.keys())"
   ]
  },
  {
   "cell_type": "code",
   "execution_count": 4,
   "metadata": {},
   "outputs": [
    {
     "name": "stdout",
     "output_type": "stream",
     "text": [
      "dict_keys(['MINERALS', 'FeS(am)', 'FeS34(am)', 'Siderite', 'SiO2(am)', 'Quartz', 'Calcite', 'Calcite44', 'Sepiolite', 'K-Feldspar', 'Kaolinite', 'C5H7O2NSO4(s)'])\n"
     ]
    }
   ],
   "source": [
    "inputFile = eid.importFile('crunchModel/boxModel.in')\n",
    "\n",
    "eid.extractKeywordBlock(inputFile, 'MINERALS')\n",
    "\n",
    "print(minerals.keys())"
   ]
  },
  {
   "cell_type": "code",
   "execution_count": 6,
   "metadata": {},
   "outputs": [
    {
     "data": {
      "text/plain": [
       "'minerals'"
      ]
     },
     "execution_count": 6,
     "metadata": {},
     "output_type": "execute_result"
    }
   ],
   "source": [
    "minerals = ipf.keywordBlock('minerals')\n",
    "minerals.blockType"
   ]
  },
  {
   "cell_type": "code",
   "execution_count": 25,
   "metadata": {},
   "outputs": [
    {
     "name": "stdout",
     "output_type": "stream",
     "text": [
      "['H+', 'Al+++', 'CO2(aq)', 'NH3(aq)', 'Mg++', 'Ca++', 'Ca44++', 'Fe++', 'Fe+++', 'Cl-', 'K+', 'H2S(aq)', 'H2S34(aq)', 'SO4--', 'S34O4--', 'Na+', 'SiO2(aq)', 'O2(aq)', 'B(OH)3(aq)', 'HPO4--', 'NO3-', 'Methane(aq)', 'Formaldehyde', 'C5H7O2NSO4']\n"
     ]
    }
   ],
   "source": [
    "# Generate list of primary species.\n",
    "primarySpecies = []\n",
    "for i in np.arange(blockStart + 1, blockEnd):\n",
    "    try:\n",
    "        primarySpecies.append(inputFile[i])\n",
    "    except:\n",
    "        pass\n",
    "    \n",
    "print(primarySpecies)"
   ]
  }
 ],
 "metadata": {
  "kernelspec": {
   "display_name": "Python 3",
   "language": "python",
   "name": "python3"
  },
  "language_info": {
   "codemirror_mode": {
    "name": "ipython",
    "version": 3
   },
   "file_extension": ".py",
   "mimetype": "text/x-python",
   "name": "python",
   "nbconvert_exporter": "python",
   "pygments_lexer": "ipython3",
   "version": "3.8.3"
  }
 },
 "nbformat": 4,
 "nbformat_minor": 4
}

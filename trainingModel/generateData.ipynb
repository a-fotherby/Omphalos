{
 "cells": [
  {
   "cell_type": "code",
   "execution_count": 1,
   "metadata": {},
   "outputs": [],
   "source": [
    "import numpy as np\n",
    "import matplotlib as pyplot\n",
    "import file_methods as fm\n",
    "import input_file as ipf\n",
    "import generate_inputs as gi\n",
    "import sys"
   ]
  },
  {
   "cell_type": "code",
   "execution_count": 2,
   "metadata": {},
   "outputs": [
    {
     "data": {
      "text/html": [
       "<div>\n",
       "<style scoped>\n",
       "    .dataframe tbody tr th:only-of-type {\n",
       "        vertical-align: middle;\n",
       "    }\n",
       "\n",
       "    .dataframe tbody tr th {\n",
       "        vertical-align: top;\n",
       "    }\n",
       "\n",
       "    .dataframe thead th {\n",
       "        text-align: right;\n",
       "    }\n",
       "</style>\n",
       "<table border=\"1\" class=\"dataframe\">\n",
       "  <thead>\n",
       "    <tr style=\"text-align: right;\">\n",
       "      <th></th>\n",
       "      <th>X</th>\n",
       "      <th>Y</th>\n",
       "      <th>Z</th>\n",
       "      <th>H+</th>\n",
       "      <th>Al+++</th>\n",
       "      <th>CO2(aq)</th>\n",
       "      <th>NH3(aq)</th>\n",
       "      <th>Mg++</th>\n",
       "      <th>Ca++</th>\n",
       "      <th>Ca44++</th>\n",
       "      <th>...</th>\n",
       "      <th>S34O4--</th>\n",
       "      <th>Na+</th>\n",
       "      <th>SiO2(aq)</th>\n",
       "      <th>O2(aq)</th>\n",
       "      <th>B(OH)3(aq)</th>\n",
       "      <th>HPO4--</th>\n",
       "      <th>NO3-</th>\n",
       "      <th>Methane(aq)</th>\n",
       "      <th>Formaldehyde</th>\n",
       "      <th>C5H7O2NSO4</th>\n",
       "    </tr>\n",
       "  </thead>\n",
       "  <tbody>\n",
       "    <tr>\n",
       "      <th>0</th>\n",
       "      <td>0.5</td>\n",
       "      <td>0.5</td>\n",
       "      <td>0.5</td>\n",
       "      <td>-0.003598</td>\n",
       "      <td>1.483573e-09</td>\n",
       "      <td>0.011291</td>\n",
       "      <td>1.480000e-09</td>\n",
       "      <td>0.056225</td>\n",
       "      <td>1.29806</td>\n",
       "      <td>0.0281</td>\n",
       "      <td>...</td>\n",
       "      <td>0.000713</td>\n",
       "      <td>0.474</td>\n",
       "      <td>0.000424</td>\n",
       "      <td>0.00018</td>\n",
       "      <td>0.0004</td>\n",
       "      <td>0.000002</td>\n",
       "      <td>0.000039</td>\n",
       "      <td>7.929365e-10</td>\n",
       "      <td>0.095821</td>\n",
       "      <td>3.943732e-16</td>\n",
       "    </tr>\n",
       "  </tbody>\n",
       "</table>\n",
       "<p>1 rows × 27 columns</p>\n",
       "</div>"
      ],
      "text/plain": [
       "     X    Y    Z        H+         Al+++   CO2(aq)       NH3(aq)      Mg++  \\\n",
       "0  0.5  0.5  0.5 -0.003598  1.483573e-09  0.011291  1.480000e-09  0.056225   \n",
       "\n",
       "      Ca++  Ca44++  ...   S34O4--    Na+  SiO2(aq)   O2(aq)  B(OH)3(aq)  \\\n",
       "0  1.29806  0.0281  ...  0.000713  0.474  0.000424  0.00018      0.0004   \n",
       "\n",
       "     HPO4--      NO3-   Methane(aq)  Formaldehyde    C5H7O2NSO4  \n",
       "0  0.000002  0.000039  7.929365e-10      0.095821  3.943732e-16  \n",
       "\n",
       "[1 rows x 27 columns]"
      ]
     },
     "execution_count": 2,
     "metadata": {},
     "output_type": "execute_result"
    }
   ],
   "source": [
    "df = fm.read_tec_file('crunchModel/', 'totcon')\n",
    "df"
   ]
  },
  {
   "cell_type": "code",
   "execution_count": 3,
   "metadata": {},
   "outputs": [
    {
     "name": "stdout",
     "output_type": "stream",
     "text": [
      "dict_keys(['MINERALS', 'FeS(am)', 'FeS34(am)', 'Siderite', 'SiO2(am)', 'Quartz', 'Calcite', 'Calcite44', 'Sepiolite', 'K-Feldspar', 'Kaolinite', 'C5H7O2NSO4(s)'])\n"
     ]
    }
   ],
   "source": [
    "inputFile = ipf.InputFile('crunchModel/boxModel.in')\n",
    "\n",
    "inputFile.get_keyword_block('MINERALS')\n",
    "\n",
    "print(inputFile.keyword_blocks['MINERALS'].contents.keys())"
   ]
  },
  {
   "cell_type": "code",
   "execution_count": 4,
   "metadata": {},
   "outputs": [
    {
     "name": "stdout",
     "output_type": "stream",
     "text": [
      "['1.480e-09']\n"
     ]
    }
   ],
   "source": [
    "inputFile = ipf.InputFile('crunchModel/boxModel.in')\n",
    "\n",
    "inputFile.get_condition_blocks()\n",
    "\n",
    "print(inputFile.condition_blocks['Seawater'].contents['NH3(aq)'])"
   ]
  },
  {
   "cell_type": "code",
   "execution_count": 5,
   "metadata": {},
   "outputs": [
    {
     "name": "stdout",
     "output_type": "stream",
     "text": [
      "The keyword \"ION_EXCHANGE\" you searched for does not exist. If you are sure that this keyword is in your input file, check your spelling.\n",
      "The keyword \"SURFACE_COMPLEXATION\" you searched for does not exist. If you are sure that this keyword is in your input file, check your spelling.\n",
      "The keyword \"TRANSPORT\" you searched for does not exist. If you are sure that this keyword is in your input file, check your spelling.\n",
      "The keyword \"FLOW\" you searched for does not exist. If you are sure that this keyword is in your input file, check your spelling.\n",
      "The keyword \"PEST\" you searched for does not exist. If you are sure that this keyword is in your input file, check your spelling.\n",
      "The keyword \"EROSION/BURIAL\" you searched for does not exist. If you are sure that this keyword is in your input file, check your spelling.\n"
     ]
    }
   ],
   "source": [
    "template = gi.import_template('crunchModel/boxModel.in')"
   ]
  },
  {
   "cell_type": "code",
   "execution_count": 6,
   "metadata": {},
   "outputs": [],
   "source": [
    "listy = gi.create_condition_series(template, 'Seawater', 10, 0.1, 1)"
   ]
  },
  {
   "cell_type": "code",
   "execution_count": 7,
   "metadata": {},
   "outputs": [
    {
     "name": "stdout",
     "output_type": "stream",
     "text": [
      "0.25239\n",
      "0.72109\n",
      "0.25741\n",
      "0.54465\n",
      "0.48567\n",
      "0.65532\n",
      "0.62282\n",
      "0.50047\n",
      "0.57377\n",
      "0.3403\n"
     ]
    }
   ],
   "source": [
    "for file in listy:\n",
    "    print(listy[file].condition_blocks['Seawater'].primary_species['NH3(aq)'])"
   ]
  },
  {
   "cell_type": "code",
   "execution_count": 8,
   "metadata": {},
   "outputs": [
    {
     "data": {
      "text/plain": [
       "{'TITLE': <input_file.KeywordBlock at 0x10fd3b940>,\n",
       " 'RUNTIME': <input_file.KeywordBlock at 0x10ddde160>,\n",
       " 'OUTPUT': <input_file.KeywordBlock at 0x10de39970>,\n",
       " 'DISCRETIZATION': <input_file.KeywordBlock at 0x10de39310>,\n",
       " 'PRIMARY_SPECIES': <input_file.KeywordBlock at 0x10de39ca0>,\n",
       " 'SECONDARY_SPECIES': <input_file.KeywordBlock at 0x10de397f0>,\n",
       " 'GASES': <input_file.KeywordBlock at 0x11b918100>,\n",
       " 'MINERALS': <input_file.KeywordBlock at 0x10de39910>,\n",
       " 'AQUEOUS_KINETICS': <input_file.KeywordBlock at 0x11b9183d0>,\n",
       " 'INITIAL_CONDITIONS': <input_file.KeywordBlock at 0x11b918160>,\n",
       " 'BOUNDARY_CONDITIONS': <input_file.KeywordBlock at 0x11b918340>,\n",
       " 'TEMPERATURE': <input_file.KeywordBlock at 0x11b918490>,\n",
       " 'POROSITY': <input_file.KeywordBlock at 0x11b918310>}"
      ]
     },
     "execution_count": 8,
     "metadata": {},
     "output_type": "execute_result"
    }
   ],
   "source": [
    "template.keyword_blocks"
   ]
  },
  {
   "cell_type": "code",
   "execution_count": 11,
   "metadata": {},
   "outputs": [],
   "source": [
    "template.path = 'testOut.in'\n",
    "template.print_input_file()"
   ]
  },
  {
   "cell_type": "code",
   "execution_count": 13,
   "metadata": {},
   "outputs": [
    {
     "name": "stdout",
     "output_type": "stream",
     "text": [
      "{'MINERALS': [], 'FeS(am)': ['-rate', '-9.0'], 'FeS34(am)': ['-rate', '-9.0'], 'Siderite': ['-rate', '-10.0'], 'SiO2(am)': ['-rate', '-9.0'], 'Quartz': ['-default', '-rate', '-30.0'], 'Calcite': ['-label', 'default', '-rate', '-10.6'], 'Calcite44': ['-label', 'default', '-rate', '-10.600556'], 'Sepiolite': ['-rate', '-19.0'], 'K-Feldspar': ['-rate', '-19.0'], 'Kaolinite': ['-rate', '-19.2'], 'C5H7O2NSO4(s)': ['-label', 'default', '-rate', '-2.0']}\n",
      "['1.480e-09']\n"
     ]
    }
   ],
   "source": [
    "print(template.keyword_blocks['MINERALS'].contents)\n",
    "print(template.condition_blocks['Seawater'].primary_species['NH3(aq)'])"
   ]
  },
  {
   "cell_type": "code",
   "execution_count": null,
   "metadata": {},
   "outputs": [],
   "source": []
  }
 ],
 "metadata": {
  "kernelspec": {
   "display_name": "Python 3",
   "language": "python",
   "name": "python3"
  },
  "language_info": {
   "codemirror_mode": {
    "name": "ipython",
    "version": 3
   },
   "file_extension": ".py",
   "mimetype": "text/x-python",
   "name": "python",
   "nbconvert_exporter": "python",
   "pygments_lexer": "ipython3",
   "version": "3.8.3"
  }
 },
 "nbformat": 4,
 "nbformat_minor": 4
}

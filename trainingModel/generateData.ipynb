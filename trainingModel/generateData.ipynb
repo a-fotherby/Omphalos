{
 "cells": [
  {
   "cell_type": "code",
   "execution_count": 1,
   "metadata": {},
   "outputs": [],
   "source": [
    "import numpy as np\n",
    "import matplotlib as pyplot\n",
    "import file_methods as fm\n",
    "import input_file as ipf\n",
    "import generate_inputs as gi\n",
    "import sys\n",
    "import subprocess\n",
    "import pickle"
   ]
  },
  {
   "cell_type": "code",
   "execution_count": 2,
   "metadata": {},
   "outputs": [
    {
     "name": "stdout",
     "output_type": "stream",
     "text": [
      "The keyword \"ION_EXCHANGE\" you searched for does not exist. If you are sure that this keyword is in your input file, check your spelling.\n",
      "The keyword \"SURFACE_COMPLEXATION\" you searched for does not exist. If you are sure that this keyword is in your input file, check your spelling.\n",
      "The keyword \"TRANSPORT\" you searched for does not exist. If you are sure that this keyword is in your input file, check your spelling.\n",
      "The keyword \"FLOW\" you searched for does not exist. If you are sure that this keyword is in your input file, check your spelling.\n",
      "The keyword \"PEST\" you searched for does not exist. If you are sure that this keyword is in your input file, check your spelling.\n",
      "The keyword \"EROSION/BURIAL\" you searched for does not exist. If you are sure that this keyword is in your input file, check your spelling.\n"
     ]
    },
    {
     "data": {
      "text/plain": [
       "{'CO2(aq)': ['4.75e-03'],\n",
       " 'O2(aq)': ['1.80e-04'],\n",
       " 'NH3(aq)': ['1.480e-09'],\n",
       " 'Mg++': ['5.110e-02'],\n",
       " 'Al+++': ['0.037e-06'],\n",
       " 'Fe++': ['2.600e-05'],\n",
       " 'Fe+++': ['1.000e-13'],\n",
       " 'Ca++': ['1.3153E0'],\n",
       " 'K+': ['1.200e-02'],\n",
       " 'SO4--': ['26.79609E-03'],\n",
       " 'B(OH)3(aq)': ['0.400e-03'],\n",
       " 'HPO4--': ['1.700e-06'],\n",
       " 'H2S(aq)': ['1.000e-15'],\n",
       " 'SiO2(aq)': ['1.57e-04'],\n",
       " 'Na+': ['4.740e-01'],\n",
       " 'Methane(aq)': ['1e-08'],\n",
       " 'Cl-': ['charge'],\n",
       " 'NO3-': ['3.9e-5'],\n",
       " 'Formaldehyde': ['1.2e-01'],\n",
       " 'C5H7O2NSO4': ['C5H7O2NSO4(s)']}"
      ]
     },
     "execution_count": 2,
     "metadata": {},
     "output_type": "execute_result"
    }
   ],
   "source": [
    "template = gi.import_template('crunchModel/boxModel.in')\n",
    "template.sort_condition_block('Seawater')\n",
    "template.condition_blocks['Seawater'].primary_species"
   ]
  },
  {
   "cell_type": "code",
   "execution_count": 3,
   "metadata": {},
   "outputs": [],
   "source": [
    "foo = gi.create_condition_series(template, 'Seawater', 10, 0.000001, 0.00001)"
   ]
  },
  {
   "cell_type": "code",
   "execution_count": 4,
   "metadata": {},
   "outputs": [
    {
     "data": {
      "text/plain": [
       "{'CO2(aq)': [5.4237592e-06],\n",
       " 'O2(aq)': [9.766089954e-06],\n",
       " 'NH3(aq)': [2.028594309e-06],\n",
       " 'Mg++': [6.017078442e-06],\n",
       " 'Al+++': [6.896555229e-06],\n",
       " 'Fe++': [9.600033261e-06],\n",
       " 'Fe+++': [8.417674097e-06],\n",
       " 'Ca++': [6.78191773e-06],\n",
       " 'Ca44++': [1.738286364e-06],\n",
       " 'K+': [9.898240423e-06],\n",
       " 'SO4--': [1.635951925e-06],\n",
       " 'S34O4--': [8.035707527e-06],\n",
       " 'B(OH)3(aq)': [8.32733562e-06],\n",
       " 'HPO4--': [3.784320554e-06],\n",
       " 'H2S(aq)': [2.086327207e-06],\n",
       " 'H2S34(aq)': [5.255905722e-06],\n",
       " 'SiO2(aq)': [8.280008027e-06],\n",
       " 'Na+': [2.846947781e-06],\n",
       " 'Methane(aq)': [1.433291335e-06],\n",
       " 'Cl-': [9.295945091e-06],\n",
       " 'NO3-': [6.227165886e-06],\n",
       " 'Formaldehyde': [7.999579279e-06],\n",
       " 'C5H7O2NSO4': [6.79976187e-06]}"
      ]
     },
     "execution_count": 4,
     "metadata": {},
     "output_type": "execute_result"
    }
   ],
   "source": [
    "foo[5].condition_blocks['Seawater'].primary_species"
   ]
  },
  {
   "cell_type": "code",
   "execution_count": 4,
   "metadata": {},
   "outputs": [
    {
     "name": "stdout",
     "output_type": "stream",
     "text": [
      "['Seawater']\n",
      "['mol/kg']\n",
      "['8.0']\n",
      "['8.15']\n",
      "[1e-05]\n",
      "[1e-05]\n",
      "[1e-05]\n",
      "[1e-05]\n",
      "[1e-05]\n",
      "[0.0]\n",
      "[0.0]\n",
      "[0.0]\n",
      "[0.0]\n",
      "[0.0]\n",
      "[1e-05]\n",
      "[1e-05]\n",
      "[0.0]\n",
      "[0.0]\n",
      "[0.0]\n",
      "[0.0]\n",
      "[0.0]\n",
      "[1e-05]\n",
      "[1e-05]\n",
      "[0.0]\n",
      "[0.0]\n",
      "[1e-05]\n",
      "[1e-05]\n",
      "['0.00001', '0.2']\n",
      "['4.5090014600E-07', '0.2']\n",
      "['0.00', '0.2']\n",
      "['0.02', '1.0']\n",
      "['0.00', '1.0']\n",
      "['0.3', '1.0']\n",
      "['0.006360041', '1.0']\n",
      "['0.01', 'ssa', '55.0']\n",
      "['0.01', 'ssa', '55.0']\n",
      "['0.05', 'ssa', '55.0']\n",
      "['5.189E-6']\n",
      "['empty']\n",
      "['1.000e-15']\n",
      "['7.0']\n",
      "['1.000e-15']\n",
      "['1.000e-15']\n",
      "['1.000e-15']\n",
      "['1.000e-15']\n",
      "['1.000e-15']\n",
      "['1.000e-15']\n",
      "['1.000e-15']\n",
      "['3.00E-15']\n",
      "['6.360041E-17']\n",
      "['1.000e-15']\n",
      "['1.000e-15']\n",
      "['1.000e-15']\n",
      "['1.000e-15']\n",
      "['1.000e-15']\n",
      "['1.000e-15']\n",
      "['1.000e-15']\n",
      "['1.000e-15']\n",
      "['1.000e-15']\n",
      "['1.000e-15']\n",
      "['charge']\n",
      "['1.000e-15']\n",
      "['1.000e-15']\n",
      "['C5H7O2NSO4(s)']\n",
      "['1.000e-15', '0.2']\n",
      "['1.000e-15', '0.2']\n",
      "['1.000e-15', '0.2']\n",
      "['1.000e-15', '1.0']\n",
      "['1.000e-15', '1.0']\n",
      "['3.00E-15', '1.0']\n",
      "['6.360041E-17', '1.0']\n",
      "['1.000e-15', 'ssa', '55.0']\n",
      "['1.000e-15', 'ssa', '55.0']\n",
      "['1.000e-15', 'ssa', '55.0']\n",
      "['5.189E-6']\n"
     ]
    }
   ],
   "source": [
    "foo[5].path = 'foo5.in'\n",
    "#foo[5].condition_blocks['Seawater'].parameters\n",
    "\n",
    "foo[5].print_input_file()\n"
   ]
  },
  {
   "cell_type": "code",
   "execution_count": 6,
   "metadata": {},
   "outputs": [
    {
     "name": "stdout",
     "output_type": "stream",
     "text": [
      "{'CO2(aq)': ['0.00074'], 'O2(aq)': ['0.00059'], 'NH3(aq)': ['0.00011'], 'Mg++': ['0.00046'], 'Al+++': ['0.00065'], 'Fe++': ['0.00062'], 'Fe+++': ['0.0003'], 'Ca++': ['0.00031'], 'Ca44++': ['0.00013'], 'K+': ['0.0004'], 'SO4--': ['0.00075'], 'S34O4--': ['0.00063'], 'B(OH)3(aq)': ['0.00075'], 'HPO4--': ['0.00047'], 'H2S(aq)': ['0.00054'], 'H2S34(aq)': ['0.00081'], 'SiO2(aq)': ['0.00056'], 'Na+': ['0.00071'], 'Methane(aq)': ['0.00095'], 'Cl-': ['0.0005'], 'NO3-': ['0.00059'], 'Formaldehyde': ['0.0007'], 'C5H7O2NSO4': ['0.00028']}\n",
      "{'CO2(aq)': ['0.00057'], 'O2(aq)': ['0.00091'], 'NH3(aq)': ['0.00031'], 'Mg++': ['0.00054'], 'Al+++': ['0.001'], 'Fe++': ['0.00018'], 'Fe+++': ['0.00041'], 'Ca++': ['0.00056'], 'Ca44++': ['0.00029'], 'K+': ['0.0005'], 'SO4--': ['0.00027'], 'S34O4--': ['0.0005'], 'B(OH)3(aq)': ['0.00092'], 'HPO4--': ['0.00089'], 'H2S(aq)': ['0.00048'], 'H2S34(aq)': ['0.00043'], 'SiO2(aq)': ['0.0009'], 'Na+': ['0.00069'], 'Methane(aq)': ['0.00043'], 'Cl-': ['0.00091'], 'NO3-': ['0.0009'], 'Formaldehyde': ['0.0005'], 'C5H7O2NSO4': ['0.00067']}\n",
      "{'CO2(aq)': ['0.00085'], 'O2(aq)': ['0.00013'], 'NH3(aq)': ['0.0004'], 'Mg++': ['0.00073'], 'Al+++': ['0.00075'], 'Fe++': ['0.00098'], 'Fe+++': ['0.00017'], 'Ca++': ['0.00086'], 'Ca44++': ['0.00078'], 'K+': ['0.00068'], 'SO4--': ['0.00084'], 'S34O4--': ['0.00041'], 'B(OH)3(aq)': ['0.00034'], 'HPO4--': ['0.00019'], 'H2S(aq)': ['0.00045'], 'H2S34(aq)': ['0.00036'], 'SiO2(aq)': ['0.00066'], 'Na+': ['0.00091'], 'Methane(aq)': ['0.00063'], 'Cl-': ['0.00062'], 'NO3-': ['0.00076'], 'Formaldehyde': ['0.00032'], 'C5H7O2NSO4': ['0.00033']}\n",
      "{'CO2(aq)': ['0.0008'], 'O2(aq)': ['0.00046'], 'NH3(aq)': ['0.00033'], 'Mg++': ['0.00039'], 'Al+++': ['0.00052'], 'Fe++': ['0.00025'], 'Fe+++': ['0.00028'], 'Ca++': ['0.00016'], 'Ca44++': ['0.00074'], 'K+': ['0.00049'], 'SO4--': ['0.00064'], 'S34O4--': ['0.00054'], 'B(OH)3(aq)': ['0.00067'], 'HPO4--': ['0.0004'], 'H2S(aq)': ['0.00018'], 'H2S34(aq)': ['0.0007'], 'SiO2(aq)': ['0.00058'], 'Na+': ['0.00032'], 'Methane(aq)': ['0.00036'], 'Cl-': ['0.00032'], 'NO3-': ['0.00028'], 'Formaldehyde': ['0.00037'], 'C5H7O2NSO4': ['0.00017']}\n",
      "{'CO2(aq)': ['0.00025'], 'O2(aq)': ['0.00067'], 'NH3(aq)': ['0.00016'], 'Mg++': ['0.00075'], 'Al+++': ['0.00076'], 'Fe++': ['0.00098'], 'Fe+++': ['0.00025'], 'Ca++': ['0.00029'], 'Ca44++': ['0.00014'], 'K+': ['0.00051'], 'SO4--': ['0.00047'], 'S34O4--': ['0.00031'], 'B(OH)3(aq)': ['0.00072'], 'HPO4--': ['0.00056'], 'H2S(aq)': ['0.00045'], 'H2S34(aq)': ['0.00053'], 'SiO2(aq)': ['0.00093'], 'Na+': ['0.00036'], 'Methane(aq)': ['0.00037'], 'Cl-': ['0.00011'], 'NO3-': ['0.00036'], 'Formaldehyde': ['0.00091'], 'C5H7O2NSO4': ['0.00091']}\n",
      "{'CO2(aq)': ['0.00026'], 'O2(aq)': ['0.00085'], 'NH3(aq)': ['0.0008'], 'Mg++': ['0.00092'], 'Al+++': ['0.00091'], 'Fe++': ['0.00058'], 'Fe+++': ['0.00015'], 'Ca++': ['0.00051'], 'Ca44++': ['0.00018'], 'K+': ['0.00039'], 'SO4--': ['0.00049'], 'S34O4--': ['0.00018'], 'B(OH)3(aq)': ['0.00093'], 'HPO4--': ['0.00095'], 'H2S(aq)': ['0.00029'], 'H2S34(aq)': ['0.0001'], 'SiO2(aq)': ['0.00068'], 'Na+': ['0.00075'], 'Methane(aq)': ['0.00037'], 'Cl-': ['0.00018'], 'NO3-': ['0.00095'], 'Formaldehyde': ['0.00039'], 'C5H7O2NSO4': ['0.00096']}\n",
      "{'CO2(aq)': ['0.00043'], 'O2(aq)': ['0.00086'], 'NH3(aq)': ['0.00082'], 'Mg++': ['0.00031'], 'Al+++': ['0.00017'], 'Fe++': ['0.0009'], 'Fe+++': ['0.00022'], 'Ca++': ['0.00049'], 'Ca44++': ['0.0008'], 'K+': ['0.00051'], 'SO4--': ['0.00097'], 'S34O4--': ['0.00093'], 'B(OH)3(aq)': ['0.00073'], 'HPO4--': ['0.00051'], 'H2S(aq)': ['0.00091'], 'H2S34(aq)': ['0.00085'], 'SiO2(aq)': ['0.00033'], 'Na+': ['0.00092'], 'Methane(aq)': ['0.00083'], 'Cl-': ['0.00077'], 'NO3-': ['0.00018'], 'Formaldehyde': ['0.00069'], 'C5H7O2NSO4': ['0.00021']}\n",
      "{'CO2(aq)': ['0.00079'], 'O2(aq)': ['0.00036'], 'NH3(aq)': ['0.00031'], 'Mg++': ['0.00089'], 'Al+++': ['0.00037'], 'Fe++': ['0.00022'], 'Fe+++': ['0.00025'], 'Ca++': ['0.00047'], 'Ca44++': ['0.00066'], 'K+': ['0.00012'], 'SO4--': ['0.00054'], 'S34O4--': ['0.00013'], 'B(OH)3(aq)': ['0.00031'], 'HPO4--': ['0.00038'], 'H2S(aq)': ['0.00018'], 'H2S34(aq)': ['0.00037'], 'SiO2(aq)': ['0.00086'], 'Na+': ['0.0003'], 'Methane(aq)': ['0.00047'], 'Cl-': ['0.00076'], 'NO3-': ['0.00056'], 'Formaldehyde': ['0.0003'], 'C5H7O2NSO4': ['0.00046']}\n",
      "{'CO2(aq)': ['0.00035'], 'O2(aq)': ['0.00056'], 'NH3(aq)': ['0.0002'], 'Mg++': ['0.00089'], 'Al+++': ['0.0002'], 'Fe++': ['0.00028'], 'Fe+++': ['0.00051'], 'Ca++': ['0.00053'], 'Ca44++': ['0.00048'], 'K+': ['0.00097'], 'SO4--': ['0.00034'], 'S34O4--': ['0.00056'], 'B(OH)3(aq)': ['0.00096'], 'HPO4--': ['0.00015'], 'H2S(aq)': ['0.00048'], 'H2S34(aq)': ['0.00062'], 'SiO2(aq)': ['0.00016'], 'Na+': ['0.00037'], 'Methane(aq)': ['0.00043'], 'Cl-': ['0.0005'], 'NO3-': ['0.00037'], 'Formaldehyde': ['0.00097'], 'C5H7O2NSO4': ['0.00029']}\n",
      "{'CO2(aq)': ['0.00051'], 'O2(aq)': ['0.00045'], 'NH3(aq)': ['0.00065'], 'Mg++': ['0.0002'], 'Al+++': ['0.0007'], 'Fe++': ['0.00078'], 'Fe+++': ['0.00023'], 'Ca++': ['0.00065'], 'Ca44++': ['0.00023'], 'K+': ['0.00051'], 'SO4--': ['0.00032'], 'S34O4--': ['0.00029'], 'B(OH)3(aq)': ['0.0005'], 'HPO4--': ['0.00094'], 'H2S(aq)': ['0.00034'], 'H2S34(aq)': ['0.00069'], 'SiO2(aq)': ['0.00066'], 'Na+': ['0.00089'], 'Methane(aq)': ['0.00059'], 'Cl-': ['0.00066'], 'NO3-': ['0.00055'], 'Formaldehyde': ['0.00017'], 'C5H7O2NSO4': ['0.00098']}\n"
     ]
    }
   ],
   "source": [
    "results_set = gi.generate_data_set(template, 'Seawater', 10, 0.0001, 0.001, 'test')\n",
    "\n",
    "#results_set[5].condition_blocks['Seawater'].primary_species"
   ]
  },
  {
   "cell_type": "code",
   "execution_count": null,
   "metadata": {},
   "outputs": [],
   "source": [
    "#results_set[5].results.results_dict['totcon']"
   ]
  },
  {
   "cell_type": "code",
   "execution_count": 7,
   "metadata": {},
   "outputs": [
    {
     "data": {
      "text/plain": [
       "{'CO2(aq)': ['0.00026'],\n",
       " 'O2(aq)': ['0.00085'],\n",
       " 'NH3(aq)': ['0.0008'],\n",
       " 'Mg++': ['0.00092'],\n",
       " 'Al+++': ['0.00091'],\n",
       " 'Fe++': ['0.00058'],\n",
       " 'Fe+++': ['0.00015'],\n",
       " 'Ca++': ['0.00051'],\n",
       " 'Ca44++': ['0.00018'],\n",
       " 'K+': ['0.00039'],\n",
       " 'SO4--': ['0.00049'],\n",
       " 'S34O4--': ['0.00018'],\n",
       " 'B(OH)3(aq)': ['0.00093'],\n",
       " 'HPO4--': ['0.00095'],\n",
       " 'H2S(aq)': ['0.00029'],\n",
       " 'H2S34(aq)': ['0.0001'],\n",
       " 'SiO2(aq)': ['0.00068'],\n",
       " 'Na+': ['0.00075'],\n",
       " 'Methane(aq)': ['0.00037'],\n",
       " 'Cl-': ['0.00018'],\n",
       " 'NO3-': ['0.00095'],\n",
       " 'Formaldehyde': ['0.00039'],\n",
       " 'C5H7O2NSO4': ['0.00096']}"
      ]
     },
     "execution_count": 7,
     "metadata": {},
     "output_type": "execute_result"
    }
   ],
   "source": [
    "results_set[5].condition_blocks['Seawater'].primary_species"
   ]
  },
  {
   "cell_type": "code",
   "execution_count": 6,
   "metadata": {},
   "outputs": [],
   "source": [
    "listy = gi.create_condition_series(template, 'Seawater', 10, 0.1, 1)"
   ]
  },
  {
   "cell_type": "code",
   "execution_count": 7,
   "metadata": {},
   "outputs": [
    {
     "name": "stdout",
     "output_type": "stream",
     "text": [
      "0.99411\n",
      "0.39339\n",
      "0.51884\n",
      "0.61819\n",
      "0.82454\n",
      "0.75495\n",
      "0.31896\n",
      "0.42266\n",
      "0.73894\n",
      "0.41912\n"
     ]
    }
   ],
   "source": [
    "for file in listy:\n",
    "    print(listy[file].condition_blocks['Seawater'].primary_species['NH3(aq)'])"
   ]
  },
  {
   "cell_type": "code",
   "execution_count": 8,
   "metadata": {},
   "outputs": [
    {
     "data": {
      "text/plain": [
       "{'Seawater': <input_file.ConditionBlock at 0x1177583d0>,\n",
       " 'empty': <input_file.ConditionBlock at 0x117758580>}"
      ]
     },
     "execution_count": 8,
     "metadata": {},
     "output_type": "execute_result"
    }
   ],
   "source": [
    "template.condition_blocks"
   ]
  },
  {
   "cell_type": "code",
   "execution_count": 9,
   "metadata": {},
   "outputs": [],
   "source": [
    "template.path = 'testOut.in'\n",
    "template.print_input_file()"
   ]
  },
  {
   "cell_type": "code",
   "execution_count": 10,
   "metadata": {},
   "outputs": [
    {
     "name": "stdout",
     "output_type": "stream",
     "text": [
      "{'MINERALS': [], 'FeS(am)': ['-rate', '-9.0'], 'FeS34(am)': ['-rate', '-9.0'], 'Siderite': ['-rate', '-10.0'], 'SiO2(am)': ['-rate', '-9.0'], 'Quartz': ['-default', '-rate', '-30.0'], 'Calcite': ['-label', 'default', '-rate', '-10.6'], 'Calcite44': ['-label', 'default', '-rate', '-10.600556'], 'Sepiolite': ['-rate', '-19.0'], 'K-Feldspar': ['-rate', '-19.0'], 'Kaolinite': ['-rate', '-19.2'], 'C5H7O2NSO4(s)': ['-label', 'default', '-rate', '-2.0']}\n",
      "['1.480e-09']\n"
     ]
    }
   ],
   "source": [
    "print(template.keyword_blocks['MINERALS'].contents)\n",
    "print(template.condition_blocks['Seawater'].primary_species['NH3(aq)'])"
   ]
  },
  {
   "cell_type": "code",
   "execution_count": 34,
   "metadata": {},
   "outputs": [
    {
     "data": {
      "text/plain": [
       "CompletedProcess(args=['ls'], returncode=0)"
      ]
     },
     "execution_count": 34,
     "metadata": {},
     "output_type": "execute_result"
    }
   ],
   "source": []
  },
  {
   "cell_type": "code",
   "execution_count": 37,
   "metadata": {},
   "outputs": [
    {
     "data": {
      "text/plain": [
       "CompletedProcess(args=['/Users/angus/soft/crunchtope/CrunchTope', 'boxModel.in'], returncode=0)"
      ]
     },
     "execution_count": 37,
     "metadata": {},
     "output_type": "execute_result"
    }
   ],
   "source": []
  },
  {
   "cell_type": "code",
   "execution_count": null,
   "metadata": {},
   "outputs": [],
   "source": []
  }
 ],
 "metadata": {
  "kernelspec": {
   "display_name": "Python 3",
   "language": "python",
   "name": "python3"
  },
  "language_info": {
   "codemirror_mode": {
    "name": "ipython",
    "version": 3
   },
   "file_extension": ".py",
   "mimetype": "text/x-python",
   "name": "python",
   "nbconvert_exporter": "python",
   "pygments_lexer": "ipython3",
   "version": "3.8.3"
  }
 },
 "nbformat": 4,
 "nbformat_minor": 4
}

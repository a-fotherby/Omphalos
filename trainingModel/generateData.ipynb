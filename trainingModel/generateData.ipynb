{
 "cells": [
  {
   "cell_type": "code",
   "execution_count": 18,
   "metadata": {},
   "outputs": [],
   "source": [
    "import numpy as np\n",
    "import matplotlib as pyplot\n",
    "from generateData import importFile, searchKeysByVal"
   ]
  },
  {
   "cell_type": "code",
   "execution_count": 23,
   "metadata": {},
   "outputs": [
    {
     "name": "stdout",
     "output_type": "stream",
     "text": [
      "PRIMARY_SPECIES\n",
      "H+\n",
      "Al+++\n",
      "CO2(aq)\n",
      "NH3(aq)\n",
      "Mg++\n",
      "Ca++\n",
      "Ca44++\n",
      "Fe++\n",
      "Fe+++\n",
      "Cl-\n",
      "K+\n",
      "H2S(aq)\n",
      "H2S34(aq)\n",
      "SO4--\n",
      "S34O4--\n",
      "Na+\n",
      "SiO2(aq)\n",
      "O2(aq)\n",
      "B(OH)3(aq)\n",
      "HPO4--\n",
      "NO3-\n",
      "Methane(aq)\n",
      "Formaldehyde\n",
      "C5H7O2NSO4\n",
      "END\n"
     ]
    }
   ],
   "source": [
    "inputFile = importFile('crunchModel/boxModel.in')\n",
    "\n",
    "blockStart = searchKeysByVal(inputFile, 'PRIMARY_SPECIES')\n",
    "\n",
    "# Get array of line numbers for the END statements in the input file.\n",
    "endingArray = searchKeysByVal(inputFile, 'END')\n",
    "\n",
    "# Find the index for the END line corresponding to the block of interest.\n",
    "blockEnd = endingArray[np.searchsorted(endingArray, blockStart)]\n",
    "\n",
    "for a in np.arange(blockStart, blockEnd + 1):\n",
    "    # Commented lines are removed but line number index is preserved.\n",
    "    # So put in try-except statement to ignore error thrown by missing line removed due to commenting.\n",
    "    try:\n",
    "        print(inputFile[a])\n",
    "    except:\n",
    "        pass\n",
    "\n",
    "\n"
   ]
  },
  {
   "cell_type": "code",
   "execution_count": 25,
   "metadata": {},
   "outputs": [
    {
     "name": "stdout",
     "output_type": "stream",
     "text": [
      "['H+', 'Al+++', 'CO2(aq)', 'NH3(aq)', 'Mg++', 'Ca++', 'Ca44++', 'Fe++', 'Fe+++', 'Cl-', 'K+', 'H2S(aq)', 'H2S34(aq)', 'SO4--', 'S34O4--', 'Na+', 'SiO2(aq)', 'O2(aq)', 'B(OH)3(aq)', 'HPO4--', 'NO3-', 'Methane(aq)', 'Formaldehyde', 'C5H7O2NSO4']\n"
     ]
    }
   ],
   "source": [
    "# Generate list of primary species.\n",
    "primarySpecies = []\n",
    "for i in np.arange(blockStart + 1, blockEnd):\n",
    "    try:\n",
    "        primarySpecies.append(inputFile[i])\n",
    "    except:\n",
    "        pass\n",
    "    \n",
    "print(primarySpecies)"
   ]
  },
  {
   "cell_type": "code",
   "execution_count": null,
   "metadata": {},
   "outputs": [],
   "source": []
  }
 ],
 "metadata": {
  "kernelspec": {
   "display_name": "Python 3",
   "language": "python",
   "name": "python3"
  },
  "language_info": {
   "codemirror_mode": {
    "name": "ipython",
    "version": 3
   },
   "file_extension": ".py",
   "mimetype": "text/x-python",
   "name": "python",
   "nbconvert_exporter": "python",
   "pygments_lexer": "ipython3",
   "version": "3.8.3"
  }
 },
 "nbformat": 4,
 "nbformat_minor": 4
}

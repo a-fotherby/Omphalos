{
 "cells": [
  {
   "cell_type": "code",
   "execution_count": null,
   "metadata": {},
   "outputs": [],
   "source": [
    "import tensorflow as tf\n",
    "from tensorflow import keras\n",
    "import seaborn as sns\n",
    "import numpy as np\n",
    "import matplotlib.pyplot as plt\n",
    "import generate_inputs as gi\n",
    "import file_methods as fm\n",
    "import pandas as pd\n",
    "import training_tools as tt\n",
    "\n",
    "import yaml\n",
    "\n",
    "import wandb\n",
    "from wandb.keras import WandbCallback\n",
    "\n",
    "\n",
    "print(tf.__version__)"
   ]
  },
  {
   "cell_type": "code",
   "execution_count": null,
   "metadata": {},
   "outputs": [],
   "source": [
    "# wandb configuration\n",
    "wandb.init(project=\"pH-box-model\")\n",
    "\n",
    "# hyperparameters\n",
    "wandb.config.dropout = 0.2\n",
    "wandb.config.learning_rate = 0.1\n",
    "wandb.config.epochs = 100\n",
    "wandb.config.batch_size = 50"
   ]
  },
  {
   "cell_type": "code",
   "execution_count": null,
   "metadata": {},
   "outputs": [],
   "source": [
    "# Unpickle the saved data set.\n",
    "test_set = fm.unpickle('test.pickle')\n",
    "train_set = fm.unpickle('train.pickle')\n",
    "val_set = fm.unpickle('val.pickle')"
   ]
  },
  {
   "cell_type": "code",
   "execution_count": null,
   "metadata": {},
   "outputs": [],
   "source": [
    "# Put data into a dataframe for visualisation.\n",
    "vis = pd.DataFrame()\n",
    "\n",
    "for i in train_set:\n",
    "    append = pd.DataFrame.from_dict(train_set[i].condition_blocks['Seawater'].primary_species)\n",
    "    vis = vis.append(append, ignore_index = True)\n",
    "    \n",
    "# Create series from output data (pH).\n",
    "pH = pd.DataFrame()\n",
    "\n",
    "for i in train_set:\n",
    "    pH = pH.append(train_set[i].results.results_dict['pH']['pH'], ignore_index = True)\n",
    "\n",
    "pH.columns = ['pH']\n",
    "\n",
    "# Normalise the pH to be on the scale 0-1ish\n",
    "pH['pH'] = pH['pH'] / 14\n",
    "\n",
    "x_train = vis.to_numpy()\n",
    "y_train = pH.to_numpy()\n",
    "\n",
    "print(np.shape(x_train))"
   ]
  },
  {
   "cell_type": "code",
   "execution_count": null,
   "metadata": {},
   "outputs": [],
   "source": [
    "# Put data into a dataframe for visualisation.\n",
    "vis = pd.DataFrame()\n",
    "\n",
    "for i in test_set:\n",
    "    append = pd.DataFrame.from_dict(test_set[i].condition_blocks['Seawater'].primary_species)\n",
    "    vis = vis.append(append, ignore_index = True)\n",
    "    \n",
    "# Create series from output data (pH).\n",
    "pH = pd.DataFrame()\n",
    "\n",
    "for i in test_set:\n",
    "    pH = pH.append(test_set[i].results.results_dict['pH']['pH'], ignore_index = True)\n",
    "\n",
    "pH.columns = ['pH']\n",
    "\n",
    "# Normalise the pH to be on the scale 0-1ish\n",
    "pH['pH'] = pH['pH'] / 14\n",
    "\n",
    "x_test = vis.to_numpy()\n",
    "y_test = pH.to_numpy()"
   ]
  },
  {
   "cell_type": "code",
   "execution_count": null,
   "metadata": {},
   "outputs": [],
   "source": [
    "with open('sweep.yaml') as file:\n",
    "    # The FullLoader parameter handles the conversion from YAML\n",
    "    # scalar values to Python the dictionary format\n",
    "    sweep_config = yaml.load(file, Loader=yaml.FullLoader)\n",
    "\n",
    "sweep_config"
   ]
  },
  {
   "cell_type": "code",
   "execution_count": null,
   "metadata": {},
   "outputs": [],
   "source": [
    "# The following variables are the hyperparameters.\n",
    "learning_rate = wandb.config.learning_rate\n",
    "epochs = wandb.config.epochs\n",
    "batch_size = wandb.config.batch_size\n",
    "dropout =  wandb.config.dropout \n",
    "\n",
    "# Establish the model's topography.\n",
    "model = tt.create_model(learning_rate, dropout)"
   ]
  },
  {
   "cell_type": "code",
   "execution_count": null,
   "metadata": {},
   "outputs": [],
   "source": [
    "# Train the model on the normalized training set. We're passing the entire\n",
    "# normalized training set, but the model will only use the features\n",
    "# defined by the feature_layer.\n",
    "history = tt.train_model(model, x_train, y_train, epochs, batch_size)\n",
    "tt.plot_history(history)\n",
    "\n",
    "# After building a model against the training set, test that model\n",
    "# against the test set.\n",
    "test_features = x_test\n",
    "test_label = y_test\n",
    "print(\"\\n Evaluate the new model against the test set:\")\n",
    "model.evaluate(x = x_test, y = y_test, batch_size=batch_size)"
   ]
  },
  {
   "cell_type": "code",
   "execution_count": 15,
   "metadata": {},
   "outputs": [],
   "source": [
    "def train():\n",
    "    # wandb configuration\n",
    "    wandb.init(project=\"pH-box-model\")\n",
    "\n",
    "    # Hyperparameters defaults.\n",
    "    wandb.config.dropout = 0.2\n",
    "    wandb.config.learning_rate = 0.1\n",
    "    wandb.config.epochs = 100\n",
    "    wandb.config.batch_size = 50\n",
    "    \n",
    "    # Assign hyperparameters.\n",
    "\n",
    "\n",
    "    # Define the model geometry.\n",
    "    model = tf.keras.models.Sequential([\n",
    "    tf.keras.layers.Dense(128, activation='relu', kernel_regularizer=tf.keras.regularizers.l2(l=0.1)),\n",
    "    tf.keras.layers.Dropout(wandb.config.dropout),\n",
    "    tf.keras.layers.Dense(10)\n",
    "    ])\n",
    "\n",
    "    # Compile the model.\n",
    "    model.compile(optimizer=tf.keras.optimizers.Adam(lr=wandb.config.learning_rate),\n",
    "              loss=tf.keras.losses.MeanSquaredError(),\n",
    "              metrics=['mse'])\n",
    "\n",
    "    # Split the dataset into features and label.\n",
    "    model.fit(x=x_train, y=y_train, batch_size=wandb.config.batch_size, epochs=wandb.config.epochs, validation_split = 0.1, shuffle=True, verbose=0, callbacks=[WandbCallback()])\n",
    "    \n",
    "    %%wandb "
   ]
  },
  {
   "cell_type": "code",
   "execution_count": 16,
   "metadata": {},
   "outputs": [
    {
     "name": "stdout",
     "output_type": "stream",
     "text": [
      "Create sweep with ID: 7r66ww0f\n",
      "Sweep URL: https://app.wandb.ai/a-fotherby/pH-box-model/sweeps/7r66ww0f\n"
     ]
    }
   ],
   "source": [
    "sweep_id = wandb.sweep(sweep_config)"
   ]
  },
  {
   "cell_type": "code",
   "execution_count": 17,
   "metadata": {},
   "outputs": [
    {
     "name": "stderr",
     "output_type": "stream",
     "text": [
      "INFO:wandb.wandb_agent:Running runs: []\n",
      "INFO:wandb.wandb_agent:Agent received command: run\n",
      "INFO:wandb.wandb_agent:Agent starting run with config:\n",
      "\tbatch_size: 49\n",
      "\tdropout: 0.2058592019120478\n",
      "\tepochs: 70\n",
      "\tlearning_rate: 0.09587909058949781\n"
     ]
    },
    {
     "name": "stdout",
     "output_type": "stream",
     "text": [
      "wandb: Agent Starting Run: jabk39b0 with config:\n",
      "\tbatch_size: 49\n",
      "\tdropout: 0.2058592019120478\n",
      "\tepochs: 70\n",
      "\tlearning_rate: 0.09587909058949781\n"
     ]
    },
    {
     "name": "stderr",
     "output_type": "stream",
     "text": [
      "INFO:wandb.wandb_agent:Running runs: ['jabk39b0']\n",
      "\u001b[34m\u001b[1mwandb\u001b[0m: Ctrl-c pressed. Waiting for runs to end. Press ctrl-c again to terminate them.\n"
     ]
    },
    {
     "name": "stdout",
     "output_type": "stream",
     "text": [
      "Error in callback <function _init_jupyter.<locals>.cleanup at 0x14d2a80d0> (for post_run_cell):\n"
     ]
    },
    {
     "ename": "KeyboardInterrupt",
     "evalue": "",
     "output_type": "error",
     "traceback": [
      "\u001b[0;31m---------------------------------------------------------------------------\u001b[0m",
      "\u001b[0;31mKeyboardInterrupt\u001b[0m                         Traceback (most recent call last)",
      "\u001b[0;32m/usr/local/Cellar/jupyterlab/2.1.0_1/libexec/lib/python3.8/site-packages/backcall/backcall.py\u001b[0m in \u001b[0;36madapted\u001b[0;34m(*args, **kwargs)\u001b[0m\n\u001b[1;32m    102\u001b[0m                 \u001b[0mkwargs\u001b[0m\u001b[0;34m.\u001b[0m\u001b[0mpop\u001b[0m\u001b[0;34m(\u001b[0m\u001b[0mname\u001b[0m\u001b[0;34m)\u001b[0m\u001b[0;34m\u001b[0m\u001b[0;34m\u001b[0m\u001b[0m\n\u001b[1;32m    103\u001b[0m \u001b[0;31m#            print(args, kwargs, unmatched_pos, cut_positional, unmatched_kw)\u001b[0m\u001b[0;34m\u001b[0m\u001b[0;34m\u001b[0m\u001b[0;34m\u001b[0m\u001b[0m\n\u001b[0;32m--> 104\u001b[0;31m             \u001b[0;32mreturn\u001b[0m \u001b[0mcallback\u001b[0m\u001b[0;34m(\u001b[0m\u001b[0;34m*\u001b[0m\u001b[0margs\u001b[0m\u001b[0;34m,\u001b[0m \u001b[0;34m**\u001b[0m\u001b[0mkwargs\u001b[0m\u001b[0;34m)\u001b[0m\u001b[0;34m\u001b[0m\u001b[0;34m\u001b[0m\u001b[0m\n\u001b[0m\u001b[1;32m    105\u001b[0m \u001b[0;34m\u001b[0m\u001b[0m\n\u001b[1;32m    106\u001b[0m         \u001b[0;32mreturn\u001b[0m \u001b[0madapted\u001b[0m\u001b[0;34m\u001b[0m\u001b[0;34m\u001b[0m\u001b[0m\n",
      "\u001b[0;32m/usr/local/Cellar/jupyterlab/2.1.0_1/libexec/lib/python3.8/site-packages/wandb/__init__.py\u001b[0m in \u001b[0;36mcleanup\u001b[0;34m()\u001b[0m\n\u001b[1;32m    528\u001b[0m         \u001b[0;31m# shutdown async logger because _user_process_finished isn't called in jupyter\u001b[0m\u001b[0;34m\u001b[0m\u001b[0;34m\u001b[0m\u001b[0;34m\u001b[0m\u001b[0m\n\u001b[1;32m    529\u001b[0m         \u001b[0mshutdown_async_log_thread\u001b[0m\u001b[0;34m(\u001b[0m\u001b[0;34m)\u001b[0m\u001b[0;34m\u001b[0m\u001b[0;34m\u001b[0m\u001b[0m\n\u001b[0;32m--> 530\u001b[0;31m         \u001b[0mrun\u001b[0m\u001b[0;34m.\u001b[0m\u001b[0m_stop_jupyter_agent\u001b[0m\u001b[0;34m(\u001b[0m\u001b[0;34m)\u001b[0m\u001b[0;34m\u001b[0m\u001b[0;34m\u001b[0m\u001b[0m\n\u001b[0m\u001b[1;32m    531\u001b[0m     \u001b[0;32mif\u001b[0m \u001b[0mhasattr\u001b[0m\u001b[0;34m(\u001b[0m\u001b[0mipython\u001b[0m\u001b[0;34m.\u001b[0m\u001b[0mevents\u001b[0m\u001b[0;34m,\u001b[0m \u001b[0;34m\"_orig_post_run\"\u001b[0m\u001b[0;34m)\u001b[0m\u001b[0;34m:\u001b[0m\u001b[0;34m\u001b[0m\u001b[0;34m\u001b[0m\u001b[0m\n\u001b[1;32m    532\u001b[0m         \u001b[0mipython\u001b[0m\u001b[0;34m.\u001b[0m\u001b[0mevents\u001b[0m\u001b[0;34m.\u001b[0m\u001b[0munregister\u001b[0m\u001b[0;34m(\u001b[0m\u001b[0;34m\"post_run_cell\"\u001b[0m\u001b[0;34m,\u001b[0m \u001b[0mipython\u001b[0m\u001b[0;34m.\u001b[0m\u001b[0mevents\u001b[0m\u001b[0;34m.\u001b[0m\u001b[0m_orig_post_run\u001b[0m\u001b[0;34m)\u001b[0m\u001b[0;34m\u001b[0m\u001b[0;34m\u001b[0m\u001b[0m\n",
      "\u001b[0;32m/usr/local/Cellar/jupyterlab/2.1.0_1/libexec/lib/python3.8/site-packages/wandb/wandb_run.py\u001b[0m in \u001b[0;36m_stop_jupyter_agent\u001b[0;34m(self)\u001b[0m\n\u001b[1;32m    211\u001b[0m \u001b[0;34m\u001b[0m\u001b[0m\n\u001b[1;32m    212\u001b[0m     \u001b[0;32mdef\u001b[0m \u001b[0m_stop_jupyter_agent\u001b[0m\u001b[0;34m(\u001b[0m\u001b[0mself\u001b[0m\u001b[0;34m)\u001b[0m\u001b[0;34m:\u001b[0m\u001b[0;34m\u001b[0m\u001b[0;34m\u001b[0m\u001b[0m\n\u001b[0;32m--> 213\u001b[0;31m         \u001b[0mself\u001b[0m\u001b[0;34m.\u001b[0m\u001b[0m_jupyter_agent\u001b[0m\u001b[0;34m.\u001b[0m\u001b[0mstop\u001b[0m\u001b[0;34m(\u001b[0m\u001b[0;34m)\u001b[0m\u001b[0;34m\u001b[0m\u001b[0;34m\u001b[0m\u001b[0m\n\u001b[0m\u001b[1;32m    214\u001b[0m \u001b[0;34m\u001b[0m\u001b[0m\n\u001b[1;32m    215\u001b[0m     \u001b[0;32mdef\u001b[0m \u001b[0msend_message\u001b[0m\u001b[0;34m(\u001b[0m\u001b[0mself\u001b[0m\u001b[0;34m,\u001b[0m \u001b[0moptions\u001b[0m\u001b[0;34m)\u001b[0m\u001b[0;34m:\u001b[0m\u001b[0;34m\u001b[0m\u001b[0;34m\u001b[0m\u001b[0m\n",
      "\u001b[0;32m/usr/local/Cellar/jupyterlab/2.1.0_1/libexec/lib/python3.8/site-packages/wandb/jupyter.py\u001b[0m in \u001b[0;36mstop\u001b[0;34m(self)\u001b[0m\n\u001b[1;32m    141\u001b[0m             \u001b[0mself\u001b[0m\u001b[0;34m.\u001b[0m\u001b[0mrm\u001b[0m\u001b[0;34m.\u001b[0m\u001b[0munmirror_stdout_stderr\u001b[0m\u001b[0;34m(\u001b[0m\u001b[0;34m)\u001b[0m\u001b[0;34m\u001b[0m\u001b[0;34m\u001b[0m\u001b[0m\n\u001b[1;32m    142\u001b[0m             \u001b[0mwandb\u001b[0m\u001b[0;34m.\u001b[0m\u001b[0mrun\u001b[0m\u001b[0;34m.\u001b[0m\u001b[0mclose_files\u001b[0m\u001b[0;34m(\u001b[0m\u001b[0;34m)\u001b[0m\u001b[0;34m\u001b[0m\u001b[0;34m\u001b[0m\u001b[0m\n\u001b[0;32m--> 143\u001b[0;31m             \u001b[0mself\u001b[0m\u001b[0;34m.\u001b[0m\u001b[0mrm\u001b[0m\u001b[0;34m.\u001b[0m\u001b[0mshutdown\u001b[0m\u001b[0;34m(\u001b[0m\u001b[0;34m)\u001b[0m\u001b[0;34m\u001b[0m\u001b[0;34m\u001b[0m\u001b[0m\n\u001b[0m\u001b[1;32m    144\u001b[0m             \u001b[0mself\u001b[0m\u001b[0;34m.\u001b[0m\u001b[0mpaused\u001b[0m \u001b[0;34m=\u001b[0m \u001b[0;32mTrue\u001b[0m\u001b[0;34m\u001b[0m\u001b[0;34m\u001b[0m\u001b[0m\n\u001b[1;32m    145\u001b[0m \u001b[0;34m\u001b[0m\u001b[0m\n",
      "\u001b[0;32m/usr/local/Cellar/jupyterlab/2.1.0_1/libexec/lib/python3.8/site-packages/wandb/run_manager.py\u001b[0m in \u001b[0;36mshutdown\u001b[0;34m(self, exitcode)\u001b[0m\n\u001b[1;32m   1085\u001b[0m         \u001b[0;32mif\u001b[0m \u001b[0mself\u001b[0m\u001b[0;34m.\u001b[0m\u001b[0m_cloud\u001b[0m\u001b[0;34m:\u001b[0m\u001b[0;34m\u001b[0m\u001b[0;34m\u001b[0m\u001b[0m\n\u001b[1;32m   1086\u001b[0m             \u001b[0mlogger\u001b[0m\u001b[0;34m.\u001b[0m\u001b[0minfo\u001b[0m\u001b[0;34m(\u001b[0m\u001b[0;34m\"stopping streaming files and file change observer\"\u001b[0m\u001b[0;34m)\u001b[0m\u001b[0;34m\u001b[0m\u001b[0;34m\u001b[0m\u001b[0m\n\u001b[0;32m-> 1087\u001b[0;31m             \u001b[0mself\u001b[0m\u001b[0;34m.\u001b[0m\u001b[0m_end_file_syncing\u001b[0m\u001b[0;34m(\u001b[0m\u001b[0mexitcode\u001b[0m\u001b[0;34m)\u001b[0m\u001b[0;34m\u001b[0m\u001b[0;34m\u001b[0m\u001b[0m\n\u001b[0m\u001b[1;32m   1088\u001b[0m \u001b[0;34m\u001b[0m\u001b[0m\n\u001b[1;32m   1089\u001b[0m \u001b[0;34m\u001b[0m\u001b[0m\n",
      "\u001b[0;32m/usr/local/Cellar/jupyterlab/2.1.0_1/libexec/lib/python3.8/site-packages/wandb/run_manager.py\u001b[0m in \u001b[0;36m_end_file_syncing\u001b[0;34m(self, exitcode)\u001b[0m\n\u001b[1;32m    669\u001b[0m         \u001b[0;31m# TODO: there was a case where _file_event_handlers was getting modified in the loop.\u001b[0m\u001b[0;34m\u001b[0m\u001b[0;34m\u001b[0m\u001b[0;34m\u001b[0m\u001b[0m\n\u001b[1;32m    670\u001b[0m         \u001b[0;32mfor\u001b[0m \u001b[0mhandler\u001b[0m \u001b[0;32min\u001b[0m \u001b[0mlist\u001b[0m\u001b[0;34m(\u001b[0m\u001b[0mself\u001b[0m\u001b[0;34m.\u001b[0m\u001b[0m_file_event_handlers\u001b[0m\u001b[0;34m.\u001b[0m\u001b[0mvalues\u001b[0m\u001b[0;34m(\u001b[0m\u001b[0;34m)\u001b[0m\u001b[0;34m)\u001b[0m\u001b[0;34m:\u001b[0m\u001b[0;34m\u001b[0m\u001b[0;34m\u001b[0m\u001b[0m\n\u001b[0;32m--> 671\u001b[0;31m             \u001b[0mhandler\u001b[0m\u001b[0;34m.\u001b[0m\u001b[0mfinish\u001b[0m\u001b[0;34m(\u001b[0m\u001b[0;34m)\u001b[0m\u001b[0;34m\u001b[0m\u001b[0;34m\u001b[0m\u001b[0m\n\u001b[0m\u001b[1;32m    672\u001b[0m         \u001b[0mself\u001b[0m\u001b[0;34m.\u001b[0m\u001b[0m_file_pusher\u001b[0m\u001b[0;34m.\u001b[0m\u001b[0mfinish\u001b[0m\u001b[0;34m(\u001b[0m\u001b[0;34m)\u001b[0m\u001b[0;34m\u001b[0m\u001b[0;34m\u001b[0m\u001b[0m\n\u001b[1;32m    673\u001b[0m         \u001b[0mself\u001b[0m\u001b[0;34m.\u001b[0m\u001b[0m_api\u001b[0m\u001b[0;34m.\u001b[0m\u001b[0mget_file_stream_api\u001b[0m\u001b[0;34m(\u001b[0m\u001b[0;34m)\u001b[0m\u001b[0;34m.\u001b[0m\u001b[0mfinish\u001b[0m\u001b[0;34m(\u001b[0m\u001b[0mexitcode\u001b[0m\u001b[0;34m)\u001b[0m\u001b[0;34m\u001b[0m\u001b[0;34m\u001b[0m\u001b[0m\n",
      "\u001b[0;32m/usr/local/Cellar/jupyterlab/2.1.0_1/libexec/lib/python3.8/site-packages/wandb/run_manager.py\u001b[0m in \u001b[0;36mfinish\u001b[0;34m(self)\u001b[0m\n\u001b[1;32m    344\u001b[0m     \u001b[0;32mdef\u001b[0m \u001b[0mfinish\u001b[0m\u001b[0;34m(\u001b[0m\u001b[0mself\u001b[0m\u001b[0;34m)\u001b[0m\u001b[0;34m:\u001b[0m\u001b[0;34m\u001b[0m\u001b[0;34m\u001b[0m\u001b[0m\n\u001b[1;32m    345\u001b[0m         \u001b[0;32mif\u001b[0m \u001b[0mself\u001b[0m\u001b[0;34m.\u001b[0m\u001b[0m_tailer\u001b[0m\u001b[0;34m:\u001b[0m\u001b[0;34m\u001b[0m\u001b[0;34m\u001b[0m\u001b[0m\n\u001b[0;32m--> 346\u001b[0;31m             \u001b[0mself\u001b[0m\u001b[0;34m.\u001b[0m\u001b[0m_tailer\u001b[0m\u001b[0;34m.\u001b[0m\u001b[0mstop\u001b[0m\u001b[0;34m(\u001b[0m\u001b[0;34m)\u001b[0m\u001b[0;34m\u001b[0m\u001b[0;34m\u001b[0m\u001b[0m\n\u001b[0m\u001b[1;32m    347\u001b[0m             \u001b[0mself\u001b[0m\u001b[0;34m.\u001b[0m\u001b[0m_tailer\u001b[0m \u001b[0;34m=\u001b[0m \u001b[0;32mNone\u001b[0m\u001b[0;34m\u001b[0m\u001b[0;34m\u001b[0m\u001b[0m\n\u001b[1;32m    348\u001b[0m \u001b[0;34m\u001b[0m\u001b[0m\n",
      "\u001b[0;32m/usr/local/Cellar/jupyterlab/2.1.0_1/libexec/lib/python3.8/site-packages/wandb/run_manager.py\u001b[0m in \u001b[0;36mstop\u001b[0;34m(self)\u001b[0m\n\u001b[1;32m     90\u001b[0m     \u001b[0;32mdef\u001b[0m \u001b[0mstop\u001b[0m\u001b[0;34m(\u001b[0m\u001b[0mself\u001b[0m\u001b[0;34m)\u001b[0m\u001b[0;34m:\u001b[0m\u001b[0;34m\u001b[0m\u001b[0;34m\u001b[0m\u001b[0m\n\u001b[1;32m     91\u001b[0m         \u001b[0mself\u001b[0m\u001b[0;34m.\u001b[0m\u001b[0mrunning\u001b[0m \u001b[0;34m=\u001b[0m \u001b[0;32mFalse\u001b[0m\u001b[0;34m\u001b[0m\u001b[0;34m\u001b[0m\u001b[0m\n\u001b[0;32m---> 92\u001b[0;31m         \u001b[0mself\u001b[0m\u001b[0;34m.\u001b[0m\u001b[0m_thread\u001b[0m\u001b[0;34m.\u001b[0m\u001b[0mjoin\u001b[0m\u001b[0;34m(\u001b[0m\u001b[0;34m)\u001b[0m\u001b[0;34m\u001b[0m\u001b[0;34m\u001b[0m\u001b[0m\n\u001b[0m\u001b[1;32m     93\u001b[0m         \u001b[0mself\u001b[0m\u001b[0;34m.\u001b[0m\u001b[0m_file\u001b[0m\u001b[0;34m.\u001b[0m\u001b[0mclose\u001b[0m\u001b[0;34m(\u001b[0m\u001b[0;34m)\u001b[0m\u001b[0;34m\u001b[0m\u001b[0;34m\u001b[0m\u001b[0m\n\u001b[1;32m     94\u001b[0m \u001b[0;34m\u001b[0m\u001b[0m\n",
      "\u001b[0;32m/usr/local/opt/python@3.8/Frameworks/Python.framework/Versions/3.8/lib/python3.8/threading.py\u001b[0m in \u001b[0;36mjoin\u001b[0;34m(self, timeout)\u001b[0m\n\u001b[1;32m   1009\u001b[0m \u001b[0;34m\u001b[0m\u001b[0m\n\u001b[1;32m   1010\u001b[0m         \u001b[0;32mif\u001b[0m \u001b[0mtimeout\u001b[0m \u001b[0;32mis\u001b[0m \u001b[0;32mNone\u001b[0m\u001b[0;34m:\u001b[0m\u001b[0;34m\u001b[0m\u001b[0;34m\u001b[0m\u001b[0m\n\u001b[0;32m-> 1011\u001b[0;31m             \u001b[0mself\u001b[0m\u001b[0;34m.\u001b[0m\u001b[0m_wait_for_tstate_lock\u001b[0m\u001b[0;34m(\u001b[0m\u001b[0;34m)\u001b[0m\u001b[0;34m\u001b[0m\u001b[0;34m\u001b[0m\u001b[0m\n\u001b[0m\u001b[1;32m   1012\u001b[0m         \u001b[0;32melse\u001b[0m\u001b[0;34m:\u001b[0m\u001b[0;34m\u001b[0m\u001b[0;34m\u001b[0m\u001b[0m\n\u001b[1;32m   1013\u001b[0m             \u001b[0;31m# the behavior of a negative timeout isn't documented, but\u001b[0m\u001b[0;34m\u001b[0m\u001b[0;34m\u001b[0m\u001b[0;34m\u001b[0m\u001b[0m\n",
      "\u001b[0;32m/usr/local/opt/python@3.8/Frameworks/Python.framework/Versions/3.8/lib/python3.8/threading.py\u001b[0m in \u001b[0;36m_wait_for_tstate_lock\u001b[0;34m(self, block, timeout)\u001b[0m\n\u001b[1;32m   1025\u001b[0m         \u001b[0;32mif\u001b[0m \u001b[0mlock\u001b[0m \u001b[0;32mis\u001b[0m \u001b[0;32mNone\u001b[0m\u001b[0;34m:\u001b[0m  \u001b[0;31m# already determined that the C code is done\u001b[0m\u001b[0;34m\u001b[0m\u001b[0;34m\u001b[0m\u001b[0m\n\u001b[1;32m   1026\u001b[0m             \u001b[0;32massert\u001b[0m \u001b[0mself\u001b[0m\u001b[0;34m.\u001b[0m\u001b[0m_is_stopped\u001b[0m\u001b[0;34m\u001b[0m\u001b[0;34m\u001b[0m\u001b[0m\n\u001b[0;32m-> 1027\u001b[0;31m         \u001b[0;32melif\u001b[0m \u001b[0mlock\u001b[0m\u001b[0;34m.\u001b[0m\u001b[0macquire\u001b[0m\u001b[0;34m(\u001b[0m\u001b[0mblock\u001b[0m\u001b[0;34m,\u001b[0m \u001b[0mtimeout\u001b[0m\u001b[0;34m)\u001b[0m\u001b[0;34m:\u001b[0m\u001b[0;34m\u001b[0m\u001b[0;34m\u001b[0m\u001b[0m\n\u001b[0m\u001b[1;32m   1028\u001b[0m             \u001b[0mlock\u001b[0m\u001b[0;34m.\u001b[0m\u001b[0mrelease\u001b[0m\u001b[0;34m(\u001b[0m\u001b[0;34m)\u001b[0m\u001b[0;34m\u001b[0m\u001b[0;34m\u001b[0m\u001b[0m\n\u001b[1;32m   1029\u001b[0m             \u001b[0mself\u001b[0m\u001b[0;34m.\u001b[0m\u001b[0m_stop\u001b[0m\u001b[0;34m(\u001b[0m\u001b[0;34m)\u001b[0m\u001b[0;34m\u001b[0m\u001b[0;34m\u001b[0m\u001b[0m\n",
      "\u001b[0;31mKeyboardInterrupt\u001b[0m: "
     ]
    },
    {
     "name": "stderr",
     "output_type": "stream",
     "text": [
      "WARNING:wandb.util:requests_with_retry encountered retryable exception: ('Connection aborted.', ConnectionResetError(54, 'Connection reset by peer')). args: ('https://api.wandb.ai/files/a-fotherby/pH-box-model/3lpqj632/file_stream',), kwargs: {'json': {'complete': False, 'failed': False}}\n",
      "WARNING:wandb.util:requests_with_retry encountered retryable exception: ('Connection aborted.', ConnectionResetError(54, 'Connection reset by peer')). args: ('https://api.wandb.ai/files/a-fotherby/pH-box-model/1c46517c/file_stream',), kwargs: {'json': {'complete': False, 'failed': False}}\n",
      "WARNING:wandb.util:requests_with_retry encountered retryable exception: ('Connection aborted.', ConnectionResetError(54, 'Connection reset by peer')). args: ('https://api.wandb.ai/files/a-fotherby/pH-box-model/3lpqj632/file_stream',), kwargs: {'json': {'complete': False, 'failed': False}}\n",
      "WARNING:wandb.util:requests_with_retry encountered retryable exception: ('Connection aborted.', ConnectionResetError(54, 'Connection reset by peer')). args: ('https://api.wandb.ai/files/a-fotherby/pH-box-model/1c46517c/file_stream',), kwargs: {'json': {'complete': False, 'failed': False}}\n",
      "WARNING:wandb.util:requests_with_retry encountered retryable exception: ('Connection aborted.', ConnectionResetError(54, 'Connection reset by peer')). args: ('https://api.wandb.ai/files/a-fotherby/pH-box-model/3lpqj632/file_stream',), kwargs: {'json': {'complete': False, 'failed': False}}\n",
      "WARNING:wandb.util:requests_with_retry encountered retryable exception: ('Connection aborted.', ConnectionResetError(54, 'Connection reset by peer')). args: ('https://api.wandb.ai/files/a-fotherby/pH-box-model/1c46517c/file_stream',), kwargs: {'json': {'complete': False, 'failed': False}}\n",
      "WARNING:wandb.util:requests_with_retry encountered retryable exception: ('Connection aborted.', ConnectionResetError(54, 'Connection reset by peer')). args: ('https://api.wandb.ai/files/a-fotherby/pH-box-model/1c46517c/file_stream',), kwargs: {'json': {'complete': False, 'failed': False}}\n",
      "WARNING:wandb.util:requests_with_retry encountered retryable exception: ('Connection aborted.', ConnectionResetError(54, 'Connection reset by peer')). args: ('https://api.wandb.ai/files/a-fotherby/pH-box-model/3lpqj632/file_stream',), kwargs: {'json': {'complete': False, 'failed': False}}\n",
      "WARNING:wandb.util:requests_with_retry encountered retryable exception: ('Connection aborted.', ConnectionResetError(54, 'Connection reset by peer')). args: ('https://api.wandb.ai/files/a-fotherby/pH-box-model/3lpqj632/file_stream',), kwargs: {'json': {'complete': False, 'failed': False}}\n",
      "WARNING:wandb.util:requests_with_retry encountered retryable exception: ('Connection aborted.', ConnectionResetError(54, 'Connection reset by peer')). args: ('https://api.wandb.ai/files/a-fotherby/pH-box-model/1c46517c/file_stream',), kwargs: {'json': {'complete': False, 'failed': False}}\n",
      "WARNING:wandb.util:requests_with_retry encountered retryable exception: ('Connection aborted.', ConnectionResetError(54, 'Connection reset by peer')). args: ('https://api.wandb.ai/files/a-fotherby/pH-box-model/3lpqj632/file_stream',), kwargs: {'json': {'complete': False, 'failed': False}}\n",
      "WARNING:wandb.util:requests_with_retry encountered retryable exception: ('Connection aborted.', ConnectionResetError(54, 'Connection reset by peer')). args: ('https://api.wandb.ai/files/a-fotherby/pH-box-model/1c46517c/file_stream',), kwargs: {'json': {'complete': False, 'failed': False}}\n",
      "WARNING:wandb.util:requests_with_retry encountered retryable exception: ('Connection aborted.', ConnectionResetError(54, 'Connection reset by peer')). args: ('https://api.wandb.ai/files/a-fotherby/pH-box-model/3lpqj632/file_stream',), kwargs: {'json': {'complete': False, 'failed': False}}\n",
      "WARNING:wandb.util:requests_with_retry encountered retryable exception: ('Connection aborted.', ConnectionResetError(54, 'Connection reset by peer')). args: ('https://api.wandb.ai/files/a-fotherby/pH-box-model/1c46517c/file_stream',), kwargs: {'json': {'complete': False, 'failed': False}}\n",
      "WARNING:wandb.util:requests_with_retry encountered retryable exception: ('Connection aborted.', ConnectionResetError(54, 'Connection reset by peer')). args: ('https://api.wandb.ai/files/a-fotherby/pH-box-model/1c46517c/file_stream',), kwargs: {'json': {'complete': False, 'failed': False}}\n",
      "WARNING:wandb.util:requests_with_retry encountered retryable exception: ('Connection aborted.', ConnectionResetError(54, 'Connection reset by peer')). args: ('https://api.wandb.ai/files/a-fotherby/pH-box-model/3lpqj632/file_stream',), kwargs: {'json': {'complete': False, 'failed': False}}\n",
      "WARNING:wandb.util:requests_with_retry encountered retryable exception: ('Connection aborted.', ConnectionResetError(54, 'Connection reset by peer')). args: ('https://api.wandb.ai/files/a-fotherby/pH-box-model/3lpqj632/file_stream',), kwargs: {'json': {'complete': False, 'failed': False}}\n",
      "WARNING:wandb.util:requests_with_retry encountered retryable exception: ('Connection aborted.', ConnectionResetError(54, 'Connection reset by peer')). args: ('https://api.wandb.ai/files/a-fotherby/pH-box-model/1c46517c/file_stream',), kwargs: {'json': {'complete': False, 'failed': False}}\n",
      "WARNING:wandb.util:requests_with_retry encountered retryable exception: ('Connection aborted.', ConnectionResetError(54, 'Connection reset by peer')). args: ('https://api.wandb.ai/files/a-fotherby/pH-box-model/3lpqj632/file_stream',), kwargs: {'json': {'complete': False, 'failed': False}}\n",
      "WARNING:wandb.util:requests_with_retry encountered retryable exception: ('Connection aborted.', ConnectionResetError(54, 'Connection reset by peer')). args: ('https://api.wandb.ai/files/a-fotherby/pH-box-model/1c46517c/file_stream',), kwargs: {'json': {'complete': False, 'failed': False}}\n",
      "WARNING:wandb.util:requests_with_retry encountered retryable exception: ('Connection aborted.', ConnectionResetError(54, 'Connection reset by peer')). args: ('https://api.wandb.ai/files/a-fotherby/pH-box-model/1c46517c/file_stream',), kwargs: {'json': {'complete': False, 'failed': False}}\n",
      "WARNING:wandb.util:requests_with_retry encountered retryable exception: ('Connection aborted.', ConnectionResetError(54, 'Connection reset by peer')). args: ('https://api.wandb.ai/files/a-fotherby/pH-box-model/3lpqj632/file_stream',), kwargs: {'json': {'complete': False, 'failed': False}}\n",
      "WARNING:wandb.util:requests_with_retry encountered retryable exception: ('Connection aborted.', ConnectionResetError(54, 'Connection reset by peer')). args: ('https://api.wandb.ai/files/a-fotherby/pH-box-model/1c46517c/file_stream',), kwargs: {'json': {'complete': False, 'failed': False}}\n",
      "WARNING:wandb.util:requests_with_retry encountered retryable exception: ('Connection aborted.', ConnectionResetError(54, 'Connection reset by peer')). args: ('https://api.wandb.ai/files/a-fotherby/pH-box-model/3lpqj632/file_stream',), kwargs: {'json': {'complete': False, 'failed': False}}\n",
      "WARNING:wandb.util:requests_with_retry encountered retryable exception: ('Connection aborted.', ConnectionResetError(54, 'Connection reset by peer')). args: ('https://api.wandb.ai/files/a-fotherby/pH-box-model/3lpqj632/file_stream',), kwargs: {'json': {'complete': False, 'failed': False}}\n",
      "WARNING:wandb.util:requests_with_retry encountered retryable exception: ('Connection aborted.', ConnectionResetError(54, 'Connection reset by peer')). args: ('https://api.wandb.ai/files/a-fotherby/pH-box-model/1c46517c/file_stream',), kwargs: {'json': {'complete': False, 'failed': False}}\n",
      "WARNING:wandb.util:requests_with_retry encountered retryable exception: ('Connection aborted.', ConnectionResetError(54, 'Connection reset by peer')). args: ('https://api.wandb.ai/files/a-fotherby/pH-box-model/3lpqj632/file_stream',), kwargs: {'json': {'complete': False, 'failed': False}}\n",
      "WARNING:wandb.util:requests_with_retry encountered retryable exception: ('Connection aborted.', ConnectionResetError(54, 'Connection reset by peer')). args: ('https://api.wandb.ai/files/a-fotherby/pH-box-model/1c46517c/file_stream',), kwargs: {'json': {'complete': False, 'failed': False}}\n",
      "WARNING:wandb.util:requests_with_retry encountered retryable exception: ('Connection aborted.', ConnectionResetError(54, 'Connection reset by peer')). args: ('https://api.wandb.ai/files/a-fotherby/pH-box-model/1c46517c/file_stream',), kwargs: {'json': {'complete': False, 'failed': False}}\n",
      "WARNING:wandb.util:requests_with_retry encountered retryable exception: ('Connection aborted.', ConnectionResetError(54, 'Connection reset by peer')). args: ('https://api.wandb.ai/files/a-fotherby/pH-box-model/3lpqj632/file_stream',), kwargs: {'json': {'complete': False, 'failed': False}}\n",
      "WARNING:wandb.util:requests_with_retry encountered retryable exception: ('Connection aborted.', ConnectionResetError(54, 'Connection reset by peer')). args: ('https://api.wandb.ai/files/a-fotherby/pH-box-model/3lpqj632/file_stream',), kwargs: {'json': {'complete': False, 'failed': False}}\n",
      "WARNING:wandb.util:requests_with_retry encountered retryable exception: ('Connection aborted.', ConnectionResetError(54, 'Connection reset by peer')). args: ('https://api.wandb.ai/files/a-fotherby/pH-box-model/1c46517c/file_stream',), kwargs: {'json': {'complete': False, 'failed': False}}\n",
      "WARNING:wandb.util:requests_with_retry encountered retryable exception: ('Connection aborted.', ConnectionResetError(54, 'Connection reset by peer')). args: ('https://api.wandb.ai/files/a-fotherby/pH-box-model/3lpqj632/file_stream',), kwargs: {'json': {'complete': False, 'failed': False}}\n",
      "WARNING:wandb.util:requests_with_retry encountered retryable exception: ('Connection aborted.', ConnectionResetError(54, 'Connection reset by peer')). args: ('https://api.wandb.ai/files/a-fotherby/pH-box-model/1c46517c/file_stream',), kwargs: {'json': {'complete': False, 'failed': False}}\n",
      "WARNING:wandb.util:requests_with_retry encountered retryable exception: ('Connection aborted.', ConnectionResetError(54, 'Connection reset by peer')). args: ('https://api.wandb.ai/files/a-fotherby/pH-box-model/1c46517c/file_stream',), kwargs: {'json': {'complete': False, 'failed': False}}\n",
      "WARNING:wandb.util:requests_with_retry encountered retryable exception: ('Connection aborted.', ConnectionResetError(54, 'Connection reset by peer')). args: ('https://api.wandb.ai/files/a-fotherby/pH-box-model/3lpqj632/file_stream',), kwargs: {'json': {'complete': False, 'failed': False}}\n",
      "WARNING:wandb.util:requests_with_retry encountered retryable exception: ('Connection aborted.', ConnectionResetError(54, 'Connection reset by peer')). args: ('https://api.wandb.ai/files/a-fotherby/pH-box-model/1c46517c/file_stream',), kwargs: {'json': {'complete': False, 'failed': False}}\n",
      "WARNING:wandb.util:requests_with_retry encountered retryable exception: ('Connection aborted.', ConnectionResetError(54, 'Connection reset by peer')). args: ('https://api.wandb.ai/files/a-fotherby/pH-box-model/3lpqj632/file_stream',), kwargs: {'json': {'complete': False, 'failed': False}}\n",
      "WARNING:wandb.util:requests_with_retry encountered retryable exception: ('Connection aborted.', ConnectionResetError(54, 'Connection reset by peer')). args: ('https://api.wandb.ai/files/a-fotherby/pH-box-model/3lpqj632/file_stream',), kwargs: {'json': {'complete': False, 'failed': False}}\n",
      "WARNING:wandb.util:requests_with_retry encountered retryable exception: ('Connection aborted.', ConnectionResetError(54, 'Connection reset by peer')). args: ('https://api.wandb.ai/files/a-fotherby/pH-box-model/1c46517c/file_stream',), kwargs: {'json': {'complete': False, 'failed': False}}\n",
      "WARNING:wandb.util:requests_with_retry encountered retryable exception: ('Connection aborted.', ConnectionResetError(54, 'Connection reset by peer')). args: ('https://api.wandb.ai/files/a-fotherby/pH-box-model/3lpqj632/file_stream',), kwargs: {'json': {'complete': False, 'failed': False}}\n",
      "WARNING:wandb.util:requests_with_retry encountered retryable exception: ('Connection aborted.', ConnectionResetError(54, 'Connection reset by peer')). args: ('https://api.wandb.ai/files/a-fotherby/pH-box-model/1c46517c/file_stream',), kwargs: {'json': {'complete': False, 'failed': False}}\n",
      "WARNING:wandb.util:requests_with_retry encountered retryable exception: ('Connection aborted.', ConnectionResetError(54, 'Connection reset by peer')). args: ('https://api.wandb.ai/files/a-fotherby/pH-box-model/1c46517c/file_stream',), kwargs: {'json': {'complete': False, 'failed': False}}\n",
      "WARNING:wandb.util:requests_with_retry encountered retryable exception: ('Connection aborted.', ConnectionResetError(54, 'Connection reset by peer')). args: ('https://api.wandb.ai/files/a-fotherby/pH-box-model/3lpqj632/file_stream',), kwargs: {'json': {'complete': False, 'failed': False}}\n",
      "WARNING:wandb.util:requests_with_retry encountered retryable exception: ('Connection aborted.', ConnectionResetError(54, 'Connection reset by peer')). args: ('https://api.wandb.ai/files/a-fotherby/pH-box-model/3lpqj632/file_stream',), kwargs: {'json': {'complete': False, 'failed': False}}\n",
      "WARNING:wandb.util:requests_with_retry encountered retryable exception: ('Connection aborted.', ConnectionResetError(54, 'Connection reset by peer')). args: ('https://api.wandb.ai/files/a-fotherby/pH-box-model/1c46517c/file_stream',), kwargs: {'json': {'complete': False, 'failed': False}}\n",
      "WARNING:wandb.util:requests_with_retry encountered retryable exception: ('Connection aborted.', ConnectionResetError(54, 'Connection reset by peer')). args: ('https://api.wandb.ai/files/a-fotherby/pH-box-model/3lpqj632/file_stream',), kwargs: {'json': {'complete': False, 'failed': False}}\n",
      "WARNING:wandb.util:requests_with_retry encountered retryable exception: ('Connection aborted.', ConnectionResetError(54, 'Connection reset by peer')). args: ('https://api.wandb.ai/files/a-fotherby/pH-box-model/1c46517c/file_stream',), kwargs: {'json': {'complete': False, 'failed': False}}\n",
      "WARNING:wandb.util:requests_with_retry encountered retryable exception: ('Connection aborted.', ConnectionResetError(54, 'Connection reset by peer')). args: ('https://api.wandb.ai/files/a-fotherby/pH-box-model/3lpqj632/file_stream',), kwargs: {'json': {'complete': False, 'failed': False}}\n",
      "WARNING:wandb.util:requests_with_retry encountered retryable exception: ('Connection aborted.', ConnectionResetError(54, 'Connection reset by peer')). args: ('https://api.wandb.ai/files/a-fotherby/pH-box-model/1c46517c/file_stream',), kwargs: {'json': {'complete': False, 'failed': False}}\n",
      "WARNING:wandb.util:requests_with_retry encountered retryable exception: ('Connection aborted.', ConnectionResetError(54, 'Connection reset by peer')). args: ('https://api.wandb.ai/files/a-fotherby/pH-box-model/3lpqj632/file_stream',), kwargs: {'json': {'complete': False, 'failed': False}}\n",
      "WARNING:wandb.util:requests_with_retry encountered retryable exception: ('Connection aborted.', ConnectionResetError(54, 'Connection reset by peer')). args: ('https://api.wandb.ai/files/a-fotherby/pH-box-model/1c46517c/file_stream',), kwargs: {'json': {'complete': False, 'failed': False}}\n",
      "WARNING:wandb.util:requests_with_retry encountered retryable exception: ('Connection aborted.', ConnectionResetError(54, 'Connection reset by peer')). args: ('https://api.wandb.ai/files/a-fotherby/pH-box-model/1c46517c/file_stream',), kwargs: {'json': {'complete': False, 'failed': False}}\n",
      "WARNING:wandb.util:requests_with_retry encountered retryable exception: ('Connection aborted.', ConnectionResetError(54, 'Connection reset by peer')). args: ('https://api.wandb.ai/files/a-fotherby/pH-box-model/3lpqj632/file_stream',), kwargs: {'json': {'complete': False, 'failed': False}}\n",
      "WARNING:wandb.util:requests_with_retry encountered retryable exception: ('Connection aborted.', ConnectionResetError(54, 'Connection reset by peer')). args: ('https://api.wandb.ai/files/a-fotherby/pH-box-model/1c46517c/file_stream',), kwargs: {'json': {'complete': False, 'failed': False}}\n",
      "WARNING:wandb.util:requests_with_retry encountered retryable exception: ('Connection aborted.', ConnectionResetError(54, 'Connection reset by peer')). args: ('https://api.wandb.ai/files/a-fotherby/pH-box-model/3lpqj632/file_stream',), kwargs: {'json': {'complete': False, 'failed': False}}\n",
      "WARNING:wandb.util:requests_with_retry encountered retryable exception: ('Connection aborted.', ConnectionResetError(54, 'Connection reset by peer')). args: ('https://api.wandb.ai/files/a-fotherby/pH-box-model/3lpqj632/file_stream',), kwargs: {'json': {'complete': False, 'failed': False}}\n",
      "WARNING:wandb.util:requests_with_retry encountered retryable exception: ('Connection aborted.', ConnectionResetError(54, 'Connection reset by peer')). args: ('https://api.wandb.ai/files/a-fotherby/pH-box-model/1c46517c/file_stream',), kwargs: {'json': {'complete': False, 'failed': False}}\n",
      "WARNING:wandb.util:requests_with_retry encountered retryable exception: ('Connection aborted.', ConnectionResetError(54, 'Connection reset by peer')). args: ('https://api.wandb.ai/files/a-fotherby/pH-box-model/3lpqj632/file_stream',), kwargs: {'json': {'complete': False, 'failed': False}}\n",
      "WARNING:wandb.util:requests_with_retry encountered retryable exception: ('Connection aborted.', ConnectionResetError(54, 'Connection reset by peer')). args: ('https://api.wandb.ai/files/a-fotherby/pH-box-model/1c46517c/file_stream',), kwargs: {'json': {'complete': False, 'failed': False}}\n",
      "WARNING:wandb.util:requests_with_retry encountered retryable exception: ('Connection aborted.', ConnectionResetError(54, 'Connection reset by peer')). args: ('https://api.wandb.ai/files/a-fotherby/pH-box-model/1c46517c/file_stream',), kwargs: {'json': {'complete': False, 'failed': False}}\n",
      "WARNING:wandb.util:requests_with_retry encountered retryable exception: ('Connection aborted.', ConnectionResetError(54, 'Connection reset by peer')). args: ('https://api.wandb.ai/files/a-fotherby/pH-box-model/3lpqj632/file_stream',), kwargs: {'json': {'complete': False, 'failed': False}}\n",
      "WARNING:wandb.util:requests_with_retry encountered retryable exception: ('Connection aborted.', ConnectionResetError(54, 'Connection reset by peer')). args: ('https://api.wandb.ai/files/a-fotherby/pH-box-model/1c46517c/file_stream',), kwargs: {'json': {'complete': False, 'failed': False}}\n",
      "WARNING:wandb.util:requests_with_retry encountered retryable exception: HTTPSConnectionPool(host='api.wandb.ai', port=443): Read timed out. (read timeout=None). args: ('https://api.wandb.ai/files/a-fotherby/pH-box-model/1c46517c/file_stream',), kwargs: {'json': {'complete': False, 'failed': False}}\n"
     ]
    }
   ],
   "source": [
    "wandb.agent(sweep_id, function=train) "
   ]
  },
  {
   "cell_type": "code",
   "execution_count": 14,
   "metadata": {},
   "outputs": [
    {
     "data": {
      "text/html": [
       "\n",
       "                Logging results to <a href=\"https://wandb.com\" target=\"_blank\">Weights & Biases</a> <a href=\"https://docs.wandb.com/integrations/jupyter.html\" target=\"_blank\">(Documentation)</a>.<br/>\n",
       "                Project page: <a href=\"https://app.wandb.ai/a-fotherby/pH-box-model\" target=\"_blank\">https://app.wandb.ai/a-fotherby/pH-box-model</a><br/>\n",
       "                Run page: <a href=\"https://app.wandb.ai/a-fotherby/pH-box-model/runs/3lpqj632\" target=\"_blank\">https://app.wandb.ai/a-fotherby/pH-box-model/runs/3lpqj632</a><br/>\n",
       "            "
      ],
      "text/plain": [
       "<IPython.core.display.HTML object>"
      ]
     },
     "metadata": {},
     "output_type": "display_data"
    },
    {
     "name": "stdout",
     "output_type": "stream",
     "text": [
      "WARNING:tensorflow:Layer dense_2 is casting an input tensor from dtype float64 to the layer's dtype of float32, which is new behavior in TensorFlow 2.  The layer has dtype float32 because it's dtype defaults to floatx.\n",
      "\n",
      "If you intended to run this layer in float32, you can safely ignore this warning. If in doubt, this warning is likely only an issue if you are porting a TensorFlow 1.X model to TensorFlow 2.\n",
      "\n",
      "To change all layers to have dtype float64 by default, call `tf.keras.backend.set_floatx('float64')`. To change just this layer, pass dtype='float64' to the layer constructor. If you are the author of this layer, you can disable autocasting by passing autocast=False to the base Layer constructor.\n",
      "\n"
     ]
    },
    {
     "name": "stderr",
     "output_type": "stream",
     "text": [
      "WARNING:tensorflow:Layer dense_2 is casting an input tensor from dtype float64 to the layer's dtype of float32, which is new behavior in TensorFlow 2.  The layer has dtype float32 because it's dtype defaults to floatx.\n",
      "\n",
      "If you intended to run this layer in float32, you can safely ignore this warning. If in doubt, this warning is likely only an issue if you are porting a TensorFlow 1.X model to TensorFlow 2.\n",
      "\n",
      "To change all layers to have dtype float64 by default, call `tf.keras.backend.set_floatx('float64')`. To change just this layer, pass dtype='float64' to the layer constructor. If you are the author of this layer, you can disable autocasting by passing autocast=False to the base Layer constructor.\n",
      "\n"
     ]
    }
   ],
   "source": [
    "train()"
   ]
  },
  {
   "cell_type": "code",
   "execution_count": null,
   "metadata": {},
   "outputs": [],
   "source": []
  }
 ],
 "metadata": {
  "kernelspec": {
   "display_name": "Python 3",
   "language": "python",
   "name": "python3"
  },
  "language_info": {
   "codemirror_mode": {
    "name": "ipython",
    "version": 3
   },
   "file_extension": ".py",
   "mimetype": "text/x-python",
   "name": "python",
   "nbconvert_exporter": "python",
   "pygments_lexer": "ipython3",
   "version": "3.8.3"
  }
 },
 "nbformat": 4,
 "nbformat_minor": 4
}

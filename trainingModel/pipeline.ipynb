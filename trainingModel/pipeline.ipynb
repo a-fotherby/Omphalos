{
 "cells": [
  {
   "cell_type": "code",
   "execution_count": 1,
   "metadata": {},
   "outputs": [],
   "source": [
    "# Set seeds for repeatability.\n",
    "from numpy.random import seed\n",
    "seed(1)\n",
    "\n",
    "# Import data processing modules.\n",
    "import pandas as pd\n",
    "import numpy as np\n",
    "\n",
    "import wandb\n",
    "from wandb.keras import WandbCallback\n",
    "\n",
    "# Import Omphalos modules.\n",
    "import generate_inputs as gi\n",
    "import file_methods as fm\n",
    "import my_metrics as mm\n",
    "import omphalos_plotter as op\n",
    "import attributes as attr\n",
    "import labels as lbls\n",
    "\n",
    "# Import data visualisation modules.\n",
    "import seaborn as sns\n",
    "import matplotlib.pyplot as plt\n",
    "\n",
    "# Import sklearn. \n",
    "import sklearn.preprocessing as skp\n",
    "import sklearn.gaussian_process as gp\n",
    "import sklearn.gaussian_process.kernels as kernels"
   ]
  },
  {
   "cell_type": "code",
   "execution_count": 2,
   "metadata": {},
   "outputs": [
    {
     "name": "stderr",
     "output_type": "stream",
     "text": [
      "/usr/local/lib/python3.8/site-packages/pandas/core/frame.py:6390: SettingWithCopyWarning: \n",
      "A value is trying to be set on a copy of a slice from a DataFrame.\n",
      "Try using .loc[row_indexer,col_indexer] = value instead\n",
      "\n",
      "See the caveats in the documentation: https://pandas.pydata.org/pandas-docs/stable/user_guide/indexing.html#returning-a-view-versus-a-copy\n",
      "  self[col] = expressions.where(mask, this, that)\n"
     ]
    },
    {
     "data": {
      "text/plain": [
       "CO2(aq)          float64\n",
       "O2(aq)           float64\n",
       "NH3(aq)          float64\n",
       "Mg++             float64\n",
       "Al+++            float64\n",
       "Fe++             float64\n",
       "Fe+++            float64\n",
       "Ca++             float64\n",
       "Ca44++           float64\n",
       "K+               float64\n",
       "SO4--            float64\n",
       "S34O4--          float64\n",
       "B(OH)3(aq)       float64\n",
       "HPO4--           float64\n",
       "H2S(aq)          float64\n",
       "H2S34(aq)        float64\n",
       "SiO2(aq)         float64\n",
       "Na+              float64\n",
       "Methane(aq)      float64\n",
       "Cl-              float64\n",
       "NO3-             float64\n",
       "Formaldehyde     float64\n",
       "FeS(am)          float64\n",
       "FeS34(am)        float64\n",
       "SiO2(am)         float64\n",
       "Quartz           float64\n",
       "Siderite         float64\n",
       "Calcite          float64\n",
       "Calcite44        float64\n",
       "K-Feldspar       float64\n",
       "Kaolinite        float64\n",
       "C5H7O2NSO4(s)    float64\n",
       "dtype: object"
      ]
     },
     "execution_count": 2,
     "metadata": {},
     "output_type": "execute_result"
    }
   ],
   "source": [
    "train_set = fm.unpickle('pure_train.pickle')\n",
    "test_set = fm.unpickle('pure_test.pickle')\n",
    "\n",
    "attributes_df = attr.initial_conditions(train_set, primary_species=True, mineral_vols=True)\n",
    "attributes_df.drop(columns=['X', 'Y', 'Z', 'C5H7O2NSO4'], inplace=True)\n",
    "labels_df = lbls.secondary_precip(train_set)\n",
    "attributes_df.dtypes"
   ]
  },
  {
   "cell_type": "code",
   "execution_count": 59,
   "metadata": {},
   "outputs": [],
   "source": [
    "x = attributes_df.loc[:, ['CO2(aq)', 'Ca++', 'Calcite', 'Calcite44' ,'SO4--', 'Formaldehyde']].xs(1, level=1)\n",
    "y = (labels_df.xs(5, level=1)['Calcite'] + labels_df.xs(5, level=1)['Calcite44']).drop(columns=['File Num'])\n",
    "\n",
    "from sklearn.model_selection import train_test_split\n",
    "\n",
    "x_train, x_test, y_train, y_test = train_test_split(x, y, test_size=0.2)"
   ]
  },
  {
   "cell_type": "code",
   "execution_count": 60,
   "metadata": {},
   "outputs": [],
   "source": [
    "from sklearn.pipeline import Pipeline\n",
    "from sklearn.preprocessing import PowerTransformer, Normalizer, QuantileTransformer\n",
    "\n",
    "scaler = QuantileTransformer(output_distribution='normal')\n",
    "\n",
    "numeric_transformer = Pipeline(steps=[('scaler', scaler)])\n",
    "#numeric_transformer = Pipeline(steps=[('scaler', scaler), ('normalizer', Normalizer())])"
   ]
  },
  {
   "cell_type": "code",
   "execution_count": 61,
   "metadata": {},
   "outputs": [],
   "source": [
    "numeric_features = x.select_dtypes(include=['int64', 'float64']).columns\n",
    "from sklearn.compose import ColumnTransformer\n",
    "preprocessor = ColumnTransformer(\n",
    "    transformers=[\n",
    "        ('num', numeric_transformer, numeric_features)])"
   ]
  },
  {
   "cell_type": "code",
   "execution_count": 62,
   "metadata": {},
   "outputs": [],
   "source": [
    "from sklearn.compose import TransformedTargetRegressor\n",
    "from sklearn.preprocessing import PowerTransformer, Normalizer, quantile_transform\n",
    "from sklearn.gaussian_process import GaussianProcessRegressor\n",
    "from sklearn.gaussian_process.kernels import RBF, DotProduct, Matern, RationalQuadratic, WhiteKernel\n",
    "\n",
    "#kernel = (Matern(length_scale=2, nu=2.5) + DotProduct()) * RBF(length_scale=1) + WhiteKernel()\n",
    "#kernel = (Matern(length_scale=2, nu=2.5) + (DotProduct())) * RBF(length_scale=1) + WhiteKernel()\n",
    "#kernel = (Matern(length_scale=0.00001, nu=2.5) + WhiteKernel())\n",
    "kernel = RBF(length_scale=[0.001], length_scale_bounds=(1e-10, 1))\n",
    "\n",
    "#regressor = TransformedTargetRegressor(regressor=GaussianProcessRegressor(kernel, n_restarts_optimizer=1, alpha=1e-3), transformer=QuantileTransformer(output_distribution='normal'))\n",
    "regressor = GaussianProcessRegressor(kernel, n_restarts_optimizer=0, alpha=1e-7, random_state=1)\n",
    "\n",
    "rf = Pipeline(steps=[('regressor', regressor)])"
   ]
  },
  {
   "cell_type": "code",
   "execution_count": null,
   "metadata": {},
   "outputs": [],
   "source": [
    "rf.fit(x_train, y_train)"
   ]
  },
  {
   "cell_type": "code",
   "execution_count": 58,
   "metadata": {},
   "outputs": [],
   "source": [
    "samples = 5000\n",
    "x_pred = np.ones((samples, 5))\n",
    "x_pred[:,0] = x.to_numpy()[:,0].mean()\n",
    "x_pred[:,2] = x.to_numpy()[:,2].mean()\n",
    "x_pred[:,3] = x.to_numpy()[:,3].mean()\n",
    "x_pred[:,4] = x.to_numpy()[:,4].mean()\n",
    "x_pred[:,1] = np.linspace(0.00, 0.12, samples)"
   ]
  },
  {
   "cell_type": "code",
   "execution_count": 133,
   "metadata": {},
   "outputs": [
    {
     "data": {
      "text/plain": [
       "CO2(aq)      0.001976\n",
       "Ca++         0.010284\n",
       "Ca44++       0.000218\n",
       "Calcite      0.089553\n",
       "Calcite44    0.001899\n",
       "dtype: float64"
      ]
     },
     "execution_count": 133,
     "metadata": {},
     "output_type": "execute_result"
    }
   ],
   "source": [
    "x_train.mean()"
   ]
  },
  {
   "cell_type": "code",
   "execution_count": 134,
   "metadata": {},
   "outputs": [
    {
     "data": {
      "text/html": [
       "<div>\n",
       "<style scoped>\n",
       "    .dataframe tbody tr th:only-of-type {\n",
       "        vertical-align: middle;\n",
       "    }\n",
       "\n",
       "    .dataframe tbody tr th {\n",
       "        vertical-align: top;\n",
       "    }\n",
       "\n",
       "    .dataframe thead th {\n",
       "        text-align: right;\n",
       "    }\n",
       "</style>\n",
       "<table border=\"1\" class=\"dataframe\">\n",
       "  <thead>\n",
       "    <tr style=\"text-align: right;\">\n",
       "      <th></th>\n",
       "      <th>CO2(aq)</th>\n",
       "      <th>Ca++</th>\n",
       "      <th>Ca44++</th>\n",
       "      <th>Calcite</th>\n",
       "      <th>Calcite44</th>\n",
       "    </tr>\n",
       "    <tr>\n",
       "      <th>File Num</th>\n",
       "      <th></th>\n",
       "      <th></th>\n",
       "      <th></th>\n",
       "      <th></th>\n",
       "      <th></th>\n",
       "    </tr>\n",
       "  </thead>\n",
       "  <tbody>\n",
       "    <tr>\n",
       "      <th>8167</th>\n",
       "      <td>0.001915</td>\n",
       "      <td>0.006097</td>\n",
       "      <td>0.000129</td>\n",
       "      <td>0.090633</td>\n",
       "      <td>0.001921</td>\n",
       "    </tr>\n",
       "    <tr>\n",
       "      <th>289</th>\n",
       "      <td>0.002104</td>\n",
       "      <td>0.008422</td>\n",
       "      <td>0.000179</td>\n",
       "      <td>0.097557</td>\n",
       "      <td>0.002068</td>\n",
       "    </tr>\n",
       "    <tr>\n",
       "      <th>6183</th>\n",
       "      <td>0.001101</td>\n",
       "      <td>0.006107</td>\n",
       "      <td>0.000130</td>\n",
       "      <td>0.088883</td>\n",
       "      <td>0.001884</td>\n",
       "    </tr>\n",
       "    <tr>\n",
       "      <th>9977</th>\n",
       "      <td>0.002188</td>\n",
       "      <td>0.014873</td>\n",
       "      <td>0.000316</td>\n",
       "      <td>0.094809</td>\n",
       "      <td>0.002010</td>\n",
       "    </tr>\n",
       "    <tr>\n",
       "      <th>4781</th>\n",
       "      <td>0.001462</td>\n",
       "      <td>0.006115</td>\n",
       "      <td>0.000130</td>\n",
       "      <td>0.083111</td>\n",
       "      <td>0.001762</td>\n",
       "    </tr>\n",
       "    <tr>\n",
       "      <th>...</th>\n",
       "      <td>...</td>\n",
       "      <td>...</td>\n",
       "      <td>...</td>\n",
       "      <td>...</td>\n",
       "      <td>...</td>\n",
       "    </tr>\n",
       "    <tr>\n",
       "      <th>7399</th>\n",
       "      <td>0.002480</td>\n",
       "      <td>0.011856</td>\n",
       "      <td>0.000252</td>\n",
       "      <td>0.084183</td>\n",
       "      <td>0.001785</td>\n",
       "    </tr>\n",
       "    <tr>\n",
       "      <th>5731</th>\n",
       "      <td>0.000952</td>\n",
       "      <td>0.012225</td>\n",
       "      <td>0.000259</td>\n",
       "      <td>0.097294</td>\n",
       "      <td>0.002063</td>\n",
       "    </tr>\n",
       "    <tr>\n",
       "      <th>3303</th>\n",
       "      <td>0.001059</td>\n",
       "      <td>0.011491</td>\n",
       "      <td>0.000244</td>\n",
       "      <td>0.090725</td>\n",
       "      <td>0.001923</td>\n",
       "    </tr>\n",
       "    <tr>\n",
       "      <th>3640</th>\n",
       "      <td>0.001748</td>\n",
       "      <td>0.007381</td>\n",
       "      <td>0.000157</td>\n",
       "      <td>0.094519</td>\n",
       "      <td>0.002004</td>\n",
       "    </tr>\n",
       "    <tr>\n",
       "      <th>2561</th>\n",
       "      <td>0.002493</td>\n",
       "      <td>0.006623</td>\n",
       "      <td>0.000141</td>\n",
       "      <td>0.088716</td>\n",
       "      <td>0.001881</td>\n",
       "    </tr>\n",
       "  </tbody>\n",
       "</table>\n",
       "<p>97 rows × 5 columns</p>\n",
       "</div>"
      ],
      "text/plain": [
       "           CO2(aq)      Ca++    Ca44++   Calcite  Calcite44\n",
       "File Num                                                   \n",
       "8167      0.001915  0.006097  0.000129  0.090633   0.001921\n",
       "289       0.002104  0.008422  0.000179  0.097557   0.002068\n",
       "6183      0.001101  0.006107  0.000130  0.088883   0.001884\n",
       "9977      0.002188  0.014873  0.000316  0.094809   0.002010\n",
       "4781      0.001462  0.006115  0.000130  0.083111   0.001762\n",
       "...            ...       ...       ...       ...        ...\n",
       "7399      0.002480  0.011856  0.000252  0.084183   0.001785\n",
       "5731      0.000952  0.012225  0.000259  0.097294   0.002063\n",
       "3303      0.001059  0.011491  0.000244  0.090725   0.001923\n",
       "3640      0.001748  0.007381  0.000157  0.094519   0.002004\n",
       "2561      0.002493  0.006623  0.000141  0.088716   0.001881\n",
       "\n",
       "[97 rows x 5 columns]"
      ]
     },
     "execution_count": 134,
     "metadata": {},
     "output_type": "execute_result"
    }
   ],
   "source": [
    "test = x_train[(x_train['Ca44++'] <= 0.00032) & (x_train['Ca44++'] >= 0.00012) & (x_train['CO2(aq)'] >= 0.0009) & (x_train['CO2(aq)'] <= 0.0029) \n",
    "               & (x_train['Calcite'] >= 0.08) & (x_train['Calcite'] <= 0.10) & (x_train['Calcite44'] >= 0.0009) & (x_train['Calcite44'] <= 0.0029)]\n",
    "#test[test['Ca44++'] >= 0.000220]\n",
    "test"
   ]
  },
  {
   "cell_type": "code",
   "execution_count": 37,
   "metadata": {},
   "outputs": [
    {
     "name": "stderr",
     "output_type": "stream",
     "text": [
      "/usr/local/lib/python3.8/site-packages/sklearn/gaussian_process/_gpr.py:370: UserWarning: Predicted variances smaller than 0. Setting those variances to 0.\n",
      "  warnings.warn(\"Predicted variances smaller than 0. \"\n"
     ]
    }
   ],
   "source": [
    "y_pred, sigmas = rf.predict(x_pred, return_std=True)"
   ]
  },
  {
   "cell_type": "code",
   "execution_count": 40,
   "metadata": {},
   "outputs": [
    {
     "data": {
      "image/png": "[encoded data removed]",
      "text/plain": [
       "<Figure size 748.8x514.8 with 1 Axes>"
      ]
     },
     "metadata": {
      "needs_background": "light"
     },
     "output_type": "display_data"
    }
   ],
   "source": [
    "#f = plt.errorbar(x_pred[:,1], y_pred, yerr=sigmas, capsize=0, ecolor='#01153e10', label='Fitted curve & 70% confidence interval')\n",
    "plt.style.use('seaborn-talk')\n",
    "f, ax = plt.subplots(1,1)\n",
    "ax.plot(x_pred[:,1], y_pred, label='Fitted curve')\n",
    "ax.fill_between(x_pred[:,1], y_pred - sigmas, y_pred + sigmas, alpha=0.2, color='k', label='70% confidence interval')\n",
    "#ax.scatter(test['Ca++'].to_numpy(), y_train[test.index], marker=\"+\", color='#980002', label='Modelled Net Precipitation')\n",
    "ax.set_xlabel('[Ca$^{2+}$] (mM)')\n",
    "ax.set_ylabel('Net Calcite precipitation (vol. frac.)')\n",
    "plt.legend()\n",
    "plt.savefig('fit.png', dpi=300, bbox_inches='tight')\n",
    "ax.set_xlim(0.005, 0.016)\n",
    "ax.set_ylim(-0.002, 0.002)\n",
    "plt.savefig('fit_zoom.png', dpi=300, bbox_inches='tight')\n"
   ]
  },
  {
   "cell_type": "code",
   "execution_count": 52,
   "metadata": {},
   "outputs": [
    {
     "name": "stdout",
     "output_type": "stream",
     "text": [
      "0.9426201848851562\n",
      "0.9277000141707513\n"
     ]
    }
   ],
   "source": [
    "print(rf.score(x_train, y_train))\n",
    "print(rf.score(x_test, y_test))"
   ]
  },
  {
   "cell_type": "code",
   "execution_count": 11,
   "metadata": {},
   "outputs": [
    {
     "data": {
      "text/plain": [
       "{'kernel': RBF(length_scale=0.001),\n",
       " 'alpha': 1e-07,\n",
       " 'optimizer': 'fmin_l_bfgs_b',\n",
       " 'n_restarts_optimizer': 0,\n",
       " 'normalize_y': False,\n",
       " 'copy_X_train': True,\n",
       " 'random_state': 1,\n",
       " 'kernel_': RBF(length_scale=0.554),\n",
       " '_rng': RandomState(MT19937) at 0x166DA1440,\n",
       " 'n_features_in_': 5,\n",
       " '_y_train_mean': array([0.]),\n",
       " '_y_train_std': 1,\n",
       " 'X_train_': array([[4.59824425e-04, 1.72747016e-02, 3.66683958e-04, 1.57669867e-02,\n",
       "         3.34262259e-04],\n",
       "        [1.34502482e-03, 3.83411090e-03, 8.13853110e-05, 2.57021356e-01,\n",
       "         5.44888765e-03],\n",
       "        [8.92403782e-04, 7.46380318e-03, 1.58431500e-04, 1.95311704e-02,\n",
       "         4.14063463e-04],\n",
       "        ...,\n",
       "        [4.90039231e-03, 1.12515478e-04, 2.38832611e-06, 6.20667082e-02,\n",
       "         1.31582264e-03],\n",
       "        [8.15282159e-03, 2.33075354e-02, 4.94740780e-04, 1.03700746e-01,\n",
       "         2.19846990e-03],\n",
       "        [3.09804183e-04, 1.14817573e-03, 2.43719187e-05, 4.64898812e-02,\n",
       "         9.85591793e-04]]),\n",
       " 'y_train_': array([ 0.00022938, -0.00026214, -0.00024019, ..., -0.00023882,\n",
       "         0.00116942, -0.00066487]),\n",
       " 'log_marginal_likelihood_value_': 55897.52150769829,\n",
       " 'L_': array([[ 1.00000005e+00,  0.00000000e+00,  0.00000000e+00, ...,\n",
       "          0.00000000e+00,  0.00000000e+00,  0.00000000e+00],\n",
       "        [ 9.09195042e-01,  4.16370599e-01,  0.00000000e+00, ...,\n",
       "          0.00000000e+00,  0.00000000e+00,  0.00000000e+00],\n",
       "        [ 9.99819619e-01,  7.41962909e-03,  1.74865114e-02, ...,\n",
       "          0.00000000e+00,  0.00000000e+00,  0.00000000e+00],\n",
       "        ...,\n",
       "        [ 9.96000395e-01,  8.24069047e-02,  2.90655462e-02, ...,\n",
       "          3.16506400e-04,  0.00000000e+00,  0.00000000e+00],\n",
       "        [ 9.87317846e-01,  1.53865923e-01, -1.46089189e-02, ...,\n",
       "         -7.67507571e-08,  3.17293397e-04,  0.00000000e+00],\n",
       "        [ 9.98038807e-01,  5.48948707e-02,  2.76858006e-02, ...,\n",
       "          7.07148162e-08, -8.11166228e-09,  3.16387133e-04]]),\n",
       " '_K_inv': None,\n",
       " 'alpha_': array([  726.18710971,    72.9434488 ,  -587.40165432, ...,\n",
       "         2054.51506613,  1295.14769835, -1018.13663689])}"
      ]
     },
     "execution_count": 11,
     "metadata": {},
     "output_type": "execute_result"
    }
   ],
   "source": [
    "rf['regressor'].__dict__"
   ]
  },
  {
   "cell_type": "code",
   "execution_count": 273,
   "metadata": {},
   "outputs": [
    {
     "data": {
      "text/plain": [
       "count      2000.000000\n",
       "mean         66.590606\n",
       "std        5588.584868\n",
       "min      -68619.016994\n",
       "25%         -38.870749\n",
       "50%         -12.146856\n",
       "75%          16.924261\n",
       "max      232886.909670\n",
       "dtype: float64"
      ]
     },
     "execution_count": 273,
     "metadata": {},
     "output_type": "execute_result"
    }
   ],
   "source": [
    "y_pred = rf.predict(x_test)\n",
    "percent = (100 * ((y_pred - y_test) / y_test))\n",
    "percent.describe()"
   ]
  },
  {
   "cell_type": "code",
   "execution_count": 281,
   "metadata": {},
   "outputs": [
    {
     "data": {
      "text/plain": [
       "(-1000.0, 1000.0)"
      ]
     },
     "execution_count": 281,
     "metadata": {},
     "output_type": "execute_result"
    },
    {
     "data": {
      "image/png": "[encoded data removed]",
      "text/plain": [
       "<Figure size 432x288 with 1 Axes>"
      ]
     },
     "metadata": {
      "needs_background": "light"
     },
     "output_type": "display_data"
    }
   ],
   "source": [
    "f = plt.boxplot(percent, vert=False)\n",
    "plt.xlim(-1000,1000)"
   ]
  },
  {
   "cell_type": "code",
   "execution_count": 221,
   "metadata": {},
   "outputs": [],
   "source": [
    "# from sklearn.preprocessing import power_transform\n",
    "\n",
    "v = rf[:1].fit_transform(x_train)\n",
    "w = np.array(y_train)\n",
    "u = quantile_transform(w.reshape(-1,1), output_distribution='normal')"
   ]
  }
 ],
 "metadata": {
  "kernelspec": {
   "display_name": "Python 3",
   "language": "python",
   "name": "python3"
  },
  "language_info": {
   "codemirror_mode": {
    "name": "ipython",
    "version": 3
   },
   "file_extension": ".py",
   "mimetype": "text/x-python",
   "name": "python",
   "nbconvert_exporter": "python",
   "pygments_lexer": "ipython3",
   "version": "3.8.6"
  }
 },
 "nbformat": 4,
 "nbformat_minor": 4
}
